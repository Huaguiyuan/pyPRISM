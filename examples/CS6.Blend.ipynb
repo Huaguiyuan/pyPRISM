{
 "cells": [
  {
   "cell_type": "markdown",
   "metadata": {},
   "source": [
    "Polymer Blend\n",
    "===========\n",
    "\n",
    "insert description\n",
    "\n",
    "### Concepts Used\n",
    "- blergh\n",
    "\n",
    "### Tools Used\n",
    "- blergh"
   ]
  },
  {
   "cell_type": "markdown",
   "metadata": {},
   "source": [
    "References\n",
    "-----------\n",
    "1. Yethiraj, A.; Schweizer, K.S.; Integral equation theory of polymer blends: Numerical Investigation of molecular closure approximations, J. Chem. Phys., 1993, 98 (11) \n",
    " \n",
    "  "
   ]
  },
  {
   "cell_type": "markdown",
   "metadata": {},
   "source": [
    "Global Imports and Setup\n",
    "----------------------------"
   ]
  },
  {
   "cell_type": "code",
   "execution_count": null,
   "metadata": {
    "ExecuteTime": {
     "end_time": "2017-09-09T00:07:04.202030Z",
     "start_time": "2017-09-09T00:07:02.185396Z"
    }
   },
   "outputs": [],
   "source": [
    "import numpy as np\n",
    "import holoviews as hv\n",
    "hv.extension('bokeh','matplotlib')\n",
    "\n",
    "%load_ext autoreload\n",
    "%autoreload 2"
   ]
  },
  {
   "cell_type": "code",
   "execution_count": null,
   "metadata": {
    "ExecuteTime": {
     "end_time": "2017-09-08T19:14:18.735145Z",
     "start_time": "2017-09-08T19:14:15.307103Z"
    },
    "collapsed": true,
    "scrolled": true
   },
   "outputs": [],
   "source": [
    "import typyPRISM\n",
    "import numpy as np\n",
    "\n",
    "delta = 0.05#0.385\n",
    "factor = 1.0/(1.0 - delta)\n",
    "\n",
    "N = 8\n",
    "sigma = l = 1.0\n",
    "phi   = 0.5\n",
    "eta   = 0.3\n",
    "v1   = 4.0/3.0 * np.pi * (sigma/2.0)**(3.0)\n",
    "rhoA = phi * eta/v1*factor\n",
    "rhoB = (1-phi) * eta/v1*factor\n",
    "eps_bend = 0.0001\n",
    "kT = 1.0\n",
    "print(rhoA,rhoB)\n",
    "sys = typyPRISM.System(['A','B'],kT=kT)\n",
    "sys.domain = typyPRISM.Domain(dr=0.05,length=2048)\n",
    "\n",
    "sys.density['A'] = rhoA\n",
    "sys.density['B'] = rhoB\n",
    "\n",
    "sys.potential[sys.types,sys.types] = typyPRISM.potential.HardSphere(sigma=sigma)\n",
    "sys.closure[sys.types,sys.types] = typyPRISM.closure.PercusYevick()\n",
    "sys.omega[sys.types,sys.types] = typyPRISM.omega.DiscreteKoyama(epsilon=eps_bend,length=N,sigma=sigma,l=l)\n",
    "sys.omega['A','B'] = typyPRISM.omega.InterMolecular()\n",
    "\n",
    "lam_list = []\n",
    "guess = np.zeros(sys.domain.length*sys.rank*sys.rank)\n",
    "for i,epsilon in enumerate(np.arange(0.05,0.20,0.01)):\n",
    "    epsilon *= -1.0\n",
    "    print('T=',kT/abs(epsilon))\n",
    "    print('1/T=',abs(epsilon)/kT)\n",
    "\n",
    "    sys.potential['A','B'] = typyPRISM.potential.HardCoreLennardJones(epsilon=epsilon,sigma=sigma)\n",
    "\n",
    "    PRISM = sys.createPRISM()\n",
    "    PRISM.solve(guess,method='krylov')\n",
    "\n",
    "    lam = typyPRISM.calculate.prism.spinodal_condition(PRISM)\n",
    "    lam_list.append([abs(epsilon),lam['A','B']])\n",
    "    \n",
    "    guess = np.copy(PRISM.x)\n",
    "    \n",
    "    print(np.array(lam_list))\n",
    "\n",
    "np.array(lam_list)"
   ]
  },
  {
   "cell_type": "markdown",
   "metadata": {},
   "source": [
    "array([[  0.05      ,  10.03755618],\n",
    "       [  0.06      ,   9.93573183],\n",
    "       [  0.07      ,   9.8365841 ],\n",
    "       [  0.08      ,   9.74023169],\n",
    "       [  0.09      ,   9.64679469],\n",
    "       [  0.1       ,   9.55639464],\n",
    "       [  0.11      ,   9.46915468],\n",
    "       [  0.12      ,   9.38519964],\n",
    "       [  0.13      ,   9.30465622],\n",
    "       [  0.14      ,   9.22765324],\n",
    "       [  0.15      ,   9.15432181],\n",
    "       [  0.16      ,   9.08479569],\n",
    "       [  0.17      ,   9.01921167],\n",
    "       [  0.18      ,   8.95770976],\n",
    "       [  0.19      ,   8.9004343 ],\n",
    "       [  0.2       ,   8.84753398]])"
   ]
  },
  {
   "cell_type": "code",
   "execution_count": null,
   "metadata": {
    "ExecuteTime": {
     "end_time": "2017-09-08T15:07:20.616731Z",
     "start_time": "2017-09-08T15:07:20.101990Z"
    },
    "collapsed": true
   },
   "outputs": [],
   "source": [
    "%%opts Scatter (alpha=0.5)\n",
    "%%opts Overlay [width=600,height=400]\n",
    "%%output backend='matplotlib'\n",
    "\n",
    "markers = {}\n",
    "markers['A','A'] = 'o'\n",
    "markers['A','B'] = '^'\n",
    "markers['B','B'] = 'd'\n",
    "\n",
    "curves = []\n",
    "for i,(t1,t2),U in sys.potential.iterpairs():\n",
    "    x = sys.domain.r\n",
    "    y = U.calculate(x)/sys.kT\n",
    "    miny = -1.1*abs(epsilon)\n",
    "    maxy = +1.1*abs(epsilon)\n",
    "    label = '{}-{}'.format(t1,t2)\n",
    "    style = {}# {'marker':markers[t1,t2],'marker_size':12}\n",
    "    c1 = hv.Curve((x,y),extents=(0,miny,4,maxy),label=label)(style=style)\n",
    "    curves.append(c1)\n",
    "\n",
    "hv.Overlay(curves)\n",
    "    \n"
   ]
  },
  {
   "cell_type": "code",
   "execution_count": null,
   "metadata": {
    "ExecuteTime": {
     "end_time": "2017-09-08T15:30:01.553434Z",
     "start_time": "2017-09-08T15:30:01.285501Z"
    },
    "collapsed": true
   },
   "outputs": [],
   "source": [
    "x= sys.domain.r\n",
    "gr = typyPRISM.calculate.prism.pair_correlation(PRISM)\n",
    "\n",
    "curves = []\n",
    "for i,(t1,t2),y in gr.itercurve():\n",
    "    label = '{}-{}'.format(t1,t2)\n",
    "    c1 = hv.Curve((x,y),extents=(0,None,10,None),label=label)\n",
    "    curves.append(c1)\n",
    "\n",
    "hv.Overlay(curves)\n",
    "    "
   ]
  },
  {
   "cell_type": "code",
   "execution_count": null,
   "metadata": {
    "ExecuteTime": {
     "end_time": "2017-09-08T19:20:36.867614Z",
     "start_time": "2017-09-08T19:20:36.732184Z"
    },
    "collapsed": true
   },
   "outputs": [],
   "source": [
    "import typyPRISM\n",
    "import scipy\n",
    "import numpy as np\n",
    "\n",
    "def density_correction(sigma,N,domain,omega_real):\n",
    "    r = domain.r\n",
    "    \n",
    "    integrand  =(np.pi/6.0)*(sigma**(3.0)) \n",
    "    integrand *=(1 - 3*r/(2*sigma) + 0.5*(r/sigma)**(3.0))\n",
    "    integrand *= omega_real\n",
    "    integrand *= 4*np.pi*r*r\n",
    "    \n",
    "    integrand[r>sigma] = 0.0 # we only integrate inside the hard core\n",
    "    delta  = scipy.integrate.simps(integrand,x=r)\n",
    "    delta *= 1.0/(N*np.pi*sigma*sigma*sigma/6.0)\n",
    "    \n",
    "    factor = 1/(1-delta)\n",
    "    return delta,factor\n",
    "\n",
    "eps_bend = 0.0001\n",
    "N = 20\n",
    "l = sigma = 1.0\n",
    "O = typyPRISM.omega.DiscreteKoyama(epsilon=eps_bend,length=N,sigma=sigma,l=l)\n",
    "rho = sys.siteDensityMatrix[0,0]\n",
    "omega_fourier = O.calculate2(sys.domain.k) \n",
    "omega_real = sys.domain.to_real(omega_fourier)\n",
    "print(O.lp,np.arccos(O.cos0),np.pi/3)\n",
    "\n",
    "density_correction(sigma,N,sys.domain,omega_real)"
   ]
  },
  {
   "cell_type": "code",
   "execution_count": null,
   "metadata": {
    "ExecuteTime": {
     "end_time": "2017-09-08T19:06:06.395008Z",
     "start_time": "2017-09-08T19:06:06.346900Z"
    },
    "collapsed": true
   },
   "outputs": [],
   "source": [
    "0.099388516874491392*2.0"
   ]
  },
  {
   "cell_type": "code",
   "execution_count": null,
   "metadata": {
    "ExecuteTime": {
     "end_time": "2017-09-09T00:07:18.567415Z",
     "start_time": "2017-09-09T00:07:18.483283Z"
    }
   },
   "outputs": [],
   "source": [
    "from scipy.optimize import root\n",
    "sigma = l = 1.0\n",
    "lp = 1.0*l\n",
    "# lp = 3*l\n",
    "cos0    = 1 - sigma*sigma/(2.0 * l * l)\n",
    "cos1 = l/lp - 1\n",
    "\n",
    "def cos_avg(e,cos0):\n",
    "    return 1/e  - ( np.exp(e) + cos0*np.exp(-e*cos0) )/( np.exp(e) - np.exp(-e*cos0) )\n",
    "\n",
    "def funk(e):\n",
    "    return cos_avg(e,cos0) - cos1\n",
    "\n",
    "\n",
    "\n",
    "result = root(funk,0.1)\n",
    "print(result)\n",
    "print(cos_avg(result.x,cos0))\n",
    "\n",
    "\n",
    "\n",
    "\n",
    "\n",
    "\n",
    "\n",
    "\n"
   ]
  },
  {
   "cell_type": "code",
   "execution_count": null,
   "metadata": {
    "ExecuteTime": {
     "end_time": "2017-09-08T21:03:48.502962Z",
     "start_time": "2017-09-08T21:03:48.352467Z"
    },
    "collapsed": true
   },
   "outputs": [],
   "source": [
    "epsilon = result.x\n",
    "theta = np.arange(0,2*np.pi,0.01)\n",
    "E = epsilon*(1 + np.cos(theta))\n",
    "hv.Curve((theta,E))"
   ]
  },
  {
   "cell_type": "code",
   "execution_count": null,
   "metadata": {
    "collapsed": true
   },
   "outputs": [],
   "source": []
  }
 ],
 "metadata": {
  "kernelspec": {
   "display_name": "Python 3",
   "language": "python",
   "name": "python3"
  },
  "language_info": {
   "codemirror_mode": {
    "name": "ipython",
    "version": 3
   },
   "file_extension": ".py",
   "mimetype": "text/x-python",
   "name": "python",
   "nbconvert_exporter": "python",
   "pygments_lexer": "ipython3",
   "version": "3.6.2"
  }
 },
 "nbformat": 4,
 "nbformat_minor": 2
}
