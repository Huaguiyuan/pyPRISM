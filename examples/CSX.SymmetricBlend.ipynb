{
 "cells": [
  {
   "cell_type": "code",
   "execution_count": null,
   "metadata": {
    "ExecuteTime": {
     "end_time": "2017-08-24T20:14:51.602184Z",
     "start_time": "2017-08-24T20:14:50.193658Z"
    }
   },
   "outputs": [],
   "source": [
    "import holoviews as hv\n",
    "hv.extension('bokeh')"
   ]
  },
  {
   "cell_type": "code",
   "execution_count": null,
   "metadata": {
    "ExecuteTime": {
     "end_time": "2017-08-24T20:14:51.643944Z",
     "start_time": "2017-08-24T20:14:51.604240Z"
    },
    "collapsed": true
   },
   "outputs": [],
   "source": [
    "%load_ext autoreload\n",
    "%autoreload 2\n",
    "\n",
    "import sys\n",
    "sys.path.insert(0,'../')\n",
    "\n",
    "from IPython.core.debugger import set_trace"
   ]
  },
  {
   "cell_type": "code",
   "execution_count": null,
   "metadata": {
    "ExecuteTime": {
     "end_time": "2017-08-24T20:45:38.531022Z",
     "start_time": "2017-08-24T20:44:45.863265Z"
    }
   },
   "outputs": [],
   "source": [
    "import typyPRISM\n",
    "from typyPRISM.calculate.prism.pair_correlation import pair_correlation\n",
    "import numpy as np\n",
    "\n",
    "eta = 0.45\n",
    "v1 = 4.0/3.0 * np.pi * (0.5)**(3)\n",
    "phi = 0.5\n",
    "rho1 = phi*eta/v1\n",
    "rho2 = (1-phi)*eta/v1\n",
    "\n",
    "sys = typyPRISM.System(['A','B'],kT=1.0)\n",
    "sys.domain = typyPRISM.Domain(dr=0.1,length=2048)\n",
    "\n",
    "sys.density['A'] = rho1\n",
    "sys.density['B'] = rho2\n",
    "\n",
    "\n",
    "sys.potential['A','A'] = typyPRISM.potential.HardSphere(sigma=1.0)\n",
    "sys.potential['B','B'] = typyPRISM.potential.HardSphere(sigma=1.0)\n",
    "sys.potential['A','B'] = typyPRISM.potential.HardSphere(sigma=1.0)\n",
    "\n",
    "sys.closure[sys.types,sys.types] = typyPRISM.closure.PercusYevick()\n",
    "\n",
    "guess = np.zeros(sys.rank*sys.rank*sys.domain.length)\n",
    "for length in [10000,2000,500]:\n",
    "    sys.omega[sys.types,sys.types] = typyPRISM.omega.Gaussian(sigma=1.0,length=length)\n",
    "    \n",
    "    PRISM = sys.createPRISM()\n",
    "    \n",
    "    result = PRISM.solve(guess)\n",
    "    \n",
    "    guess = np.copy(PRISM.x)\n",
    "\n",
    "guess_eps0_N500 = guess\n"
   ]
  },
  {
   "cell_type": "code",
   "execution_count": null,
   "metadata": {
    "ExecuteTime": {
     "end_time": "2017-08-18T12:12:24.112575Z",
     "start_time": "2017-08-18T12:12:23.939595Z"
    }
   },
   "outputs": [],
   "source": [
    "%opts Scatter Curve [width=600,height=400] Scatter (size=10,alpha=0.5)\n",
    "from typyPRISM.calculate.prism.pair_correlation import pair_correlation\n",
    "\n",
    "cv = np.array(chi_values)\n",
    "\n",
    "hv.Scatter((cv[:,0],cv[:,1]/c50),extents=(None,None,None,None))\n",
    "    "
   ]
  },
  {
   "cell_type": "markdown",
   "metadata": {},
   "source": [
    "# REPULSION"
   ]
  },
  {
   "cell_type": "code",
   "execution_count": null,
   "metadata": {
    "ExecuteTime": {
     "end_time": "2017-08-24T20:44:20.258800Z",
     "start_time": "2017-08-24T20:44:20.117920Z"
    }
   },
   "outputs": [],
   "source": [
    "from typyPRISM.calculate.prism.chi import chi\n",
    "\n",
    "sys = typyPRISM.System(['A','B'],kT=1.0)\n",
    "sys.domain = typyPRISM.Domain(dr=0.1,length=2048)\n",
    "\n",
    "sys.density['A'] = rho1\n",
    "sys.density['B'] = rho2\n",
    "\n",
    "sys.potential['A','A'] = typyPRISM.potential.HardSphere(sigma=1.0)\n",
    "sys.potential['B','B'] = typyPRISM.potential.HardSphere(sigma=1.0)\n",
    "\n",
    "sys.closure[sys.types,sys.types] = typyPRISM.closure.PercusYevick()\n",
    "sys.omega[sys.types,sys.types] = typyPRISM.omega.Gaussian(sigma=1.0,length=length)\n",
    "\n",
    "\n",
    "guess = np.copy(guess_eps0_N500)\n",
    "for eps in [0.1,0.25,0.5,0.75,1.0]:\n",
    "    print('==> eps:',eps)\n",
    "    sys.potential['A','B'] = typyPRISM.potential.WeeksChandlerAndersen(sigma=1.0,epsilon=eps)\n",
    "\n",
    "    PRISM = sys.createPRISM()\n",
    "    \n",
    "    result = PRISM.solve(guess)\n",
    "    \n",
    "    guess = np.copy(PRISM.x)\n",
    "    \n",
    "    c = chi(PRISM)[('A','B')][0]\n",
    "    print(c,c*500)\n",
    "guess_repel_N500= np.copy(guess)\n"
   ]
  },
  {
   "cell_type": "code",
   "execution_count": null,
   "metadata": {
    "ExecuteTime": {
     "end_time": "2017-08-24T20:41:04.747082Z",
     "start_time": "2017-08-24T20:41:04.397038Z"
    }
   },
   "outputs": [],
   "source": [
    "from typyPRISM.calculate.prism.chi import chi\n",
    "\n",
    "sys = typyPRISM.System(['A','B'],kT=1.0)\n",
    "sys.domain = typyPRISM.Domain(dr=0.1,length=1024)\n",
    "\n",
    "sys.density['A'] = rho1\n",
    "sys.density['B'] = rho2\n",
    "\n",
    "sys.potential['A','A'] = typyPRISM.potential.HardSphere(sigma=1.0)\n",
    "sys.potential['B','B'] = typyPRISM.potential.HardSphere(sigma=1.0)\n",
    "sys.potential['A','B'] = typyPRISM.potential.HardCoreLennardJones(sigma=1.0,epsilon=-0.010)#+0.0005)\n",
    "# sys.potential['A','B'] = typyPRISM.potential.HardCoreLennardJones(sigma=1.0,epsilon=-0.0010)#+0.0005)\n",
    "\n",
    "sys.closure[sys.types,sys.types] = typyPRISM.closure.PercusYevick()\n",
    "\n",
    "sys.omega[sys.types,sys.types] = typyPRISM.omega.Gaussian(sigma=1.0,length=length)\n",
    "\n",
    "PRISM = sys.createPRISM()\n",
    "\n",
    "result = PRISM.solve(guess_repel_N500)\n",
    "\n",
    "guess_HCLJ_N500 = np.copy(PRISM.x)\n",
    "\n",
    "c = chi(PRISM)[('A','B')][0]\n",
    "print(c,c*500)\n"
   ]
  },
  {
   "cell_type": "code",
   "execution_count": null,
   "metadata": {
    "ExecuteTime": {
     "end_time": "2017-08-24T20:43:26.381143Z",
     "start_time": "2017-08-24T20:43:26.004183Z"
    }
   },
   "outputs": [],
   "source": [
    "%opts Scatter Curve [width=600,height=400]\n",
    "%opts Layout [shared_axes=False]\n",
    "from typyPRISM.calculate.prism.pair_correlation import pair_correlation\n",
    "\n",
    "c = chi(PRISM)\n",
    "\n",
    "\n",
    "c1 = hv.Scatter((sys.domain.k,c['A','B']),extents=(0,None,None,None))\n",
    "\n",
    "r = sys.domain.r\n",
    "U = sys.potential['A','B'].calculate(r)\n",
    "c2 = hv.Curve((sys.domain.r,U),extents=(0,-0.01,2.5,0.01))\n",
    "\n",
    "hv.Layout([c1,c2]).cols(1)"
   ]
  },
  {
   "cell_type": "code",
   "execution_count": null,
   "metadata": {
    "ExecuteTime": {
     "end_time": "2017-08-24T20:36:08.886500Z",
     "start_time": "2017-08-24T20:36:05.673322Z"
    }
   },
   "outputs": [],
   "source": [
    "from typyPRISM.calculate.prism.chi import chi\n",
    "\n",
    "sys = typyPRISM.System(['A','B'],kT=1.0)\n",
    "sys.domain = typyPRISM.Domain(dr=0.1,length=1024)\n",
    "\n",
    "sys.density['A'] = rho1\n",
    "sys.density['B'] = rho2\n",
    "\n",
    "sys.potential['A','A'] = typyPRISM.potential.HardSphere(sigma=1.0)\n",
    "sys.potential['B','B'] = typyPRISM.potential.HardSphere(sigma=1.0)\n",
    "sys.potential['A','B'] = typyPRISM.potential.HardCoreLennardJones(sigma=1.0,epsilon=-0.0075)#+0.0005)\n",
    "\n",
    "sys.closure[sys.types,sys.types] = typyPRISM.closure.PercusYevick()\n",
    "\n",
    "sys.omega[sys.types,sys.types] = typyPRISM.omega.Gaussian(sigma=1.0,length=length)\n",
    "\n",
    "chi_values = []\n",
    "guess1 = np.copy(guess_HCLJ_N500)\n",
    "for phi in np.arange(0.5,0.1,-0.05):\n",
    "    sys.density['A'] = phi*eta/v1\n",
    "    sys.density['B'] = (1-phi)*eta/v1\n",
    "    \n",
    "    print('==> Solving for...')\n",
    "    print('==> phi={}'.format(phi))\n",
    "    print('==> rhoA={}'.format(sys.density['A']))\n",
    "    print('==> rhoB={}'.format(sys.density['B']))\n",
    "\n",
    "    PRISM = sys.createPRISM()\n",
    "    \n",
    "    result = PRISM.solve(guess1)\n",
    "    \n",
    "    c = chi(PRISM)['A','B'][0]\n",
    "    chi_values.append([phi,c])\n",
    "    \n",
    "    guess1 = np.copy(PRISM.x)\n",
    "    \n",
    "c50 = chi_values[0][1]\n",
    "chi_values = chi_values[::-1]\n",
    "\n",
    "guess1 = np.copy(guess_HCLJ_N500)\n",
    "for phi in np.arange(0.5,0.9,+0.05):\n",
    "    sys.density['A'] = phi*eta/v1\n",
    "    sys.density['B'] = (1-phi)*eta/v1\n",
    "    \n",
    "    print('==> Solving for...')\n",
    "    print('==> phi={}'.format(phi))\n",
    "    print('==> rhoA={}'.format(sys.density['A']))\n",
    "    print('==> rhoB={}'.format(sys.density['B']))\n",
    "\n",
    "    PRISM = sys.createPRISM()\n",
    "    \n",
    "    result = PRISM.solve(guess1)\n",
    "    \n",
    "    c = chi(PRISM)['A','B'][0]\n",
    "    chi_values.append([phi,c])\n",
    "    \n",
    "    guess1 = np.copy(PRISM.x)\n",
    "chi_values = np.array(chi_values)\n",
    "print(chi_values)"
   ]
  },
  {
   "cell_type": "code",
   "execution_count": null,
   "metadata": {
    "ExecuteTime": {
     "end_time": "2017-08-24T20:36:12.032561Z",
     "start_time": "2017-08-24T20:36:11.679825Z"
    }
   },
   "outputs": [],
   "source": [
    "%opts Scatter Curve [width=600,height=400] Scatter (size=10,alpha=0.5)\n",
    "from typyPRISM.calculate.prism.pair_correlation import pair_correlation\n",
    "\n",
    "cv = np.array(chi_values)\n",
    "\n",
    "hv.Scatter((cv[:,0],cv[:,1]/c50),extents=(None,None,None,None))\n",
    "    "
   ]
  },
  {
   "cell_type": "code",
   "execution_count": null,
   "metadata": {
    "ExecuteTime": {
     "end_time": "2017-08-24T20:16:02.754291Z",
     "start_time": "2017-08-24T20:16:02.487538Z"
    }
   },
   "outputs": [],
   "source": [
    "%opts Scatter Curve [width=600,height=400]\n",
    "from typyPRISM.calculate.prism.pair_correlation import pair_correlation\n",
    "\n",
    "PCF = pair_correlation(PRISM)\n",
    "\n",
    "plots = []\n",
    "for i,t,gr in PCF.itercolumn():\n",
    "    c1 = hv.Curve((sys.domain.r,gr),extents=(0,None,None,None))\n",
    "    plots.append(c1)\n",
    "    \n",
    "hv.Overlay(plots)"
   ]
  },
  {
   "cell_type": "markdown",
   "metadata": {},
   "source": [
    "# ATTRACTION"
   ]
  },
  {
   "cell_type": "code",
   "execution_count": null,
   "metadata": {
    "ExecuteTime": {
     "end_time": "2017-08-18T12:12:21.396670Z",
     "start_time": "2017-08-18T12:12:18.407956Z"
    }
   },
   "outputs": [],
   "source": [
    "from typyPRISM.calculate.prism.chi import chi\n",
    "\n",
    "sys = typyPRISM.System(['A','B'],kT=1.0)\n",
    "sys.domain = typyPRISM.Domain(dr=0.1,length=1024)\n",
    "\n",
    "sys.density['A'] = rho1\n",
    "sys.density['B'] = rho2\n",
    "\n",
    "sys.potential['A','A'] = typyPRISM.potential.HardSphere(sigma=1.0)\n",
    "sys.potential['B','B'] = typyPRISM.potential.HardSphere(sigma=1.0)\n",
    "sys.potential['A','B'] = typyPRISM.potential.HardCoreLennardJones(sigma=1.0,epsilon=+0.001)#+0.0005)\n",
    "\n",
    "sys.closure[sys.types,sys.types] = typyPRISM.closure.PercusYevick()\n",
    "\n",
    "sys.omega[sys.types,sys.types] = typyPRISM.omega.Gaussian(sigma=1.0,length=length)\n",
    "\n",
    "chi_values = []\n",
    "guess1 = np.copy(guess_eps0_N500)\n",
    "for phi in np.arange(0.5,0.1,-0.05):\n",
    "    sys.density['A'] = phi*eta/v1\n",
    "    sys.density['B'] = (1-phi)*eta/v1\n",
    "    \n",
    "    print('==> Solving for...')\n",
    "    print('==> phi={}'.format(phi))\n",
    "    print('==> rhoA={}'.format(sys.density['A']))\n",
    "    print('==> rhoB={}'.format(sys.density['B']))\n",
    "\n",
    "    PRISM = sys.createPRISM()\n",
    "    \n",
    "    result = PRISM.solve(guess1)\n",
    "    \n",
    "    c = chi(PRISM)['A','B'][0]\n",
    "    chi_values.append([phi,c])\n",
    "    \n",
    "    guess1 = np.copy(PRISM.x)\n",
    "    \n",
    "c50 = chi_values[0][1]\n",
    "chi_values = chi_values[::-1]\n",
    "\n",
    "guess1 = np.copy(guess_eps0_N500)\n",
    "for phi in np.arange(0.5,0.9,+0.05):\n",
    "    sys.density['A'] = phi*eta/v1\n",
    "    sys.density['B'] = (1-phi)*eta/v1\n",
    "    \n",
    "    print('==> Solving for...')\n",
    "    print('==> phi={}'.format(phi))\n",
    "    print('==> rhoA={}'.format(sys.density['A']))\n",
    "    print('==> rhoB={}'.format(sys.density['B']))\n",
    "\n",
    "    PRISM = sys.createPRISM()\n",
    "    \n",
    "    result = PRISM.solve(guess1)\n",
    "    \n",
    "    c = chi(PRISM)['A','B'][0]\n",
    "    chi_values.append([phi,c])\n",
    "    \n",
    "    guess1 = np.copy(PRISM.x)\n",
    "chi_values = np.array(chi_values)\n",
    "print(chi_values)"
   ]
  },
  {
   "cell_type": "code",
   "execution_count": null,
   "metadata": {
    "ExecuteTime": {
     "end_time": "2017-08-18T12:12:23.146997Z",
     "start_time": "2017-08-18T12:12:23.108922Z"
    }
   },
   "outputs": [],
   "source": [
    "c50*500"
   ]
  },
  {
   "cell_type": "code",
   "execution_count": null,
   "metadata": {
    "ExecuteTime": {
     "end_time": "2017-08-18T12:12:24.112575Z",
     "start_time": "2017-08-18T12:12:23.939595Z"
    }
   },
   "outputs": [],
   "source": [
    "%opts Scatter Curve [width=600,height=400] Scatter (size=10,alpha=0.5)\n",
    "from typyPRISM.calculate.prism.pair_correlation import pair_correlation\n",
    "\n",
    "cv = np.array(chi_values)\n",
    "\n",
    "hv.Scatter((cv[:,0],cv[:,1]/c50),extents=(None,None,None,None))\n",
    "    "
   ]
  },
  {
   "cell_type": "markdown",
   "metadata": {},
   "source": [
    "# PSEUDO-ONE COMPONENT"
   ]
  },
  {
   "cell_type": "code",
   "execution_count": null,
   "metadata": {
    "collapsed": true
   },
   "outputs": [],
   "source": [
    "import typyPRISM\n",
    "from typyPRISM.calculate.prism.pair_correlation import pair_correlation\n",
    "import numpy as np\n",
    "\n",
    "eta = 0.45\n",
    "v1 = 4.0/3.0 * np.pi * (0.5)**(3)\n",
    "phi = 0.5\n",
    "rho1 = phi*eta/v1\n",
    "rho2 = (1-phi)*eta/v1\n",
    "\n",
    "sys = typyPRISM.System(['A','B'],kT=1.0)\n",
    "sys.domain = typyPRISM.Domain(dr=0.1,length=1024)\n",
    "\n",
    "sys.density['A'] = rho1 + rho2\n",
    "\n",
    "\n",
    "sys.potential['A','A'] = typyPRISM.potential.HardSphere(sigma=1.0)\n",
    "sys.potential['B','B'] = typyPRISM.potential.HardSphere(sigma=1.0)\n",
    "sys.potential['A','B'] = typyPRISM.potential.HardSphere(sigma=1.0)\n",
    "\n",
    "sys.closure[sys.types,sys.types] = typyPRISM.closure.PercusYevick()\n",
    "\n",
    "guess = np.zeros(sys.rank*sys.rank*sys.domain.length)\n",
    "for length in [10000,2000,500]:\n",
    "    sys.omega[sys.types,sys.types] = typyPRISM.omega.Gaussian(sigma=1.0,length=length)\n",
    "    \n",
    "    PRISM = sys.createPRISM()\n",
    "    \n",
    "    result = PRISM.solve(guess)\n",
    "    \n",
    "    guess = np.copy(PRISM.x)\n",
    "\n",
    "guess_eps0_N500 = guess"
   ]
  }
 ],
 "metadata": {
  "kernelspec": {
   "display_name": "Python 3",
   "language": "python",
   "name": "python3"
  },
  "language_info": {
   "codemirror_mode": {
    "name": "ipython",
    "version": 3
   },
   "file_extension": ".py",
   "mimetype": "text/x-python",
   "name": "python",
   "nbconvert_exporter": "python",
   "pygments_lexer": "ipython3",
   "version": "3.6.2"
  }
 },
 "nbformat": 4,
 "nbformat_minor": 2
}
