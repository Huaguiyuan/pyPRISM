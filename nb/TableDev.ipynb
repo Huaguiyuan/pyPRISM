{
 "cells": [
  {
   "cell_type": "markdown",
   "metadata": {},
   "source": [
    "# TABLES"
   ]
  },
  {
   "cell_type": "code",
   "execution_count": 1,
   "metadata": {
    "ExecuteTime": {
     "end_time": "2017-07-23T01:14:01.566108Z",
     "start_time": "2017-07-23T01:14:00.811747Z"
    }
   },
   "outputs": [],
   "source": [
    "%load_ext memory_profiler\n",
    "%load_ext snakeviz\n",
    "%load_ext cython\n",
    "\n",
    "from IPython.core import debugger\n",
    "ist = debugger.set_trace"
   ]
  },
  {
   "cell_type": "code",
   "execution_count": 2,
   "metadata": {
    "ExecuteTime": {
     "end_time": "2017-07-23T01:14:04.212600Z",
     "start_time": "2017-07-23T01:14:04.204300Z"
    },
    "collapsed": true
   },
   "outputs": [],
   "source": [
    "from py.typyMagics import *\n",
    "ipy = get_ipython()\n",
    "ipy.register_magics(typyMagics)"
   ]
  },
  {
   "cell_type": "code",
   "execution_count": 3,
   "metadata": {
    "ExecuteTime": {
     "end_time": "2017-07-23T01:14:04.728042Z",
     "start_time": "2017-07-23T01:14:04.723687Z"
    },
    "collapsed": true
   },
   "outputs": [],
   "source": [
    "import sys\n",
    "sys.path.insert(0,'../')"
   ]
  },
  {
   "cell_type": "markdown",
   "metadata": {},
   "source": [
    "## DEFINE"
   ]
  },
  {
   "cell_type": "code",
   "execution_count": null,
   "metadata": {
    "ExecuteTime": {
     "end_time": "2017-07-23T01:14:37.155969Z",
     "start_time": "2017-07-23T01:14:37.146266Z"
    },
    "collapsed": true
   },
   "outputs": [],
   "source": [
    "# %load ../typyPRISM/Table.py\n",
    "import copy\n",
    "from itertools import product\n",
    "\n",
    "class Table:\n",
    "    '''Baseclass used to define tables of parameters\n",
    "    \n",
    "    The primary goal of this class and its subclasses is to create\n",
    "    datasets with interfaces that can use semantically meaningful names\n",
    "    to describe their types. This means you can define a \"solvent\" or \n",
    "    \"polymer\" type rather than being restricted to type 1 or type C.\n",
    "    \n",
    "    This parent class sets up the mapping between numeric types and \n",
    "    user-supplied alpha types. The subclasses specialize the type of \n",
    "    table to be either \"pair-keyed\" or \"singlet-keyed\". \n",
    "    '''\n",
    "    def __init__(self,types,parameters,base_table):\n",
    "        self.parameters =  parameters\n",
    "        self.values = {p:copy.deepcopy(base_table) for p in parameters}\n",
    "        A2N = {}; N2A = {};\n",
    "        for n,t in enumerate(types,start=0):\n",
    "            #We want the 'types' to be non-int like (i.e. not-castable to int)\n",
    "            #With this assumption, we can handle '1' and 1 as \n",
    "            # being equivalent \"numeric\" types (i.e. LAMMPS types)\n",
    "            try:\n",
    "                int(t)\n",
    "            except ValueError:\n",
    "                pass\n",
    "            else:\n",
    "                raise TypeError('Types cannot be castable to int!')\n",
    "            A2N[t] = n\n",
    "            N2A[n] = t\n",
    "            \n",
    "        self.alphaToNumeric = A2N #alpha-type to numeric-type mapping\n",
    "        self.numericToAlpha = N2A #numeric-type to alpha-type mapping\n",
    "        self.types = types\n",
    "        self.numericTypes = [A2N[t] for t in types]\n",
    "        \n",
    "        self.pairs = []\n",
    "        self.all_pairs = []\n",
    "        self.off_diagonal_pairs = []\n",
    "        for i in self.numericTypes:\n",
    "            for j in self.numericTypes:\n",
    "                self.all_pairs.append([numericToAlpha[i],numericToAlpha[j]])\n",
    "                if i<=j:\n",
    "                    self.pairs.append([numericToAlpha[i],numericToAlpha[j]])\n",
    "                if i!=j:\n",
    "                    self.off_diagonal_pairs.append([numericToAlpha[i],numericToAlpha[j]])\n",
    "    def ParseValue(self,val):\n",
    "        '''\n",
    "        Make sure that we are always returning a str-like typeo\n",
    "        '1' will be converted to int(1) and then parsed using N2A\n",
    "        '''\n",
    "        try:\n",
    "            numericValue=int(val)\n",
    "            if not numericValue in self.numericTypes:\n",
    "                raise KeyError('Numeric Type {} not in Table!'.format(numericValue))\n",
    "            alphaValue=self.N2A[numericValue]\n",
    "        except ValueError:\n",
    "            alphaValue = val\n",
    "            if not alphaValue in self.types:\n",
    "                raise KeyError('Alpha Type {} not in Table!'.format(alphaValue))\n",
    "            numericValue=self.A2N[alphaValue]\n",
    "        return numericValue,alphaValue\n",
    "    def ParseParameters(self,parameters=None):\n",
    "        if parameters is None:\n",
    "            parameters = self.parameters\n",
    "        elif not (isinstance(parameters,list) or isinstance(parameters,tuple)):\n",
    "            parameters = [parameters]\n",
    "        for parameter in parameters:\n",
    "            if not (parameter in self.parameters):\n",
    "                raise ValueError('Parameter {} doesn\\'t exist in this Table!'.format(parameter))\n",
    "        return parameters\n"
   ]
  },
  {
   "cell_type": "code",
   "execution_count": null,
   "metadata": {
    "ExecuteTime": {
     "end_time": "2017-07-23T01:27:20.661191Z",
     "start_time": "2017-07-23T01:27:20.654353Z"
    },
    "collapsed": true
   },
   "outputs": [],
   "source": [
    "# %load ../typyPRISM/PairTable.py\n",
    "from Table import Table\n",
    "from math import sqrt\n",
    "import operator\n",
    "\n",
    "class PairTable(Table):\n",
    "    def __init__(self,types,parms,symmetric=True):\n",
    "        self.symmetric = symmetric\n",
    "        base_table = {t1:{t2:None for t2 in types} for t1 in types}\n",
    "        super(PairTable,self).__init__(types,parms,base_table)\n",
    "    def __iter__(self):\n",
    "        for t1,t2 in self.pairs:\n",
    "            valueDict = {}\n",
    "            valueDict['t1'] = t1\n",
    "            valueDict['t2'] = t2\n",
    "            valueDict['n1'] = self.A2N[t1]\n",
    "            valueDict['n2'] = self.A2N[t2]\n",
    "            for parm in self.parms:\n",
    "                valueDict[parm] = self.values[parm][t1][t2]\n",
    "            yield valueDict\n",
    "    def __getitem__(self,idex):\n",
    "        if idex in self.parms:\n",
    "            return self.values[idex]\n",
    "        elif len(idex)==3:\n",
    "            parm = idex[0]\n",
    "            inum,ialph = self.ParseValue(idex[1])\n",
    "            jnum,jalph = self.ParseValue(idex[2])\n",
    "            return self.values[parm][ialph][jalph]\n",
    "        else:\n",
    "            raise TypeError('PairTable[#] (i.e. __getitem__) needs either 1 or 3 arguments')\n",
    "    def __setitem__(self,idex,value):\n",
    "        if len(idex)<3:\n",
    "            raise AttributeError('PairTable[#] (i.e. __setitem__) needs at least 4 arguments')\n",
    "        parm = idex[0]\n",
    "        if not (parm in self.parms):\n",
    "            raise ValueError('Parameter {} doesn\\'t exist in this PairTable!'.format(parm))\n",
    "        inum,ialph = self.ParseValue(idex[1])\n",
    "        jnum,jalph = self.ParseValue(idex[2])\n",
    "        self.values[parm][ialph][jalph] = value\n",
    "        if self.symmetric and ialph!=jalph:\n",
    "            self.values[parm][jalph][ialph] = value\n",
    "    def check(self,parms=None,raiseException=True):\n",
    "        parms = self.ParseParms(parms)\n",
    "        checks = []\n",
    "        for p in parms:\n",
    "            for t1,t2 in self.all_pairs:\n",
    "                checks.append(self.values[p][t1][t2] is not None)\n",
    "        if raiseException and not all(checks):\n",
    "            raise ValueError('PairTable check failed. Not all pairs set!')\n",
    "        else:\n",
    "            return checks\n",
    "    def echo(self,parms=None):\n",
    "        parms = self.ParseParms(parms)\n",
    "    \n",
    "        print 'Types'\n",
    "        for t1 in self.types:\n",
    "            for t2 in self.types:\n",
    "                print '{:5s}'.format(t1+t2),' ',\n",
    "            print ''\n",
    "        print ''\n",
    "        \n",
    "        for parm in parms:\n",
    "            print parm\n",
    "            for t1 in self.types:\n",
    "                for t2 in self.types:\n",
    "                    val = self.values[parm][t1][t2]\n",
    "                    try:\n",
    "                        val = float(val)\n",
    "                        print '{:4.3f}'.format(val),' ',\n",
    "                    except ValueError:\n",
    "                        print '{:5s}'.format(str(val)),' ',\n",
    "                print ''\n",
    "            print ''\n",
    "        print ''\n",
    "    def setUnsetValues(self,parm,value):\n",
    "        if not (parm in self.parms):\n",
    "            raise ValueError('Parameter {} doesn\\'t exist in this PairTable!'.format(parm))\n",
    "        for i,j in self.pairs:\n",
    "        if self.values[parm][i][j] is None:\n",
    "            self.values[parm][i][j] = value\n",
    "            if self.symmetric and i!=j:\n",
    "                self.values[parm][j][i] = value\n",
    "    def setConditionally(self,setParm,setValue,checkParm,checkValue,comparison=operator.eq):\n",
    "        if not (setParm in self.parms):\n",
    "            raise ValueError('Parameter {} doesn\\'t exist in this PairTable!'.format(setParm))\n",
    "        if not (checkParm in self.parms):\n",
    "            raise ValueError('Parameter {} doesn\\'t exist in this PairTable!'.format(checkParm))\n",
    "        for i,j in self.pairs:\n",
    "            if comparison(self.values[checkParm][i][j],checkValue):\n",
    "                self.values[setParm][i][j] = setValue\n",
    "                if self.symmetric and i!=j:\n",
    "                    self.values[setParm][j][i] = setValue\n",
    "    def mix(self,parms,rule='arithmetic'):\n",
    "        parms = self.ParseParms(parms)\n",
    "        \n",
    "        if rule=='arithmetic':\n",
    "            mixr = lambda x1,x2: (x1+x2)/2.0\n",
    "        elif rule=='geometric':\n",
    "            mixr = lambda x1,x2: sqrt(x1*x2)/2.0\n",
    "        else:\n",
    "            raise ValueError('Mixing rule not recognized: {}'.format(rule))\n",
    "        \n",
    "        for parm in parms:\n",
    "            #Need to make sure that all self values are set for this parm\n",
    "            for t1 in self.types:\n",
    "                val = self.values[parm][t1][t1]\n",
    "                if val is None:\n",
    "                    raise ValueError('All diagonal-values (self-pairs) must be set before mixing!')\n",
    "            for t1,t2 in self.off_diagonal_pairs:\n",
    "                val1 = self.values[parm][t1][t1]\n",
    "                val2 = self.values[parm][t2][t2]\n",
    "                self.values[parm][t1][t2] = mixr(val1,val2)\n",
    "                self.values[parm][t2][t1] = mixr(val1,val2)\n",
    "    def get_matrix(self,parm,dtype=float):\n",
    "        N = len(self.types)\n",
    "        matrix = [[None for i in range(N)] for j in range(N)]\n",
    "        for t1,t2 in self.pairs:\n",
    "            n1 = self.A2N[t1]\n",
    "            n2 = self.A2N[t2]\n",
    "            matrix[n1][n2] = self.values[parm][t1][t2]\n",
    "            matrix[n2][n1] = self.values[parm][t2][t1]\n",
    "        return matrix\n"
   ]
  },
  {
   "cell_type": "code",
   "execution_count": null,
   "metadata": {
    "collapsed": true
   },
   "outputs": [],
   "source": []
  }
 ],
 "metadata": {
  "kernelspec": {
   "display_name": "Python 3",
   "language": "python",
   "name": "python3"
  },
  "language_info": {
   "codemirror_mode": {
    "name": "ipython",
    "version": 3
   },
   "file_extension": ".py",
   "mimetype": "text/x-python",
   "name": "python",
   "nbconvert_exporter": "python",
   "pygments_lexer": "ipython3",
   "version": "3.6.1"
  }
 },
 "nbformat": 4,
 "nbformat_minor": 2
}
