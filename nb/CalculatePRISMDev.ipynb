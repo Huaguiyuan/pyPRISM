{
 "cells": [
  {
   "cell_type": "markdown",
   "metadata": {},
   "source": [
    "# Calculate"
   ]
  },
  {
   "cell_type": "code",
   "execution_count": 2,
   "metadata": {
    "ExecuteTime": {
     "end_time": "2017-08-03T20:34:02.778196Z",
     "start_time": "2017-08-03T20:34:02.400746Z"
    },
    "collapsed": true
   },
   "outputs": [],
   "source": [
    "%load_ext memory_profiler\n",
    "%load_ext snakeviz\n",
    "%load_ext cython\n",
    "%load_ext autoreload\n",
    "%autoreload 2\n",
    "\n",
    "\n",
    "from IPython.core import debugger\n",
    "ist = debugger.set_trace"
   ]
  },
  {
   "cell_type": "code",
   "execution_count": 3,
   "metadata": {
    "ExecuteTime": {
     "end_time": "2017-08-03T20:34:02.792961Z",
     "start_time": "2017-08-03T20:34:02.779914Z"
    },
    "collapsed": true
   },
   "outputs": [],
   "source": [
    "from py.typyMagics import *\n",
    "ipy = get_ipython()\n",
    "ipy.register_magics(typyMagics)"
   ]
  },
  {
   "cell_type": "code",
   "execution_count": 4,
   "metadata": {
    "ExecuteTime": {
     "end_time": "2017-08-03T20:34:02.817409Z",
     "start_time": "2017-08-03T20:34:02.799942Z"
    },
    "collapsed": true
   },
   "outputs": [],
   "source": [
    "import sys\n",
    "sys.path.insert(0,'../')"
   ]
  },
  {
   "cell_type": "markdown",
   "metadata": {},
   "source": [
    "## CALCS"
   ]
  },
  {
   "cell_type": "code",
   "execution_count": 6,
   "metadata": {
    "ExecuteTime": {
     "end_time": "2017-08-03T20:35:09.483545Z",
     "start_time": "2017-08-03T20:35:09.439514Z"
    }
   },
   "outputs": [
    {
     "name": "stdout",
     "output_type": "stream",
     "text": [
      "Overwriting ../typyPRISM/calculate/prism/pair_correlation.py\n"
     ]
    }
   ],
   "source": [
    "%%run_and_write ../typyPRISM/calculate/prism/pair_correlation.py\n",
    "from typyPRISM.core.Space import Space\n",
    "\n",
    "def pair_correlation(PRISM):\n",
    "    '''Calculate the pair correlation function from a PRISM object\n",
    "    \n",
    "    After convergence, the stored total correlation function can \n",
    "    simply be shifted to obtain the pair-correlation function \n",
    "    i.e. the radial distribution function. \n",
    "    \n",
    "    .. math::\n",
    "        g(r) = h(r) + 1.0\n",
    "        \n",
    "    Parameters\n",
    "    ----------\n",
    "    PRISM: typyPRISM.core.PRISM.PRISM\n",
    "        A **solved** PRISM object.\n",
    "    \n",
    "    \n",
    "    Returns\n",
    "    -------\n",
    "    pairCorr: typyPRISM.core.MatrixArray.MatrixArray\n",
    "        The full MatrixArray of pair correlation functions.\n",
    "    \n",
    "    '''\n",
    "    \n",
    "    if PRISM.totalCorr.space == Space.Fourier:\n",
    "        PRISM.domain.MatrixArray_to_real(PRISM.totalCorr)\n",
    "    \n",
    "    PRISM.pairCorr = PRISM.totalCorr + 1.0\n",
    "    \n",
    "    return PRISM.pairCorr"
   ]
  },
  {
   "cell_type": "code",
   "execution_count": 7,
   "metadata": {
    "ExecuteTime": {
     "end_time": "2017-08-03T20:35:10.587728Z",
     "start_time": "2017-08-03T20:35:10.530657Z"
    }
   },
   "outputs": [
    {
     "name": "stdout",
     "output_type": "stream",
     "text": [
      "Overwriting ../typyPRISM/calculate/prism/structure_factor.py\n"
     ]
    }
   ],
   "source": [
    "%%run_and_write ../typyPRISM/calculate/prism/structure_factor.py\n",
    "from typyPRISM.core.Space import Space\n",
    "\n",
    "def structure_factor(PRISM):\n",
    "    '''Calculate the structure factor from a PRISM object\n",
    "    \n",
    "    .. math::\n",
    "        S(k) = \\omega(k) + h(k)\n",
    "        \n",
    "    Parameters\n",
    "    ----------\n",
    "    PRISM: typyPRISM.core.PRISM.PRISM\n",
    "        A **solved** PRISM object.\n",
    "    \n",
    "    Returns\n",
    "    -------\n",
    "    structureFactor: typyPRISM.core.MatrixArray.MatrixArray\n",
    "        The full MatrixArray of structure factors\n",
    "    \n",
    "    '''\n",
    "    \n",
    "    if PRISM.totalCorr.space == Space.Real:\n",
    "        PRISM.domain.MatrixArray_to_real(PRISM.totalCorr)\n",
    "        \n",
    "    if PRISM.intraMolCorr.space == Space.Real:\n",
    "        PRISM.domain.MatrixArray_to_real(PRISM.intraMolCorr)\n",
    "    \n",
    "    structureFactor = PRISM.totalCorr*PRISM.pairDensityMatrix + PRISM.intraMolCorr\n",
    "    \n",
    "    return structureFactor"
   ]
  },
  {
   "cell_type": "markdown",
   "metadata": {},
   "source": [
    "## TESTING"
   ]
  },
  {
   "cell_type": "code",
   "execution_count": 12,
   "metadata": {
    "ExecuteTime": {
     "end_time": "2017-08-03T20:36:32.568123Z",
     "start_time": "2017-08-03T20:36:32.472965Z"
    }
   },
   "outputs": [
    {
     "name": "stdout",
     "output_type": "stream",
     "text": [
      "Overwriting ../typyPRISM/test/CalcPRISM_TestCase.py\n"
     ]
    }
   ],
   "source": [
    "%%run_and_write ../typyPRISM/test/CalcPRISM_TestCase.py\n",
    "import unittest\n",
    "import numpy as np\n",
    "import typyPRISM\n",
    "\n",
    "class CalcPRISM_TestCase(unittest.TestCase):\n",
    "    def setup(self):\n",
    "        '''Construct a simple but fully specified PRISM problem'''\n",
    "        \n",
    "        sys = typyPRISM.System(['A','B'])\n",
    "        \n",
    "        sys.domain = typyPRISM.Domain(dr=0.1,length=512)\n",
    "        \n",
    "        sys.density['A'] = 0.5\n",
    "        sys.density['B'] = 0.5\n",
    "        \n",
    "        sys.closure.setUnset(typyPRISM.closure.PercusYevick())\n",
    "        \n",
    "        sys.potential.setUnset(typyPRISM.potential.HardSphere(sigma=1.0))\n",
    "        \n",
    "        sys.intraMolCorr['A','A'] = typyPRISM.intraMolCorr.SingleSite()\n",
    "        sys.intraMolCorr['A','B'] = typyPRISM.intraMolCorr.NoIntra()\n",
    "        sys.intraMolCorr['B','B'] = typyPRISM.intraMolCorr.Gaussian(sigma=1.0,length=10)\n",
    "        \n",
    "        PRISM = sys.createPRISM()\n",
    "        \n",
    "        return PRISM\n",
    "\n",
    "    def test_pair_correlation(self):\n",
    "        '''Can we calculate pair_correlations?'''\n",
    "        PRISM = self.setup()\n",
    "        PRISM.solve(disp=False)\n",
    "        result = typyPRISM.calculate.prism.pair_correlation(PRISM)\n",
    "        \n",
    "    def test_structure_factor(self):\n",
    "        '''Can we calculate structure factors?'''\n",
    "        PRISM = self.setup()\n",
    "        PRISM.solve(disp=False)\n",
    "        result = typyPRISM.calculate.prism.structure_factor(PRISM)\n",
    "        \n",
    "        \n"
   ]
  },
  {
   "cell_type": "markdown",
   "metadata": {},
   "source": [
    "## RUN ALL"
   ]
  },
  {
   "cell_type": "code",
   "execution_count": 13,
   "metadata": {
    "ExecuteTime": {
     "end_time": "2017-08-03T20:36:34.163920Z",
     "start_time": "2017-08-03T20:36:33.902278Z"
    }
   },
   "outputs": [
    {
     "name": "stderr",
     "output_type": "stream",
     "text": [
      "test_pair_correlation (__main__.CalcPRISM_TestCase)\n",
      "Can we calculate pair_correlations? ... ok\n",
      "test_structure_factor (__main__.CalcPRISM_TestCase)\n",
      "Can we calculate structure factors? ... ok\n",
      "\n",
      "----------------------------------------------------------------------\n",
      "Ran 2 tests in 0.240s\n",
      "\n",
      "OK\n"
     ]
    },
    {
     "data": {
      "text/plain": [
       "<unittest.runner.TextTestResult run=2 errors=0 failures=0>"
      ]
     },
     "execution_count": 13,
     "metadata": {},
     "output_type": "execute_result"
    }
   ],
   "source": [
    "import unittest\n",
    "suite = []\n",
    "suite.append(unittest.TestLoader().loadTestsFromTestCase(CalcPRISM_TestCase))\n",
    "suite = unittest.TestSuite(suite)\n",
    "unittest.TextTestRunner(verbosity=2).run(suite)"
   ]
  },
  {
   "cell_type": "code",
   "execution_count": null,
   "metadata": {
    "collapsed": true
   },
   "outputs": [],
   "source": []
  }
 ],
 "metadata": {
  "kernelspec": {
   "display_name": "Python 3",
   "language": "python",
   "name": "python3"
  },
  "language_info": {
   "codemirror_mode": {
    "name": "ipython",
    "version": 3
   },
   "file_extension": ".py",
   "mimetype": "text/x-python",
   "name": "python",
   "nbconvert_exporter": "python",
   "pygments_lexer": "ipython3",
   "version": "3.6.2"
  }
 },
 "nbformat": 4,
 "nbformat_minor": 2
}
