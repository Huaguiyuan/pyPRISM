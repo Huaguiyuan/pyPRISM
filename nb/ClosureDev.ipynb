{
 "cells": [
  {
   "cell_type": "markdown",
   "metadata": {},
   "source": [
    "# Closure"
   ]
  },
  {
   "cell_type": "code",
   "execution_count": 1,
   "metadata": {
    "ExecuteTime": {
     "end_time": "2017-08-03T13:52:28.899358Z",
     "start_time": "2017-08-03T13:52:28.447861Z"
    },
    "collapsed": true
   },
   "outputs": [],
   "source": [
    "%load_ext memory_profiler\n",
    "%load_ext snakeviz\n",
    "%load_ext cython\n",
    "%load_ext autoreload\n",
    "%autoreload 2\n",
    "\n",
    "\n",
    "from IPython.core import debugger\n",
    "ist = debugger.set_trace"
   ]
  },
  {
   "cell_type": "code",
   "execution_count": 2,
   "metadata": {
    "ExecuteTime": {
     "end_time": "2017-08-03T13:52:28.912554Z",
     "start_time": "2017-08-03T13:52:28.901479Z"
    },
    "collapsed": true
   },
   "outputs": [],
   "source": [
    "from py.typyMagics import *\n",
    "ipy = get_ipython()\n",
    "ipy.register_magics(typyMagics)"
   ]
  },
  {
   "cell_type": "code",
   "execution_count": 3,
   "metadata": {
    "ExecuteTime": {
     "end_time": "2017-08-03T13:52:28.933596Z",
     "start_time": "2017-08-03T13:52:28.915827Z"
    },
    "collapsed": true
   },
   "outputs": [],
   "source": [
    "import sys\n",
    "sys.path.insert(0,'../')"
   ]
  },
  {
   "cell_type": "markdown",
   "metadata": {},
   "source": [
    "## Base Closure"
   ]
  },
  {
   "cell_type": "code",
   "execution_count": 4,
   "metadata": {
    "ExecuteTime": {
     "end_time": "2017-08-03T13:52:29.232236Z",
     "start_time": "2017-08-03T13:52:29.076299Z"
    }
   },
   "outputs": [
    {
     "name": "stdout",
     "output_type": "stream",
     "text": [
      "Overwriting ../typyPRISM/closure/Closure.py\n"
     ]
    }
   ],
   "source": [
    "%%run_and_write ../typyPRISM/closure/Closure.py\n",
    "import numpy as np\n",
    "class Closure:\n",
    "    '''Baseclass for all closures \n",
    "    \n",
    "    .. warning::\n",
    "    \n",
    "        Currently, this class doesn't do anything besides group all of the\n",
    "        closures under a single inheritance heirarchy. This will likely\n",
    "        change as needs arise.\n",
    "    '''\n",
    "        "
   ]
  },
  {
   "cell_type": "code",
   "execution_count": 5,
   "metadata": {
    "ExecuteTime": {
     "end_time": "2017-08-03T13:52:29.281682Z",
     "start_time": "2017-08-03T13:52:29.253595Z"
    }
   },
   "outputs": [
    {
     "name": "stdout",
     "output_type": "stream",
     "text": [
      "Overwriting ../typyPRISM/closure/AtomicClosure.py\n"
     ]
    }
   ],
   "source": [
    "%%run_and_write ../typyPRISM/closure/AtomicClosure.py\n",
    "import numpy as np\n",
    "class AtomicClosure:\n",
    "    '''Baseclass for all atomic closures\n",
    "    \n",
    "    .. warning::\n",
    "    \n",
    "        Currently, this class doesn't do anything besides group all of the\n",
    "        *atomic* closures under a single inheritance heirarchy. This will \n",
    "        likely change as needs arise.\n",
    "    '''\n",
    "        "
   ]
  },
  {
   "cell_type": "markdown",
   "metadata": {},
   "source": [
    "## PercusYevick"
   ]
  },
  {
   "cell_type": "code",
   "execution_count": 6,
   "metadata": {
    "ExecuteTime": {
     "end_time": "2017-08-03T13:52:29.684839Z",
     "start_time": "2017-08-03T13:52:29.584574Z"
    }
   },
   "outputs": [
    {
     "name": "stdout",
     "output_type": "stream",
     "text": [
      "Overwriting ../typyPRISM/closure/PercusYevick.py\n"
     ]
    }
   ],
   "source": [
    "%%run_and_write ../typyPRISM/closure/PercusYevick.py\n",
    "from typyPRISM.closure.AtomicClosure import AtomicClosure\n",
    "import numpy as np\n",
    "class PercusYevick(AtomicClosure):\n",
    "    '''Percus Yevick closure written in terms of a change of variables\n",
    "    \n",
    "    .. note::\n",
    "    \n",
    "        The change of variables is necessary in order to use potentials with\n",
    "        hard cores. Written in the standard form, this closure diverges with\n",
    "        divergent potentials, which makes it impossible to numerically solve. \n",
    "    \n",
    "    .. math::\n",
    "        \n",
    "        c_{i,j}(r) = (exp(-U_{i,j}(r)) - 1.0) * (1.0 + \\gamma_{i,j}(r))\n",
    "        \n",
    "        \\gamma_{i,j}(r) =  h_{i,j}(r) - c_{i,j}(r)\n",
    "    \n",
    "    '''\n",
    "    def __init__(self):\n",
    "        self.potential = None\n",
    "        self.value = None\n",
    "        \n",
    "    def __repr__(self):\n",
    "        return '<AtomicClosure: PercusYevick>'\n",
    "    \n",
    "    def calculate(self,gamma):\n",
    "        \n",
    "        assert self.potential is not None,'Potential for this closure is not set!'\n",
    "        \n",
    "        assert len(gamma) == len(self.potential),'Domain mismatch!'\n",
    "        \n",
    "        self.value = (np.exp(-self.potential)-1.0)*(1.0+gamma)\n",
    "        \n",
    "        return self.value\n",
    "        \n",
    "        "
   ]
  },
  {
   "cell_type": "code",
   "execution_count": 7,
   "metadata": {
    "ExecuteTime": {
     "end_time": "2017-08-03T13:52:29.838578Z",
     "start_time": "2017-08-03T13:52:29.774052Z"
    }
   },
   "outputs": [
    {
     "name": "stdout",
     "output_type": "stream",
     "text": [
      "Overwriting ../typyPRISM/test/PercusYevick_TestCase.py\n"
     ]
    }
   ],
   "source": [
    "%%run_and_write ../typyPRISM/test/PercusYevick_TestCase.py\n",
    "from typyPRISM.closure import PercusYevick\n",
    "import unittest\n",
    "import numpy as np\n",
    "\n",
    "class PercusYevick_TestCase(unittest.TestCase):\n",
    "    def test_create(self):\n",
    "        '''Can we create a PercusYevick closure ?'''\n",
    "        r = np.arange(0.75,3.5,0.05)\n",
    "        U = np.zeros_like(r)\n",
    "        U[r<1.0] = 1e6\n",
    "        \n",
    "        gamma = np.zeros_like(r)\n",
    "        C1 = (np.exp(-U) - 1.0)*(1.0 + gamma)\n",
    "        \n",
    "        \n",
    "        PY = PercusYevick()\n",
    "        PY.potential = U\n",
    "        C2 = PY.calculate(gamma)\n",
    "        np.testing.assert_array_almost_equal(C1,C2)\n",
    "        \n",
    "        \n"
   ]
  },
  {
   "cell_type": "markdown",
   "metadata": {},
   "source": [
    "## RUN ALL"
   ]
  },
  {
   "cell_type": "code",
   "execution_count": 8,
   "metadata": {
    "ExecuteTime": {
     "end_time": "2017-08-03T13:52:30.152877Z",
     "start_time": "2017-08-03T13:52:30.109389Z"
    }
   },
   "outputs": [
    {
     "name": "stderr",
     "output_type": "stream",
     "text": [
      "test_create (__main__.PercusYevick_TestCase)\n",
      "Can we create a PercusYevick closure ? ... ok\n",
      "\n",
      "----------------------------------------------------------------------\n",
      "Ran 1 test in 0.003s\n",
      "\n",
      "OK\n"
     ]
    },
    {
     "data": {
      "text/plain": [
       "<unittest.runner.TextTestResult run=1 errors=0 failures=0>"
      ]
     },
     "execution_count": 8,
     "metadata": {},
     "output_type": "execute_result"
    }
   ],
   "source": [
    "import unittest\n",
    "suite = []\n",
    "suite.append(unittest.TestLoader().loadTestsFromTestCase(PercusYevick_TestCase))\n",
    "suite = unittest.TestSuite(suite)\n",
    "unittest.TextTestRunner(verbosity=2).run(suite)"
   ]
  },
  {
   "cell_type": "code",
   "execution_count": null,
   "metadata": {
    "collapsed": true
   },
   "outputs": [],
   "source": []
  },
  {
   "cell_type": "code",
   "execution_count": null,
   "metadata": {
    "collapsed": true
   },
   "outputs": [],
   "source": []
  },
  {
   "cell_type": "code",
   "execution_count": null,
   "metadata": {
    "collapsed": true
   },
   "outputs": [],
   "source": []
  }
 ],
 "metadata": {
  "kernelspec": {
   "display_name": "Python 3",
   "language": "python",
   "name": "python3"
  },
  "language_info": {
   "codemirror_mode": {
    "name": "ipython",
    "version": 3
   },
   "file_extension": ".py",
   "mimetype": "text/x-python",
   "name": "python",
   "nbconvert_exporter": "python",
   "pygments_lexer": "ipython3",
   "version": "3.6.2"
  }
 },
 "nbformat": 4,
 "nbformat_minor": 2
}
