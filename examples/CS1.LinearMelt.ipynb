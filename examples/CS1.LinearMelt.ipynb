{
 "cells": [
  {
   "cell_type": "markdown",
   "metadata": {},
   "source": [
    "Linear Polymer Melt\n",
    "===========\n",
    "\n",
    "insert description\n",
    "\n",
    "license??"
   ]
  },
  {
   "cell_type": "markdown",
   "metadata": {},
   "source": [
    "Sources\n",
    "--------\n",
    "1. Curro, J.G.; Schweizer K.S.; Integral Equation Theory of Homopolymer\n",
    "   Melts, Molecular Crystals and Liquid Crystals Incorporating Nonlinear \n",
    "   Optics, 180:1, 77-89, doi: 10.1080/00268949008025790\n",
    " \n",
    "  "
   ]
  },
  {
   "cell_type": "markdown",
   "metadata": {},
   "source": [
    "Global Imports and Setup\n",
    "----------------------------"
   ]
  },
  {
   "cell_type": "code",
   "execution_count": null,
   "metadata": {
    "ExecuteTime": {
     "end_time": "2017-08-31T14:26:10.970405Z",
     "start_time": "2017-08-31T14:26:09.538412Z"
    }
   },
   "outputs": [],
   "source": [
    "import numpy as np\n",
    "import holoviews as hv\n",
    "hv.extension('bokeh')\n",
    "\n",
    "%load_ext autoreload\n",
    "%autoreload 2"
   ]
  },
  {
   "cell_type": "code",
   "execution_count": null,
   "metadata": {
    "ExecuteTime": {
     "end_time": "2017-08-31T14:26:11.198764Z",
     "start_time": "2017-08-31T14:26:10.973649Z"
    },
    "collapsed": true
   },
   "outputs": [],
   "source": [
    "%opts Curve Scatter [width=500,height=400] Layout [shared_axes=False] Scatter (size=10,alpha=0.5)\n",
    "%opts Curve Scatter [fontsize={'xlabel':14,'xlabel':14,'ylabel':14,'ticks':12}]\n",
    "%opts Overlay [legend_position='bottom_left']\n",
    "%opts Layout [shared_axes=False]\n",
    "\n",
    "\n",
    "colors = {}\n",
    "colors[1.0] = 'blue'\n",
    "colors[0.8] = 'red'\n",
    "colors[0.6] = 'green'\n",
    "\n",
    "ls = {}\n",
    "ls[1.0] = 'solid'\n",
    "ls[0.8] = 'dashed'\n",
    "ls[0.6] = 'dotted'\n",
    "\n",
    "markers = {}\n",
    "markers[1.0] = 'o'\n",
    "markers[0.8] = '^'\n",
    "markers[0.6] = 'd'"
   ]
  },
  {
   "cell_type": "markdown",
   "metadata": {},
   "source": [
    "Demo\n",
    "-----"
   ]
  },
  {
   "cell_type": "markdown",
   "metadata": {},
   "source": [
    "First we'll load in the data extracted from the literature that we'll be comparing against. "
   ]
  },
  {
   "cell_type": "code",
   "execution_count": null,
   "metadata": {
    "ExecuteTime": {
     "end_time": "2017-08-31T14:26:11.231671Z",
     "start_time": "2017-08-31T14:26:11.201099Z"
    },
    "collapsed": true
   },
   "outputs": [],
   "source": [
    "gr_compare = []\n",
    "sk_compare = []\n",
    "for density in [0.6,0.8,1.0]:\n",
    "    fname = './data/LinearMelt-Gr-rho{}.csv'.format(density)\n",
    "    x,y = np.loadtxt(fname,delimiter=',').T\n",
    "    gr_compare.append([density,x,y])\n",
    "    \n",
    "    fname = './data/LinearMelt-Sk-rho{}.csv'.format(density)\n",
    "    x,y = np.loadtxt(fname,delimiter=',').T\n",
    "    sk_compare.append([density,x,y])\n"
   ]
  },
  {
   "cell_type": "markdown",
   "metadata": {},
   "source": [
    "Next, we'll use typyPRISM to calculate data for a linear polymer melt of of gaussian chains of length 16000, as described in Reference 1. "
   ]
  },
  {
   "cell_type": "code",
   "execution_count": null,
   "metadata": {
    "ExecuteTime": {
     "end_time": "2017-08-31T14:26:14.085120Z",
     "start_time": "2017-08-31T14:26:11.233720Z"
    },
    "scrolled": true
   },
   "outputs": [],
   "source": [
    "import typyPRISM\n",
    "from typyPRISM.calculate.prism.structure_factor import structure_factor\n",
    "from typyPRISM.calculate.prism.pair_correlation import pair_correlation\n",
    "import numpy as np\n",
    "\n",
    "sys = typyPRISM.System(['polymer'],kT=1.0)\n",
    "sys.domain = typyPRISM.Domain(dr=0.005,length=32768)\n",
    "sys.closure['polymer','polymer'] = typyPRISM.closure.PercusYevick()\n",
    "sys.potential['polymer','polymer'] = typyPRISM.potential.HardSphere(sigma=1.0)\n",
    "sys.omega['polymer','polymer'] = typyPRISM.omega.Gaussian(sigma=1.0,length=16000)\n",
    "\n",
    "\n",
    "gr_results = []\n",
    "sk_results = []\n",
    "guess = np.zeros_like(sys.domain.r)\n",
    "for density in [0.6,0.8,1.0]:\n",
    "    print('==> Solving for density {}'.format(density))\n",
    "    sys.density['polymer'] = density\n",
    "    PRISM = sys.createPRISM()\n",
    "    result = PRISM.solve(guess)\n",
    "    guess = np.copy(PRISM.x)\n",
    "    \n",
    "    y = structure_factor(PRISM)['polymer','polymer']\n",
    "    x = sys.domain.k\n",
    "    sk_results.append([density,x,y])\n",
    "    \n",
    "    x = sys.domain.r\n",
    "    y = pair_correlation(PRISM)['polymer','polymer']\n",
    "    gr_results.append([density,x,y])\n",
    "    \n",
    "    \n"
   ]
  },
  {
   "cell_type": "markdown",
   "metadata": {},
   "source": [
    "We start by reproducing Figure 1 of Reference 1."
   ]
  },
  {
   "cell_type": "code",
   "execution_count": null,
   "metadata": {
    "ExecuteTime": {
     "end_time": "2017-08-31T14:26:14.558017Z",
     "start_time": "2017-08-31T14:26:14.087933Z"
    }
   },
   "outputs": [],
   "source": [
    "%%opts Overlay [legend_position='bottom_right']\n",
    "from math import sqrt\n",
    "\n",
    "extents = (0,0,0.6,1.0)\n",
    "\n",
    "gr_plots = []\n",
    "for rho,x,y in gr_results:\n",
    "    Rg = sqrt(16000/6.0)\n",
    "    label = 'rho={} (typyPRISM)'.format(rho)\n",
    "    style = {'line_dash':ls[rho],'color':colors[rho]}\n",
    "    c1 = hv.Curve((x/Rg,y),label=label,extents=extents)(style=style)\n",
    "    gr_plots.append(c1)\n",
    "    \n",
    "for rho,x,y in gr_compare:\n",
    "    label = 'rho={} (Ref 1)'.format(rho)\n",
    "    style = {'marker':markers[rho],'color':colors[rho]}\n",
    "    c1 = hv.Scatter((x,y),label=label,extents=extents)(style=style)\n",
    "    gr_plots.append(c1)\n",
    "    \n",
    "    \n",
    "hv.Overlay(gr_plots).redim.label(x='r',y='g(r)')"
   ]
  },
  {
   "cell_type": "markdown",
   "metadata": {},
   "source": [
    "Next, we reproduce Figure 3:"
   ]
  },
  {
   "cell_type": "code",
   "execution_count": null,
   "metadata": {
    "ExecuteTime": {
     "end_time": "2017-08-31T14:26:15.015592Z",
     "start_time": "2017-08-31T14:26:14.561361Z"
    }
   },
   "outputs": [],
   "source": [
    "sk_plots = []\n",
    "for rho,x,y in sk_results:\n",
    "    yd = y - 1.0\n",
    "    label = 'rho={} (typyPRISM)'.format(rho)\n",
    "    style = {'line_dash':ls[rho],'color':colors[rho]}\n",
    "    c1 = hv.Curve((x,yd/yd[0]),label=label,extents=(0,0,3,None))(style=style)\n",
    "    sk_plots.append(c1)\n",
    "    \n",
    "for rho,x,y in sk_compare:\n",
    "    style = {'marker':markers[rho],'color':colors[rho]}\n",
    "    c1 = hv.Scatter((x,y),label='rho={} (Ref 1)'.format(rho),extents=(0.0,0,3,None))(style=style)\n",
    "    sk_plots.append(c1)\n",
    "    \n",
    "    \n",
    "hv.Overlay(sk_plots).redim.label(x='k',y='S(k)')"
   ]
  },
  {
   "cell_type": "markdown",
   "metadata": {},
   "source": [
    "Finally, we reproduce the inset of Figure 3:"
   ]
  },
  {
   "cell_type": "code",
   "execution_count": null,
   "metadata": {
    "ExecuteTime": {
     "end_time": "2017-08-31T14:26:34.030251Z",
     "start_time": "2017-08-31T14:26:33.758404Z"
    }
   },
   "outputs": [],
   "source": [
    "sk0_plots = []\n",
    "for rho,x,y in sk_results:\n",
    "    yd = y - 1\n",
    "    label = 'rho={} (typyPRISM)'.format(rho)\n",
    "    style = {'line_dash':ls[rho],'color':colors[rho]}\n",
    "    c1 = hv.Scatter((rho,yd[0]),label=label,extents=(0.4,0,1.2,11))(style=style)\n",
    "    sk0_plots.append(c1)\n",
    "    \n",
    "hv.Overlay(sk0_plots).redim.label(x='rho',y='S(0)')"
   ]
  },
  {
   "cell_type": "code",
   "execution_count": null,
   "metadata": {
    "collapsed": true
   },
   "outputs": [],
   "source": []
  }
 ],
 "metadata": {
  "kernelspec": {
   "display_name": "Python 3",
   "language": "python",
   "name": "python3"
  },
  "language_info": {
   "codemirror_mode": {
    "name": "ipython",
    "version": 3
   },
   "file_extension": ".py",
   "mimetype": "text/x-python",
   "name": "python",
   "nbconvert_exporter": "python",
   "pygments_lexer": "ipython3",
   "version": "3.6.2"
  }
 },
 "nbformat": 4,
 "nbformat_minor": 2
}
