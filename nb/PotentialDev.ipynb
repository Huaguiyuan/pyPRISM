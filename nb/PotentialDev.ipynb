{
 "cells": [
  {
   "cell_type": "markdown",
   "metadata": {},
   "source": [
    "# Potential"
   ]
  },
  {
   "cell_type": "code",
   "execution_count": 4,
   "metadata": {
    "ExecuteTime": {
     "end_time": "2017-08-01T16:54:44.120115Z",
     "start_time": "2017-08-01T16:54:44.089540Z"
    }
   },
   "outputs": [
    {
     "name": "stdout",
     "output_type": "stream",
     "text": [
      "The memory_profiler extension is already loaded. To reload it, use:\n",
      "  %reload_ext memory_profiler\n",
      "The snakeviz extension is already loaded. To reload it, use:\n",
      "  %reload_ext snakeviz\n",
      "The cython extension is already loaded. To reload it, use:\n",
      "  %reload_ext cython\n",
      "The autoreload extension is already loaded. To reload it, use:\n",
      "  %reload_ext autoreload\n"
     ]
    }
   ],
   "source": [
    "%load_ext memory_profiler\n",
    "%load_ext snakeviz\n",
    "%load_ext cython\n",
    "%load_ext autoreload\n",
    "%autoreload 2\n",
    "\n",
    "\n",
    "from IPython.core import debugger\n",
    "ist = debugger.set_trace"
   ]
  },
  {
   "cell_type": "code",
   "execution_count": 5,
   "metadata": {
    "ExecuteTime": {
     "end_time": "2017-08-01T16:54:44.515141Z",
     "start_time": "2017-08-01T16:54:44.487752Z"
    },
    "collapsed": true
   },
   "outputs": [],
   "source": [
    "from py.typyMagics import *\n",
    "ipy = get_ipython()\n",
    "ipy.register_magics(typyMagics)"
   ]
  },
  {
   "cell_type": "code",
   "execution_count": 6,
   "metadata": {
    "ExecuteTime": {
     "end_time": "2017-08-01T16:54:44.972747Z",
     "start_time": "2017-08-01T16:54:44.953959Z"
    },
    "collapsed": true
   },
   "outputs": [],
   "source": [
    "import sys\n",
    "sys.path.insert(0,'../')"
   ]
  },
  {
   "cell_type": "markdown",
   "metadata": {},
   "source": [
    "## BASE POTENTIAL"
   ]
  },
  {
   "cell_type": "code",
   "execution_count": 36,
   "metadata": {
    "ExecuteTime": {
     "end_time": "2017-08-01T17:20:43.465140Z",
     "start_time": "2017-08-01T17:20:43.423676Z"
    }
   },
   "outputs": [
    {
     "name": "stdout",
     "output_type": "stream",
     "text": [
      "Overwriting ../typyPRISM/potential/Potential.py\n"
     ]
    }
   ],
   "source": [
    "%%run_and_write ../typyPRISM/potential/Potential.py\n",
    "import numpy as np\n",
    "class Potential:\n",
    "    '''Baseclass for all intermolecular-pairwise potentials\n",
    "    \n",
    "    .. warning:: \n",
    "    \n",
    "     Currently, this class doesn't do anything besides group all of the\n",
    "     potentials under a single inheritance heirarchy. This will likely\n",
    "     change as needs arise.\n",
    "    \n",
    "    All potentials should inherit from Potential and these subclasses should\n",
    "    all implement a calculate method. All potential parameters should be specified\n",
    "    in the constructor except for real-space gridpoints to evaluate the \n",
    "    potential at. This information will be provided via  Domain object \n",
    "    specified in the System.\n",
    "    \n",
    "    '''\n",
    "        "
   ]
  },
  {
   "cell_type": "markdown",
   "metadata": {},
   "source": [
    "## LENNARD JONES"
   ]
  },
  {
   "cell_type": "code",
   "execution_count": 39,
   "metadata": {
    "ExecuteTime": {
     "end_time": "2017-08-01T18:33:21.361064Z",
     "start_time": "2017-08-01T18:33:21.270903Z"
    }
   },
   "outputs": [
    {
     "name": "stdout",
     "output_type": "stream",
     "text": [
      "Overwriting ../typyPRISM/potential/LennardJones.py\n"
     ]
    }
   ],
   "source": [
    "%%run_and_write ../typyPRISM/potential/LennardJones.py\n",
    "from typyPRISM.potential.Potential import Potential\n",
    "import numpy as np\n",
    "class LennardJones(Potential):\n",
    "    '''12-6 Lennard-Jones potential\n",
    "    \n",
    "    .. math::\n",
    "    \n",
    "        U(r) = 4 * \\epsilon * ((\\sigma/r)^(12.0) - (\\sigma/r)^(6.0))\n",
    "    \n",
    "    \n",
    "    Parameters\n",
    "    ----------\n",
    "    epsilon: float\n",
    "        Depth of attractive well\n",
    "        \n",
    "    sigma: float\n",
    "        Contact distance (i.e. low distance where potential magnitude = 0)\n",
    "    \n",
    "    rcut: float, *optional*\n",
    "        Cutoff distance for potential. Useful for comparing directly to results\n",
    "        from simulations where cutoffs are necessary. \n",
    "    \n",
    "    shift: bool,*optional*\n",
    "        Shift the potential by its value at the cutoff. Clearly this only makes \n",
    "        sense if rcut is specified\n",
    "    \n",
    "    '''\n",
    "    def __init__(self,epsilon,sigma,rcut=None,shift=False):\n",
    "        self.epsilon = epsilon\n",
    "        self.sigma = sigma\n",
    "        self.rcut  = rcut\n",
    "        self.shift = shift\n",
    "        self.funk  = lambda r: 4 * epsilon * ((sigma/r)**(12.0) - (sigma/r)**(6.0))\n",
    "        \n",
    "    def __repr__(self):\n",
    "        return '<Potential: LennardJones>'\n",
    "        \n",
    "    def calculate(self,r):\n",
    "        magnitude = self.funk(r)\n",
    "        \n",
    "        if self.rcut is not None:\n",
    "            if self.shift:\n",
    "                magnitude -= self.funk(self.rcut)\n",
    "            magnitude[r>self.rcut] = 0.0\n",
    "                \n",
    "        return magnitude\n",
    "        "
   ]
  },
  {
   "cell_type": "code",
   "execution_count": 17,
   "metadata": {
    "ExecuteTime": {
     "end_time": "2017-08-01T17:01:29.280500Z",
     "start_time": "2017-08-01T17:01:29.208086Z"
    }
   },
   "outputs": [
    {
     "name": "stdout",
     "output_type": "stream",
     "text": [
      "Overwriting ../typyPRISM/test/LennardJones_TestCase.py\n"
     ]
    }
   ],
   "source": [
    "%%run_and_write ../typyPRISM/test/LennardJones_TestCase.py\n",
    "import unittest\n",
    "from typyPRISM.potential.LennardJones import LennardJones\n",
    "import numpy as np\n",
    "\n",
    "class LennardJones_TestCase(unittest.TestCase):\n",
    "    def test_create(self):\n",
    "        '''Can we create a LennardJones potential?'''\n",
    "        r = np.arange(0.75,3.5,0.05)\n",
    "        epsilon = 0.25\n",
    "        sigma   = 1.05\n",
    "        rcut    = 2.5*sigma\n",
    "        shift   = True\n",
    "        \n",
    "        UShift = 4*epsilon*((sigma/rcut)**(12.0) - (sigma/rcut)**(6.0))\n",
    "        U1 = 4*epsilon*((sigma/r)**(12.0) - (sigma/r)**(6.0)) - UShift\n",
    "        U1[r>rcut] = 0\n",
    "        \n",
    "        U2 = LennardJones(epsilon,sigma,rcut=rcut,shift=shift).calculate(r)\n",
    "        np.testing.assert_array_almost_equal(U1,U2)\n",
    "        \n",
    "        \n"
   ]
  },
  {
   "cell_type": "markdown",
   "metadata": {},
   "source": [
    "## Weeks-Chandler-Andersen"
   ]
  },
  {
   "cell_type": "code",
   "execution_count": 38,
   "metadata": {
    "ExecuteTime": {
     "end_time": "2017-08-01T18:33:19.218882Z",
     "start_time": "2017-08-01T18:33:19.159279Z"
    }
   },
   "outputs": [
    {
     "name": "stdout",
     "output_type": "stream",
     "text": [
      "Overwriting ../typyPRISM/potential/WeeksChandlerAndersen.py\n"
     ]
    }
   ],
   "source": [
    "%%run_and_write ../typyPRISM/potential/WeeksChandlerAndersen.py\n",
    "from typyPRISM.potential.LennardJones import LennardJones\n",
    "import numpy as np\n",
    "class WeeksChandlerAndersen(LennardJones):\n",
    "    '''Purely repulsive Weeks-Chandler-Andersen potential\n",
    "    \n",
    "    .. math::\n",
    "    \n",
    "        U(r) = 4 * \\epsilon * ((\\sigma/r)^(12.0) - (\\sigma/r)^(6.0)) + epsilon, r<rcut\n",
    "        U(r) = 0.0, r>=rcut\n",
    "        r_{cut} = 2^(1.0/6.0) * \\sigma\n",
    "    \n",
    "    \n",
    "    Parameters\n",
    "    ----------\n",
    "    epsilon: float\n",
    "        Repulsive strength modifier\n",
    "        \n",
    "    sigma: float\n",
    "        Contact distance \n",
    "    \n",
    "    '''\n",
    "    def __init__(self,epsilon,sigma):\n",
    "        rcut = sigma * 2**(1.0/6.0)\n",
    "        super().__init__(epsilon,sigma,rcut=rcut,shift=True)\n",
    "        \n",
    "    def __repr__(self):\n",
    "        return '<Potential: WeeksChandlerAndersen>'\n",
    "        \n",
    "        "
   ]
  },
  {
   "cell_type": "code",
   "execution_count": 33,
   "metadata": {
    "ExecuteTime": {
     "end_time": "2017-08-01T17:17:32.509338Z",
     "start_time": "2017-08-01T17:17:32.433754Z"
    }
   },
   "outputs": [
    {
     "name": "stdout",
     "output_type": "stream",
     "text": [
      "Overwriting ../typyPRISM/test/WeeksChandlerAndersen_TestCase.py\n"
     ]
    }
   ],
   "source": [
    "%%run_and_write ../typyPRISM/test/WeeksChandlerAndersen_TestCase.py\n",
    "import unittest\n",
    "from typyPRISM.potential.WeeksChandlerAndersen import WeeksChandlerAndersen\n",
    "import numpy as np\n",
    "\n",
    "class WeeksChandlerAndersen_TestCase(unittest.TestCase):\n",
    "    def test_create(self):\n",
    "        '''Can we create a WeeksChandlerAndersen potential?'''\n",
    "        r = np.arange(0.75,3.5,0.05)\n",
    "        epsilon = 0.25\n",
    "        sigma   = 1.05\n",
    "        rcut    = 2.0**(1.0/6.0)*sigma\n",
    "        shift   = True\n",
    "        \n",
    "        UShift = 4*epsilon*((sigma/rcut)**(12.0) - (sigma/rcut)**(6.0))\n",
    "        U1 = 4*epsilon*((sigma/r)**(12.0) - (sigma/r)**(6.0)) - UShift\n",
    "        U1[r>rcut] = 0\n",
    "        \n",
    "        U2 = WeeksChandlerAndersen(epsilon,sigma).calculate(r)\n",
    "        np.testing.assert_array_almost_equal(U1,U2)\n",
    "        \n",
    "        \n"
   ]
  },
  {
   "cell_type": "markdown",
   "metadata": {},
   "source": [
    "## HARD SPHERE"
   ]
  },
  {
   "cell_type": "code",
   "execution_count": 37,
   "metadata": {
    "ExecuteTime": {
     "end_time": "2017-08-01T18:33:16.963970Z",
     "start_time": "2017-08-01T18:33:16.902727Z"
    }
   },
   "outputs": [
    {
     "name": "stdout",
     "output_type": "stream",
     "text": [
      "Overwriting ../typyPRISM/potential/HardSphere.py\n"
     ]
    }
   ],
   "source": [
    "%%run_and_write ../typyPRISM/potential/HardSphere.py\n",
    "from typyPRISM.potential.Potential import Potential\n",
    "import numpy as np\n",
    "class HardSphere(Potential):\n",
    "    '''Simple hard sphere potential\n",
    "    \n",
    "    .. math::\n",
    "    \n",
    "        U(r>=\\sigma)  = 0.0\n",
    "        U(r<\\sigma) = high_value\n",
    "    \n",
    "    \n",
    "    Parameters\n",
    "    ----------\n",
    "    sigma: float\n",
    "        Contact distance \n",
    "    \n",
    "    high_value: float, *optional*\n",
    "        Cutoff distance for potential. Useful for comparing directly to results\n",
    "        from simulations where cutoffs are necessary. \n",
    "    \n",
    "    \n",
    "    '''\n",
    "    def __init__(self,sigma,high_value=1e6):\n",
    "        self.sigma = sigma\n",
    "        self.high_value = high_value\n",
    "        self.funk  = lambda r: np.where(r>=sigma,0.0,high_value)\n",
    "    def __repr__(self):\n",
    "        return '<Potential: HardSphere>'\n",
    "    \n",
    "    def calculate(self,r):\n",
    "        magnitude = self.funk(r)\n",
    "        return magnitude\n",
    "        "
   ]
  },
  {
   "cell_type": "code",
   "execution_count": 26,
   "metadata": {
    "ExecuteTime": {
     "end_time": "2017-08-01T17:10:12.064614Z",
     "start_time": "2017-08-01T17:10:11.999266Z"
    }
   },
   "outputs": [
    {
     "name": "stdout",
     "output_type": "stream",
     "text": [
      "Overwriting ../typyPRISM/test/HardSphere_TestCase.py\n"
     ]
    }
   ],
   "source": [
    "%%run_and_write ../typyPRISM/test/HardSphere_TestCase.py\n",
    "import unittest\n",
    "from typyPRISM.potential.HardSphere import HardSphere\n",
    "import numpy as np\n",
    "\n",
    "class HardSphere_TestCase(unittest.TestCase):\n",
    "    def test_create(self):\n",
    "        '''Can we create a HardSphere potential?'''\n",
    "        r = np.arange(0.75,3.5,0.05)\n",
    "        sigma   = 1.05\n",
    "        high_value = 1e5\n",
    "        \n",
    "        U1 = np.zeros_like(r)\n",
    "        U1[r<sigma] = high_value\n",
    "        \n",
    "        U2 = HardSphere(sigma,high_value).calculate(r)\n",
    "        np.testing.assert_array_almost_equal(U1,U2)\n",
    "        \n",
    "        \n"
   ]
  },
  {
   "cell_type": "markdown",
   "metadata": {},
   "source": [
    "## RUN ALL"
   ]
  },
  {
   "cell_type": "code",
   "execution_count": 34,
   "metadata": {
    "ExecuteTime": {
     "end_time": "2017-08-01T17:17:36.319814Z",
     "start_time": "2017-08-01T17:17:36.280351Z"
    }
   },
   "outputs": [
    {
     "name": "stderr",
     "output_type": "stream",
     "text": [
      "test_create (__main__.LennardJones_TestCase)\n",
      "Can we create a LennardJones potential? ... ok\n",
      "test_create (__main__.HardSphere_TestCase)\n",
      "Can we create a LennardJones potential? ... ok\n",
      "test_create (__main__.WeeksChandlerAndersen_TestCase)\n",
      "Can we create a WeeksChandlerAndersen potential? ... ok\n",
      "\n",
      "----------------------------------------------------------------------\n",
      "Ran 3 tests in 0.007s\n",
      "\n",
      "OK\n"
     ]
    },
    {
     "data": {
      "text/plain": [
       "<unittest.runner.TextTestResult run=3 errors=0 failures=0>"
      ]
     },
     "execution_count": 34,
     "metadata": {},
     "output_type": "execute_result"
    }
   ],
   "source": [
    "import unittest\n",
    "suite = []\n",
    "suite.append(unittest.TestLoader().loadTestsFromTestCase(LennardJones_TestCase))\n",
    "suite.append(unittest.TestLoader().loadTestsFromTestCase(HardSphere_TestCase))\n",
    "suite.append(unittest.TestLoader().loadTestsFromTestCase(WeeksChandlerAndersen_TestCase))\n",
    "suite = unittest.TestSuite(suite)\n",
    "unittest.TextTestRunner(verbosity=2).run(suite)"
   ]
  },
  {
   "cell_type": "code",
   "execution_count": null,
   "metadata": {
    "collapsed": true
   },
   "outputs": [],
   "source": []
  }
 ],
 "metadata": {
  "kernelspec": {
   "display_name": "Python 3",
   "language": "python",
   "name": "python3"
  },
  "language_info": {
   "codemirror_mode": {
    "name": "ipython",
    "version": 3
   },
   "file_extension": ".py",
   "mimetype": "text/x-python",
   "name": "python",
   "nbconvert_exporter": "python",
   "pygments_lexer": "ipython3",
   "version": "3.6.2"
  }
 },
 "nbformat": 4,
 "nbformat_minor": 2
}
