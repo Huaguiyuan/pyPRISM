{
 "cells": [
  {
   "cell_type": "markdown",
   "metadata": {},
   "source": [
    "Polymer Blend\n",
    "===========\n",
    "\n",
    "insert description\n",
    "\n",
    "### Concepts Used\n",
    "- blergh\n",
    "\n",
    "### Tools Used\n",
    "- blergh"
   ]
  },
  {
   "cell_type": "markdown",
   "metadata": {},
   "source": [
    "References\n",
    "-----------\n",
    "1. Yethiraj, A.; Schweizer, K.S.; Integral equation theory of polymer blends: Numerical Investigation of molecular closure approximations, J. Chem. Phys., 1993, 98 (11) \n",
    " \n",
    "  "
   ]
  },
  {
   "cell_type": "markdown",
   "metadata": {},
   "source": [
    "Global Imports and Setup\n",
    "----------------------------"
   ]
  },
  {
   "cell_type": "code",
   "execution_count": null,
   "metadata": {
    "ExecuteTime": {
     "end_time": "2017-09-07T13:04:57.814637Z",
     "start_time": "2017-09-07T13:04:56.370322Z"
    }
   },
   "outputs": [],
   "source": [
    "import numpy as np\n",
    "import holoviews as hv\n",
    "hv.extension('bokeh')\n",
    "\n",
    "%load_ext autoreload\n",
    "%autoreload 2"
   ]
  },
  {
   "cell_type": "code",
   "execution_count": null,
   "metadata": {
    "ExecuteTime": {
     "end_time": "2017-09-07T13:04:58.176069Z",
     "start_time": "2017-09-07T13:04:57.946551Z"
    },
    "collapsed": true
   },
   "outputs": [],
   "source": [
    "%opts Curve Scatter [width=500,height=400] Layout [shared_axes=False] Scatter (size=10,alpha=0.5)\n",
    "%opts Curve Scatter [fontsize={'xlabel':14,'legend':14,'ylabel':14,'ticks':14}]\n",
    "%opts Overlay [legend_position='bottom_left']\n",
    "%opts Layout [shared_axes=False]\n",
    "\n",
    "\n",
    "colors = {}\n",
    "colors[1.0] = 'blue'\n",
    "colors[0.8] = 'red'\n",
    "colors[0.6] = 'green'\n",
    "\n",
    "ls = {}\n",
    "ls[1.0] = 'solid'\n",
    "ls[0.8] = 'dashed'\n",
    "ls[0.6] = 'dotted'\n",
    "\n",
    "markers = {}\n",
    "markers[1.0] = 'o'\n",
    "markers[0.8] = '^'\n",
    "markers[0.6] = 'd'"
   ]
  },
  {
   "cell_type": "markdown",
   "metadata": {},
   "source": [
    "Demo\n",
    "-----"
   ]
  },
  {
   "cell_type": "markdown",
   "metadata": {},
   "source": [
    "First we'll load in the data extracted from the literature that we'll be comparing against. "
   ]
  },
  {
   "cell_type": "code",
   "execution_count": null,
   "metadata": {
    "ExecuteTime": {
     "end_time": "2017-09-02T12:44:47.745585Z",
     "start_time": "2017-09-02T12:44:47.695054Z"
    },
    "collapsed": true
   },
   "outputs": [],
   "source": [
    "gr_compare = []\n",
    "sk_compare = []\n",
    "for density in [0.6,0.8,1.0]:\n",
    "    fname = './data/LinearMelt-Gr-rho{}.csv'.format(density)\n",
    "    x,y = np.loadtxt(fname,delimiter=',').T\n",
    "    gr_compare.append([density,x,y])\n",
    "    \n",
    "    fname = './data/LinearMelt-Sk-rho{}.csv'.format(density)\n",
    "    x,y = np.loadtxt(fname,delimiter=',').T\n",
    "    sk_compare.append([density,x,y])\n"
   ]
  },
  {
   "cell_type": "markdown",
   "metadata": {},
   "source": [
    "Next,..."
   ]
  },
  {
   "cell_type": "code",
   "execution_count": null,
   "metadata": {
    "ExecuteTime": {
     "end_time": "2017-09-07T14:03:33.114408Z",
     "start_time": "2017-09-07T13:41:45.373865Z"
    },
    "scrolled": true
   },
   "outputs": [],
   "source": [
    "import typyPRISM\n",
    "import numpy as np\n",
    "\n",
    "N = 100\n",
    "sigma = l = 1.0\n",
    "phi   = 0.5\n",
    "eta   = 0.3\n",
    "v1   = 4.0/3.0 * np.pi * (sigma/2.0)**(3.0)\n",
    "rhoA = phi * eta/v1\n",
    "rhoB = (1-phi) * eta/v1\n",
    "print(rhoA,rhoB)\n",
    "\n",
    "kT = 10.0\n",
    "\n",
    "sys = typyPRISM.System(['A','B'],kT=kT)\n",
    "sys.domain = typyPRISM.Domain(dr=0.05,length=2048)\n",
    "\n",
    "sys.density['A'] = rhoA\n",
    "sys.density['B'] = rhoB\n",
    "\n",
    "sys.potential[sys.types,sys.types] = typyPRISM.potential.HardSphere(sigma=sigma)\n",
    "sys.potential['A','B'] = typyPRISM.potential.HardCoreLennardJones(epsilon=+1.0,sigma=sigma)\n",
    "sys.closure[sys.types,sys.types] = typyPRISM.closure.PercusYevick()\n",
    "sys.omega[sys.types,sys.types] = typyPRISM.omega.DiscreteKoyama(epsilon=0.001,length=N,sigma=sigma,l=l)\n",
    "\n",
    "PRISM = sys.createPRISM()\n",
    "PRISM.solve()\n",
    "\n",
    "C0 = PRISM.directCorr\n"
   ]
  },
  {
   "cell_type": "code",
   "execution_count": null,
   "metadata": {
    "ExecuteTime": {
     "end_time": "2017-09-07T15:20:59.301027Z",
     "start_time": "2017-09-07T15:20:59.273699Z"
    },
    "collapsed": true
   },
   "outputs": [],
   "source": [
    "guess = np.copy(PRISM.x)"
   ]
  },
  {
   "cell_type": "code",
   "execution_count": null,
   "metadata": {
    "ExecuteTime": {
     "end_time": "2017-09-07T21:12:58.966384Z",
     "start_time": "2017-09-07T20:57:09.859285Z"
    },
    "scrolled": true
   },
   "outputs": [],
   "source": [
    "import typyPRISM\n",
    "import numpy as np\n",
    "\n",
    "N = 8\n",
    "sigma = l = 1.0\n",
    "phi   = 0.5\n",
    "eta   = 0.3\n",
    "eps_bend = 0.001\n",
    "v1   = 4.0/3.0 * np.pi * (sigma/2.0)**(3.0)\n",
    "rhoA = phi * eta/v1\n",
    "rhoB = (1-phi) * eta/v1\n",
    "print(rhoA,rhoB)\n",
    "\n",
    "kT = 1\n",
    "\n",
    "sys = typyPRISM.System(['A','B'],kT=kT)\n",
    "sys.domain = typyPRISM.Domain(dr=0.05,length=2048)\n",
    "\n",
    "sys.density['A'] = rhoA\n",
    "sys.density['B'] = rhoB\n",
    "\n",
    "sys.potential[sys.types,sys.types] = typyPRISM.potential.HardSphere(sigma=sigma)\n",
    "sys.closure[sys.types,sys.types] = typyPRISM.closure.PercusYevick()\n",
    "sys.omega[sys.types,sys.types] = typyPRISM.omega.DiscreteKoyama(epsilon=eps_bend,length=N,sigma=sigma,l=l)\n",
    "\n",
    "epsilon = +0.1\n",
    "print('T=',kT/epsilon)\n",
    "print('1/T=',epsilon/kT)\n",
    "sys.potential['A','B'] = typyPRISM.potential.HardCoreLennardJones(epsilon=epsilon,sigma=sigma)\n",
    "\n",
    "PRISM = sys.createPRISM()\n",
    "PRISM.solve(guess)\n",
    "# PRISM.solve()\n",
    "\n",
    "print('T=',kT/epsilon)\n",
    "print('1/T=',epsilon/kT)\n",
    "\n",
    "lam = typyPRISM.calculate.prism.spinodal_condition(PRISM)\n",
    "lam['A','B'][:5]\n",
    "\n"
   ]
  },
  {
   "cell_type": "code",
   "execution_count": null,
   "metadata": {
    "ExecuteTime": {
     "end_time": "2017-09-07T14:32:11.652113Z",
     "start_time": "2017-09-07T14:32:11.609792Z"
    }
   },
   "outputs": [],
   "source": [
    "import sys\n",
    "sys.path"
   ]
  },
  {
   "cell_type": "code",
   "execution_count": null,
   "metadata": {
    "collapsed": true
   },
   "outputs": [],
   "source": []
  }
 ],
 "metadata": {
  "kernelspec": {
   "display_name": "Python 3",
   "language": "python",
   "name": "python3"
  },
  "language_info": {
   "codemirror_mode": {
    "name": "ipython",
    "version": 3
   },
   "file_extension": ".py",
   "mimetype": "text/x-python",
   "name": "python",
   "nbconvert_exporter": "python",
   "pygments_lexer": "ipython3",
   "version": "3.6.2"
  }
 },
 "nbformat": 4,
 "nbformat_minor": 2
}
