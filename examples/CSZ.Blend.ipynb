{
 "cells": [
  {
   "cell_type": "markdown",
   "metadata": {},
   "source": [
    "Ring Polymer Melt\n",
    "===========\n",
    "\n",
    "insert description\n",
    "\n",
    "### Concepts Used\n",
    "- blergh\n",
    "\n",
    "### Tools Used\n",
    "- blergh"
   ]
  },
  {
   "cell_type": "markdown",
   "metadata": {},
   "source": [
    "References\n",
    "-----------\n",
    " \n",
    "  "
   ]
  },
  {
   "cell_type": "markdown",
   "metadata": {},
   "source": [
    "Global Imports and Setup\n",
    "----------------------------"
   ]
  },
  {
   "cell_type": "code",
   "execution_count": null,
   "metadata": {
    "ExecuteTime": {
     "end_time": "2017-09-03T17:25:35.674006Z",
     "start_time": "2017-09-03T17:25:35.575063Z"
    }
   },
   "outputs": [],
   "source": [
    "import numpy as np\n",
    "import holoviews as hv\n",
    "hv.extension('bokeh')\n",
    "\n",
    "%load_ext autoreload\n",
    "%autoreload 2"
   ]
  },
  {
   "cell_type": "code",
   "execution_count": null,
   "metadata": {
    "ExecuteTime": {
     "end_time": "2017-09-03T17:25:36.555272Z",
     "start_time": "2017-09-03T17:25:36.336258Z"
    },
    "collapsed": true
   },
   "outputs": [],
   "source": [
    "%opts Curve Scatter [width=500,height=400] Layout [shared_axes=False] Scatter (size=10,alpha=0.5)\n",
    "%opts Curve Scatter [fontsize={'xlabel':14,'xlabel':14,'ylabel':14,'ticks':12}]\n",
    "%opts Overlay [legend_position='bottom_left']\n",
    "%opts Layout [shared_axes=False]\n",
    "\n",
    "\n",
    "colors = {}\n",
    "colors[2000] = 'blue'\n",
    "colors[500] = 'red'\n",
    "colors[100] = 'green'\n",
    "\n",
    "ls = {}\n",
    "ls[2000] = 'solid'\n",
    "ls[500] = 'dashed'\n",
    "ls[100] = 'dotted'\n",
    "\n",
    "markers = {}\n",
    "markers[2000] = 'o'\n",
    "markers[500] = '^'\n",
    "markers[100] = 'd'"
   ]
  },
  {
   "cell_type": "markdown",
   "metadata": {},
   "source": [
    "Demo\n",
    "-----"
   ]
  },
  {
   "cell_type": "markdown",
   "metadata": {},
   "source": [
    "Now we do the PRISM calculation..."
   ]
  },
  {
   "cell_type": "code",
   "execution_count": null,
   "metadata": {
    "ExecuteTime": {
     "end_time": "2017-09-03T17:56:34.660250Z",
     "start_time": "2017-09-03T17:52:29.154519Z"
    },
    "scrolled": true
   },
   "outputs": [],
   "source": [
    "import typyPRISM\n",
    "from typyPRISM.calculate.prism.pair_correlation import pair_correlation\n",
    "\n",
    "\n",
    "dA = 1.0\n",
    "dB = 1.0\n",
    "vA = 4.0/3.0 * np.pi * (dA/2.0)**(3.0)\n",
    "vB = 4.0/3.0 * np.pi * (dB/2.0)**(3.0)\n",
    "\n",
    "eta = 0.3\n",
    "phi = 0.5\n",
    "rhoA = phi * eta/vA\n",
    "rhoB = (1-phi) * eta/vA\n",
    "\n",
    "lengthA = 2000\n",
    "lengthB = 2000\n",
    "\n",
    "sys = typyPRISM.System(['A','B'],kT=1.0)\n",
    "sys.domain = typyPRISM.Domain(dr=0.05,length=2048)\n",
    "\n",
    "sys.density['A'] = rhoA\n",
    "sys.density['B'] = rhoB\n",
    "\n",
    "sys.closure['A','A'] = typyPRISM.closure.PercusYevick()\n",
    "sys.closure['A','B'] = typyPRISM.closure.PercusYevick()\n",
    "sys.closure['B','B'] = typyPRISM.closure.PercusYevick()\n",
    "\n",
    "sys.potential['A','A'] = typyPRISM.potential.HardSphere(sigma=dA)\n",
    "sys.potential['A','B'] = typyPRISM.potential.HardCoreLennardJones(sigma=(dA+dB)/2.0,epsilon=-0.1)\n",
    "# sys.potential['A','B'] = typyPRISM.potential.HardSphere(sigma=(dA+dB)/2.0)\n",
    "sys.potential['B','B'] = typyPRISM.potential.HardSphere(sigma=dB)\n",
    "\n",
    "sys.omega['A','A'] = typyPRISM.omega.GaussianRing(sigma=1.0,length=lengthA)\n",
    "sys.omega['A','B'] = typyPRISM.omega.InterMolecular()\n",
    "sys.omega['B','B'] = typyPRISM.omega.GaussianRing(sigma=1.0,length=lengthB)\n",
    "\n",
    "PRISM = sys.createPRISM()\n",
    "\n",
    "result = PRISM.solve()\n"
   ]
  },
  {
   "cell_type": "markdown",
   "metadata": {},
   "source": [
    "Here we reproduce Figure 1 of Reference 1."
   ]
  },
  {
   "cell_type": "code",
   "execution_count": null,
   "metadata": {
    "ExecuteTime": {
     "end_time": "2017-08-31T19:24:17.236602Z",
     "start_time": "2017-08-31T19:24:16.693312Z"
    },
    "collapsed": true
   },
   "outputs": [],
   "source": [
    "%%opts Overlay [legend_position='bottom_right']\n",
    "from math import sqrt\n",
    "\n",
    "extents = (0,0,13,1.0)\n",
    "\n",
    "gr_plots = []\n",
    "for name,N,x,y in gr_results:\n",
    "    label = 'N={} (typyPRISM)'.format(N)\n",
    "    style = {'line_dash':ls[N],'color':colors[N]}\n",
    "    c1 = hv.Curve((x,y),label=label,extents=extents)(style=style)\n",
    "    gr_plots.append(c1)\n",
    "    \n",
    "for N,x,y in gr_compare:\n",
    "    label = 'N={} (Ref 1)'.format(N)\n",
    "    style = {'marker':markers[N],'color':colors[N]}\n",
    "    c1 = hv.Scatter((x,y),label=label,extents=extents)(style=style)\n",
    "    gr_plots.append(c1)\n",
    "    \n",
    "    \n",
    "hv.Overlay(gr_plots).redim.label(x='r',y='g(r)')"
   ]
  },
  {
   "cell_type": "code",
   "execution_count": null,
   "metadata": {
    "collapsed": true
   },
   "outputs": [],
   "source": []
  }
 ],
 "metadata": {
  "kernelspec": {
   "display_name": "Python 3",
   "language": "python",
   "name": "python3"
  },
  "language_info": {
   "codemirror_mode": {
    "name": "ipython",
    "version": 3
   },
   "file_extension": ".py",
   "mimetype": "text/x-python",
   "name": "python",
   "nbconvert_exporter": "python",
   "pygments_lexer": "ipython3",
   "version": "3.6.2"
  }
 },
 "nbformat": 4,
 "nbformat_minor": 2
}
