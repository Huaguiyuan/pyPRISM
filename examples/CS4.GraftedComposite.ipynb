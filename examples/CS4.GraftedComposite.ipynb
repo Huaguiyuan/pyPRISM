{
 "cells": [
  {
   "cell_type": "markdown",
   "metadata": {},
   "source": [
    "# Grafted Particle Composite\n",
    "\n",
    "description\n",
    "\n",
    "### Concepts Used\n",
    "- blergh\n",
    "\n",
    "### Tools Used\n",
    "- blergh"
   ]
  },
  {
   "cell_type": "markdown",
   "metadata": {},
   "source": [
    "References\n",
    "------------\n",
    "1. Modica, K.J.; Martin, T.B.; Jayaraman, A.J.; Effect of Architecture on the Structure\n",
    "   and Interactions of Polymer Grafted Particles: Theory and Simulation, Macromolecules, \n",
    "   2017, 50 (12), pp 4854-4866\n"
   ]
  },
  {
   "cell_type": "markdown",
   "metadata": {},
   "source": [
    "Global Imports and Setup\n",
    "---------------------------"
   ]
  },
  {
   "cell_type": "code",
   "execution_count": null,
   "metadata": {
    "ExecuteTime": {
     "end_time": "2017-09-10T19:53:13.114170Z",
     "start_time": "2017-09-10T19:53:11.319072Z"
    }
   },
   "outputs": [],
   "source": [
    "import holoviews as hv\n",
    "hv.extension('bokeh')\n",
    "\n",
    "import numpy as np\n",
    "\n",
    "def interpolate_guess(domain_from,domain_to,rank,guess):\n",
    "    '''Helper for upscaling the intial guesses'''\n",
    "    guess = guess.reshape((domain_from.length,rank,rank))\n",
    "    new_guess = np.zeros((domain_to.length,rank,rank))\n",
    "    for i in range(rank):\n",
    "        for j in range(rank):\n",
    "            new_guess[:,i,j] = np.interp(domain_to.r,domain_from.r,guess[:,i,j])\n",
    "    return new_guess.reshape((-1,))"
   ]
  },
  {
   "cell_type": "code",
   "execution_count": null,
   "metadata": {
    "ExecuteTime": {
     "end_time": "2017-09-10T19:53:13.313539Z",
     "start_time": "2017-09-10T19:53:13.116869Z"
    },
    "collapsed": true
   },
   "outputs": [],
   "source": [
    "%opts Curve Scatter [width=500,height=400] Layout [shared_axes=False] Scatter (size=10,alpha=0.5)\n",
    "%opts Curve Scatter [fontsize={'xlabel':14,'xlabel':14,'ylabel':14,'ticks':12}]\n",
    "%opts Overlay [legend_position='bottom_left']\n",
    "%opts Layout [shared_axes=False]\n",
    "\n",
    "\n",
    "colors = {}\n",
    "colors['linear',10] = 'blue'\n",
    "colors['linear',60] = 'red'\n",
    "colors['comb',10] = 'green'\n",
    "colors['comb',60] = 'magenta'\n",
    "\n",
    "ls = {}\n",
    "ls['linear',10] = 'solid'\n",
    "ls['linear',60] = 'dashed'\n",
    "ls['comb',10] = 'dotted'\n",
    "ls['comb',60] = 'dashdot'\n",
    "\n",
    "\n",
    "markers = {}\n",
    "markers['linear',10] = 'o'\n",
    "markers['linear',60] = '^'\n",
    "markers['comb',10] = 'd'\n",
    "markers['comb',60] = 's'\n"
   ]
  },
  {
   "cell_type": "markdown",
   "metadata": {},
   "source": [
    "## Demo"
   ]
  },
  {
   "cell_type": "markdown",
   "metadata": {},
   "source": [
    "First we load the reference data"
   ]
  },
  {
   "cell_type": "code",
   "execution_count": null,
   "metadata": {
    "ExecuteTime": {
     "end_time": "2017-09-10T19:53:14.140271Z",
     "start_time": "2017-09-10T19:53:14.076850Z"
    }
   },
   "outputs": [],
   "source": [
    "PMF_compare = []\n",
    "for arch in ['linear','comb']:\n",
    "    for Nmatrix in [10,60]:\n",
    "        fname = './data/GraftedComposite-Gr-{}-Nmatrix{}-PP.dat'.format(arch,Nmatrix)\n",
    "        x,y = np.loadtxt(fname).T\n",
    "        y = -np.log(y)\n",
    "        PMF_compare.append([arch,Nmatrix,x,y])"
   ]
  },
  {
   "cell_type": "markdown",
   "metadata": {},
   "source": [
    "Solving the PRISM problem..."
   ]
  },
  {
   "cell_type": "code",
   "execution_count": null,
   "metadata": {
    "ExecuteTime": {
     "end_time": "2017-09-10T19:56:15.012346Z",
     "start_time": "2017-09-10T19:56:07.792738Z"
    }
   },
   "outputs": [],
   "source": [
    "import typyPRISM\n",
    "from typyPRISM.calculate.prism.pair_correlation import pair_correlation\n",
    "from typyPRISM.calculate.prism.pmf import pmf\n",
    "import numpy as np\n",
    "\n",
    "D = 5.0\n",
    "d = 1.0\n",
    "phi = 0.001\n",
    "eta = 0.35\n",
    "vd = 4.0/3.0 * np.pi * (d/2.0)**(3)\n",
    "vD = 4.0/3.0 * np.pi * (D/2.0)**(3)\n",
    "\n",
    "\n",
    "sys = typyPRISM.System(['particle','graft','matrix'],kT=1.0)\n",
    "sys.domain = typyPRISM.Domain(dr=0.1,length=1024)\n",
    "\n",
    "sys.diameter['particle'] = D\n",
    "sys.diameter['graft']    = d\n",
    "sys.diameter['matrix']   = d\n",
    "\n",
    "sys.omega['particle','matrix']  = typyPRISM.omega.InterMolecular()\n",
    "sys.omega['graft','matrix']     = typyPRISM.omega.InterMolecular()\n",
    "sys.omega['particle','particle'] = typyPRISM.omega.SingleSite()\n",
    "\n",
    "sys.closure[sys.types,sys.types]   = typyPRISM.closure.PercusYevick()\n",
    "sys.closure['particle','particle'] = typyPRISM.closure.HyperNettedChain()\n",
    "\n",
    "sys.potential[sys.types,sys.types]   = typyPRISM.potential.HardSphere(sigma=d)\n",
    "sys.potential['particle',sys.types]  = typyPRISM.potential.HardSphere(sigma=(d + D)/2.0)\n",
    "sys.potential['particle','particle'] = typyPRISM.potential.HardSphere(sigma=D)\n",
    "\n",
    "guess = np.zeros((sys.domain.length,sys.rank,sys.rank))\n",
    "PMF_results = []\n",
    "for Nmatrix in [60,10]:\n",
    "    sys.omega['matrix','matrix']   = typyPRISM.omega.FromFile('./data/GraftedComposite-Omega-matrix-N{}.dat'.format(Nmatrix))\n",
    "    sys.omega['graft','graft']     = typyPRISM.omega.FromFile('./data/GraftedComposite-Omega-linear-GG.dat')\n",
    "    sys.omega['graft','particle']  = typyPRISM.omega.FromFile('./data/GraftedComposite-Omega-linear-GP.dat')\n",
    "    \n",
    "    numGraftBeads = 500\n",
    "    vPGP = vD + numGraftBeads*vd\n",
    "    sys.density['matrix']   = (1-phi)*eta/vd\n",
    "    sys.density['particle'] = phi*eta/vPGP\n",
    "    sys.density['graft']    = numGraftBeads * phi*eta/vPGP\n",
    "    print('--> rho=',sys.density['graft'],sys.density['particle'],sys.density['matrix'])\n",
    "    PRISM = sys.createPRISM()\n",
    "    PRISM.solve(guess)\n",
    "    guess = np.copy(PRISM.x)\n",
    "    PMF_results.append(['linear',Nmatrix,sys.domain.r,pmf(PRISM)['particle','particle']])\n",
    "    \n",
    "    numGraftBeads = 1250\n",
    "    vPGP = vD + numGraftBeads*vd\n",
    "    sys.density['matrix']  = (1-phi)*eta/vd\n",
    "    sys.density['particle'] = phi*eta/vPGP\n",
    "    sys.density['graft']    = numGraftBeads * phi*eta/vPGP\n",
    "    print('--> rho=',sys.density['graft'],sys.density['particle'],sys.density['matrix'])\n",
    "    sys.omega['matrix','matrix']   = typyPRISM.omega.FromFile('./data/GraftedComposite-Omega-matrix-N{}.dat'.format(Nmatrix))\n",
    "    sys.omega['graft','graft']     = typyPRISM.omega.FromFile('./data/GraftedComposite-Omega-comb-GG.dat')\n",
    "    sys.omega['graft','particle']  = typyPRISM.omega.FromFile('./data/GraftedComposite-Omega-comb-GP.dat')\n",
    "    PRISM = sys.createPRISM()\n",
    "    result = PRISM.solve(guess)\n",
    "    PMF_results.append(['comb',Nmatrix,sys.domain.r,pmf(PRISM)['particle','particle']])\n"
   ]
  },
  {
   "cell_type": "markdown",
   "metadata": {},
   "source": [
    "Plot the results!"
   ]
  },
  {
   "cell_type": "code",
   "execution_count": null,
   "metadata": {
    "ExecuteTime": {
     "end_time": "2017-09-10T19:56:17.699152Z",
     "start_time": "2017-09-10T19:56:17.162878Z"
    }
   },
   "outputs": [],
   "source": [
    "%%opts Overlay [legend_position='top_right']\n",
    "from math import sqrt\n",
    "\n",
    "extents = (10,-0.2,40,0.2)\n",
    "gr_plots = []\n",
    "for arch,Nmatrix,x,y in PMF_results:\n",
    "    key = (arch,Nmatrix)\n",
    "    label = 'alpha={} (typyPRISM)'.format(key)\n",
    "    style = {'line_dash':ls[key],'color':colors[key]}\n",
    "    c1 = hv.Curve((x,y),label=label,extents=extents)(style=style)\n",
    "    gr_plots.append(c1)\n",
    "    \n",
    "step = 10\n",
    "for arch,Nmatrix,x,y in PMF_compare:\n",
    "    x = x[::step]\n",
    "    y = y[::step]\n",
    "    key = (arch,Nmatrix)\n",
    "    label = 'alpha={} (Ref 1)'.format(key)\n",
    "    style = {'marker':markers[key],'color':colors[key]}\n",
    "    c1 = hv.Scatter((x,y),label=label,extents=extents)(style=style)\n",
    "    gr_plots.append(c1)\n",
    "    \n",
    "    \n",
    "hv.Overlay(gr_plots).redim.label(x='r',y='g(r)')"
   ]
  },
  {
   "cell_type": "code",
   "execution_count": null,
   "metadata": {
    "collapsed": true
   },
   "outputs": [],
   "source": []
  }
 ],
 "metadata": {
  "kernelspec": {
   "display_name": "Python 3",
   "language": "python",
   "name": "python3"
  },
  "language_info": {
   "codemirror_mode": {
    "name": "ipython",
    "version": 3
   },
   "file_extension": ".py",
   "mimetype": "text/x-python",
   "name": "python",
   "nbconvert_exporter": "python",
   "pygments_lexer": "ipython3",
   "version": "3.6.2"
  }
 },
 "nbformat": 4,
 "nbformat_minor": 2
}
