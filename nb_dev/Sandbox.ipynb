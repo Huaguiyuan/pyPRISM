{
 "cells": [
  {
   "cell_type": "code",
   "execution_count": 1,
   "metadata": {
    "ExecuteTime": {
     "end_time": "2017-07-23T01:04:20.950267Z",
     "start_time": "2017-07-23T01:04:20.937719Z"
    },
    "collapsed": true
   },
   "outputs": [],
   "source": [
    "from py.typyMagics import typyMagics\n",
    "ip = get_ipython()\n",
    "ip.register_magics(typyMagics)"
   ]
  },
  {
   "cell_type": "code",
   "execution_count": 3,
   "metadata": {
    "ExecuteTime": {
     "end_time": "2017-07-23T01:04:34.005704Z",
     "start_time": "2017-07-23T01:04:33.997333Z"
    }
   },
   "outputs": [
    {
     "name": "stdout",
     "output_type": "stream",
     "text": [
      "Overwriting py/test.py\n"
     ]
    }
   ],
   "source": [
    "%%run_and_write py/test.py\n",
    "def test(blargh):\n",
    "    pass"
   ]
  },
  {
   "cell_type": "code",
   "execution_count": 10,
   "metadata": {
    "ExecuteTime": {
     "end_time": "2017-07-23T01:03:21.001454Z",
     "start_time": "2017-07-23T01:03:20.978075Z"
    }
   },
   "outputs": [
    {
     "data": {
      "text/plain": [
       "<function __main__.testt>"
      ]
     },
     "execution_count": 10,
     "metadata": {},
     "output_type": "execute_result"
    }
   ],
   "source": []
  },
  {
   "cell_type": "code",
   "execution_count": 1,
   "metadata": {
    "ExecuteTime": {
     "end_time": "2017-08-03T17:01:08.675387Z",
     "start_time": "2017-08-03T17:01:08.412468Z"
    }
   },
   "outputs": [
    {
     "ename": "AttributeError",
     "evalue": "module 'numpy.linalg.lapack_lite' has no attribute 'dgesv'",
     "output_type": "error",
     "traceback": [
      "\u001b[0;31m---------------------------------------------------------------------------\u001b[0m",
      "\u001b[0;31mAttributeError\u001b[0m                            Traceback (most recent call last)",
      "\u001b[0;32m<ipython-input-1-ba7bd2c286bb>\u001b[0m in \u001b[0;36m<module>\u001b[0;34m()\u001b[0m\n\u001b[1;32m     22\u001b[0m \u001b[0;34m\u001b[0m\u001b[0m\n\u001b[1;32m     23\u001b[0m \u001b[0;32mfrom\u001b[0m \u001b[0mnumpy\u001b[0m\u001b[0;34m.\u001b[0m\u001b[0mlinalg\u001b[0m \u001b[0;32mimport\u001b[0m \u001b[0mlapack_lite\u001b[0m\u001b[0;34m\u001b[0m\u001b[0m\n\u001b[0;32m---> 24\u001b[0;31m \u001b[0mlapack_routine\u001b[0m \u001b[0;34m=\u001b[0m \u001b[0mlapack_lite\u001b[0m\u001b[0;34m.\u001b[0m\u001b[0mdgesv\u001b[0m\u001b[0;34m\u001b[0m\u001b[0m\n\u001b[0m\u001b[1;32m     25\u001b[0m \u001b[0;31m# Looking one step deeper, we see that solve performs many sanity checks.\u001b[0m\u001b[0;34m\u001b[0m\u001b[0;34m\u001b[0m\u001b[0m\n\u001b[1;32m     26\u001b[0m \u001b[0;31m# Stripping these, we have:\u001b[0m\u001b[0;34m\u001b[0m\u001b[0;34m\u001b[0m\u001b[0m\n",
      "\u001b[0;31mAttributeError\u001b[0m: module 'numpy.linalg.lapack_lite' has no attribute 'dgesv'"
     ]
    }
   ],
   "source": [
    "import numpy as np\n",
    "A = np.random.rand(1000,3,3)\n",
    "def slow_inverse(A): \n",
    "    Ainv = np.zeros_like(A)\n",
    "\n",
    "    for i in range(A.shape[0]):\n",
    "        Ainv[i] = np.linalg.inv(A[i])\n",
    "    return Ainv\n",
    "\n",
    "def fast_inverse(A):\n",
    "    identity = np.identity(A.shape[2], dtype=A.dtype)\n",
    "    Ainv = np.zeros_like(A)\n",
    "\n",
    "    for i in range(A.shape[0]):\n",
    "        Ainv[i] = np.linalg.solve(A[i], identity)\n",
    "    return Ainv\n",
    "\n",
    "def fast_inverse2(A):\n",
    "    identity = np.identity(A.shape[2], dtype=A.dtype)\n",
    "\n",
    "    return array([np.linalg.solve(x, identity) for x in A])\n",
    "\n",
    "from numpy.linalg import lapack_lite\n",
    "lapack_routine = lapack_lite.dgesv\n",
    "# Looking one step deeper, we see that solve performs many sanity checks.  \n",
    "# Stripping these, we have:\n",
    "def faster_inverse(A):\n",
    "    b = np.identity(A.shape[2], dtype=A.dtype)\n",
    "\n",
    "    n_eq = A.shape[1]\n",
    "    n_rhs = A.shape[2]\n",
    "    pivots = zeros(n_eq, np.intc)\n",
    "    identity  = np.eye(n_eq)\n",
    "    def lapack_inverse(a):\n",
    "        b = np.copy(identity)\n",
    "        pivots = zeros(n_eq, np.intc)\n",
    "        results = lapack_lite.dgesv(n_eq, n_rhs, a, n_eq, pivots, b, n_eq, 0)\n",
    "        if results['info'] > 0:\n",
    "            raise LinAlgError('Singular matrix')\n",
    "        return b\n",
    "\n",
    "    return array([lapack_inverse(a) for a in A])\n",
    "\n",
    "\n",
    "%timeit -n 20 aI11 = slow_inverse(A)\n",
    "%timeit -n 20 aI12 = fast_inverse(A)\n",
    "%timeit -n 20 aI13 = fast_inverse2(A)\n",
    "%timeit -n 20 aI14 = faster_inverse(A)"
   ]
  },
  {
   "cell_type": "code",
   "execution_count": 16,
   "metadata": {
    "ExecuteTime": {
     "end_time": "2017-08-03T17:16:04.182928Z",
     "start_time": "2017-08-03T17:16:04.171316Z"
    }
   },
   "outputs": [
    {
     "name": "stdout",
     "output_type": "stream",
     "text": [
      "[[[2 1 0]\n",
      "  [2 0 0]\n",
      "  [2 0 1]]\n",
      "\n",
      " [[2 1 0]\n",
      "  [2 0 0]\n",
      "  [2 0 1]]\n",
      "\n",
      " [[2 1 0]\n",
      "  [2 0 0]\n",
      "  [2 0 1]]\n",
      "\n",
      " [[2 1 0]\n",
      "  [2 0 0]\n",
      "  [2 0 1]]\n",
      "\n",
      " [[2 1 0]\n",
      "  [2 0 0]\n",
      "  [2 0 1]]]\n",
      "[[[ 0.   0.5  0. ]\n",
      "  [ 1.  -1.  -0. ]\n",
      "  [ 0.  -1.   1. ]]\n",
      "\n",
      " [[ 0.   0.5  0. ]\n",
      "  [ 1.  -1.  -0. ]\n",
      "  [ 0.  -1.   1. ]]\n",
      "\n",
      " [[ 0.   0.5  0. ]\n",
      "  [ 1.  -1.  -0. ]\n",
      "  [ 0.  -1.   1. ]]\n",
      "\n",
      " [[ 0.   0.5  0. ]\n",
      "  [ 1.  -1.  -0. ]\n",
      "  [ 0.  -1.   1. ]]\n",
      "\n",
      " [[ 0.   0.5  0. ]\n",
      "  [ 1.  -1.  -0. ]\n",
      "  [ 0.  -1.   1. ]]]\n",
      "[[ 0.   0.5  0. ]\n",
      " [ 1.  -1.  -0. ]\n",
      " [ 0.  -1.   1. ]]\n"
     ]
    }
   ],
   "source": [
    "A = [[2,1,0],[2,0,0],[2,0,1]]\n",
    "B = np.array([A,A,A,A,A])\n",
    "print(B)\n",
    "print(np.linalg.inv(B))\n",
    "print(np.linalg.inv(A))\n",
    "\n"
   ]
  },
  {
   "cell_type": "code",
   "execution_count": 4,
   "metadata": {
    "ExecuteTime": {
     "end_time": "2017-08-03T17:11:42.649472Z",
     "start_time": "2017-08-03T17:11:42.645969Z"
    }
   },
   "outputs": [
    {
     "ename": "SyntaxError",
     "evalue": "Missing parentheses in call to 'print' (<ipython-input-4-bc57f94b427c>, line 1)",
     "output_type": "error",
     "traceback": [
      "\u001b[0;36m  File \u001b[0;32m\"<ipython-input-4-bc57f94b427c>\"\u001b[0;36m, line \u001b[0;32m1\u001b[0m\n\u001b[0;31m    print B\u001b[0m\n\u001b[0m          ^\u001b[0m\n\u001b[0;31mSyntaxError\u001b[0m\u001b[0;31m:\u001b[0m Missing parentheses in call to 'print'\n"
     ]
    }
   ],
   "source": []
  },
  {
   "cell_type": "code",
   "execution_count": null,
   "metadata": {
    "collapsed": true
   },
   "outputs": [],
   "source": []
  }
 ],
 "metadata": {
  "kernelspec": {
   "display_name": "Python 3",
   "language": "python",
   "name": "python3"
  },
  "language_info": {
   "codemirror_mode": {
    "name": "ipython",
    "version": 3
   },
   "file_extension": ".py",
   "mimetype": "text/x-python",
   "name": "python",
   "nbconvert_exporter": "python",
   "pygments_lexer": "ipython3",
   "version": "3.6.2"
  }
 },
 "nbformat": 4,
 "nbformat_minor": 2
}
