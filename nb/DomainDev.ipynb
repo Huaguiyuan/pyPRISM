{
 "cells": [
  {
   "cell_type": "markdown",
   "metadata": {},
   "source": [
    "# DOMAIN"
   ]
  },
  {
   "cell_type": "code",
   "execution_count": 14,
   "metadata": {
    "ExecuteTime": {
     "end_time": "2017-08-01T15:02:27.459047Z",
     "start_time": "2017-08-01T15:02:27.443975Z"
    }
   },
   "outputs": [
    {
     "name": "stdout",
     "output_type": "stream",
     "text": [
      "The memory_profiler extension is already loaded. To reload it, use:\n",
      "  %reload_ext memory_profiler\n",
      "The snakeviz extension is already loaded. To reload it, use:\n",
      "  %reload_ext snakeviz\n",
      "The cython extension is already loaded. To reload it, use:\n",
      "  %reload_ext cython\n"
     ]
    }
   ],
   "source": [
    "%load_ext memory_profiler\n",
    "%load_ext snakeviz\n",
    "%load_ext cython\n",
    "\n",
    "from IPython.core import debugger\n",
    "ist = debugger.set_trace"
   ]
  },
  {
   "cell_type": "code",
   "execution_count": 15,
   "metadata": {
    "ExecuteTime": {
     "end_time": "2017-08-01T15:02:27.845472Z",
     "start_time": "2017-08-01T15:02:27.837976Z"
    },
    "collapsed": true
   },
   "outputs": [],
   "source": [
    "from py.typyMagics import *\n",
    "ipy = get_ipython()\n",
    "ipy.register_magics(typyMagics)"
   ]
  },
  {
   "cell_type": "code",
   "execution_count": 16,
   "metadata": {
    "ExecuteTime": {
     "end_time": "2017-08-01T15:02:28.241570Z",
     "start_time": "2017-08-01T15:02:28.235954Z"
    },
    "collapsed": true
   },
   "outputs": [],
   "source": [
    "import sys\n",
    "sys.path.insert(0,'../')"
   ]
  },
  {
   "cell_type": "markdown",
   "metadata": {},
   "source": [
    "## DEFINE"
   ]
  },
  {
   "cell_type": "code",
   "execution_count": 19,
   "metadata": {
    "ExecuteTime": {
     "end_time": "2017-08-01T15:03:37.695725Z",
     "start_time": "2017-08-01T15:03:37.685113Z"
    }
   },
   "outputs": [
    {
     "name": "stdout",
     "output_type": "stream",
     "text": [
      "Overwriting ../typyPRISM/core/Space.py\n"
     ]
    }
   ],
   "source": [
    "%%run_and_write ../typyPRISM/core/Space.py\n",
    "from enum import Enum\n",
    "\n",
    "class Space(Enum):\n",
    "    Real    = 1\n",
    "    Fourier = 2\n"
   ]
  },
  {
   "cell_type": "code",
   "execution_count": 20,
   "metadata": {
    "ExecuteTime": {
     "end_time": "2017-08-01T15:03:38.729762Z",
     "start_time": "2017-08-01T15:03:38.558224Z"
    }
   },
   "outputs": [
    {
     "name": "stdout",
     "output_type": "stream",
     "text": [
      "Overwriting ../typyPRISM/core/Domain.py\n"
     ]
    }
   ],
   "source": [
    "%%run_and_write ../typyPRISM/core/Domain.py\n",
    "from typyPRISM.core.Space import Space\n",
    "import numpy as np\n",
    "from scipy.fftpack import dst\n",
    "\n",
    "class Domain:\n",
    "    '''Define and transform between Real and Fourier space\n",
    "    \n",
    "    Domain describes the discretization of Real and Fourier space\n",
    "    and also sets up the functions and coefficients for transforming\n",
    "    data between them.\n",
    "    \n",
    "    Attributes\n",
    "    ----------\n",
    "    length: int\n",
    "        Number of gridpoints in Real and Fourier space grid\n",
    "        \n",
    "    dr,dk: float\n",
    "        Grid spacing in Real and Fourier space\n",
    "    \n",
    "    r,k: float ndarray\n",
    "        Numpy arrays of grid locations in Real and Fourier space\n",
    "    \n",
    "    DST_II_coeffs,DST_III_coeffs: float\n",
    "        Coefficients needed for Discrete Sine Transforms. Note that these\n",
    "        values are specific to each implementation of the DST and were \n",
    "        derived for (Scipy's interface to) FFTPACK. \n",
    "    '''\n",
    "    __slots__ = ('length',\n",
    "                 'r','dr',\n",
    "                 'k','dk',\n",
    "                 'DST_II_coeffs','DST_III_coeffs')\n",
    "    def __init__(self,length,dr):\n",
    "        self.length = length\n",
    "        \n",
    "        self.dr = dr\n",
    "        self.r = np.arange(dr,dr*(length+1),dr)\n",
    "        \n",
    "        self.dk = np.pi/(dr*length)\n",
    "        self.k = np.arange(self.dk,self.dk*(length+1),self.dk)\n",
    "        \n",
    "        self.DST_II_coeffs = 2.0*np.pi*self.r*dr \n",
    "        self.DST_III_coeffs = self.k * self.dk/(4.0*np.pi*np.pi)\n",
    "        \n",
    "    def __repr__(self):\n",
    "        return '<Domain length:{} dr/rmax:{:4.3f}/{:3.1f} dk/kmax:{:4.3f}/{:3.1f}>'.format(self.length,self.dr,self.r[-1],self.dk,self.k[-1])\n",
    "    \n",
    "    def to_fourier(self,array):\n",
    "        ''' Discrete Sine Transform of a numpy array \n",
    "        \n",
    "        Peforms a Real-to-Real Discrete Sine Transform  of type II \n",
    "        on a numpy array of non-complex values. For radial data that is \n",
    "        symmetric in \\phi and \\theta, this is **a** correct transform\n",
    "        to go from Real-space to Fourier-space. \n",
    "        \n",
    "        Parameters\n",
    "        ----------\n",
    "        array: float ndarray\n",
    "            Real-space data to be transformed\n",
    "            \n",
    "        Returns\n",
    "        -------\n",
    "        array: float ndarray\n",
    "            data transformed to fourier space\n",
    "        \n",
    "        '''\n",
    "        return dst(self.DST_II_coeffs*array,type=2)/self.k\n",
    "    \n",
    "    def to_real(self,array):\n",
    "        ''' Discrete Sine Transform of a numpy array \n",
    "        \n",
    "        Peforms a Real-to-Real Discrete Sine Transform  of type III \n",
    "        on a numpy array of non-complex values. For radial data that is \n",
    "        symmetric in \\phi and \\theta, this is **a** correct transform\n",
    "        to go from Fourier-space to Real space.\n",
    "        \n",
    "        Parameters\n",
    "        ----------\n",
    "        array: float ndarray\n",
    "            Fourier-space data to be transformed\n",
    "            \n",
    "        Returns\n",
    "        -------\n",
    "        array: float ndarray\n",
    "            data transformed to Real space\n",
    "        \n",
    "        '''\n",
    "        return dst(self.DST_III_coeffs*array,type=3)/self.r\n",
    "    \n",
    "    def MatrixArray_to_fourier(self,marray):\n",
    "        ''' Transform all columns of a MatrixArray to Fourier space in-place'''\n",
    "        if marray.space == Space.Fourier:\n",
    "            raise ValueError('MatrixArray is marked as already in Fourier space')\n",
    "            \n",
    "        for (i,j),column in marray.itercolumn():\n",
    "            marray[i,j] = self.to_fourier(column)\n",
    "        \n",
    "        marray.space = Space.Fourier\n",
    "            \n",
    "    def MatrixArray_to_real(self,marray):\n",
    "        ''' Transform all columns of a MatrixArray to Real space in-place '''\n",
    "        if marray.space == Space.Real:\n",
    "            raise ValueError('MatrixArray is marked as already in Real space')\n",
    "            \n",
    "        for (i,j),column in marray.itercolumn():\n",
    "            marray[i,j] = self.to_real(column)\n",
    "            \n",
    "        marray.space = Space.Real\n",
    "            "
   ]
  },
  {
   "cell_type": "code",
   "execution_count": 22,
   "metadata": {
    "ExecuteTime": {
     "end_time": "2017-08-01T15:03:46.155873Z",
     "start_time": "2017-08-01T15:03:45.970760Z"
    }
   },
   "outputs": [
    {
     "name": "stdout",
     "output_type": "stream",
     "text": [
      "Overwriting ../typyPRISM/test/Domain_TestCase.py\n"
     ]
    }
   ],
   "source": [
    "%%run_and_write ../typyPRISM/test/Domain_TestCase.py\n",
    "import unittest\n",
    "from typyPRISM.core.MatrixArray import MatrixArray\n",
    "from typyPRISM.core.Domain import Domain\n",
    "import numpy as np\n",
    "\n",
    "class Domain_TestCase(unittest.TestCase):\n",
    "    def test_MatrixArray_loop(self):\n",
    "        '''Can we transform an entire MatrixArray?'''\n",
    "        length = 1024\n",
    "        rank = 3\n",
    "        dr = 0.1\n",
    "        d = Domain(length=length,dr=dr)\n",
    "        \n",
    "        array1 = np.sin(np.arange(0,10*np.pi,0.01))[:length]\n",
    "        array2 = 5*np.sin(np.arange(0,10*np.pi,0.01))[:length]\n",
    "        array3 = np.cos(np.arange(0,10*np.pi,0.01))[:length]\n",
    "        array4 = np.cos(np.arange(0,10*np.pi,0.01))[:length] + np.sin(np.arange(0,10*np.pi,0.01))[:length]\n",
    "        \n",
    "        MA = MatrixArray(length=length,rank=rank)\n",
    "        MA[0,0] = array1\n",
    "        MA[1,1] = array2\n",
    "        MA[1,2] = array3\n",
    "        MA[2,2] = array4\n",
    "        \n",
    "        d.MatrixArray_to_fourier(MA)\n",
    "        np.testing.assert_array_almost_equal(MA[0,0],d.to_fourier(array1))\n",
    "        np.testing.assert_array_almost_equal(MA[1,1],d.to_fourier(array2))\n",
    "        np.testing.assert_array_almost_equal(MA[1,2],d.to_fourier(array3))\n",
    "        np.testing.assert_array_almost_equal(MA[2,1],d.to_fourier(array3))\n",
    "        np.testing.assert_array_almost_equal(MA[2,2],d.to_fourier(array4))\n",
    "        \n",
    "        # This should recover the original values of the MatrixArray\n",
    "        d.MatrixArray_to_real(MA)\n",
    "        np.testing.assert_array_almost_equal(MA[0,0],array1)\n",
    "        np.testing.assert_array_almost_equal(MA[1,1],array2)\n",
    "        np.testing.assert_array_almost_equal(MA[1,2],array3)\n",
    "        np.testing.assert_array_almost_equal(MA[2,1],array3)\n",
    "        np.testing.assert_array_almost_equal(MA[2,2],array4)\n",
    "        \n",
    "    def test_array_loop(self):\n",
    "        '''Can we go to Fourier space and back again?'''\n",
    "        d = Domain(length=1024,dr=0.1)\n",
    "        \n",
    "        real_space_data1 = np.sin(np.arange(0,10*np.pi,0.01))[:1024]\n",
    "        \n",
    "        fourier_space_data = d.to_fourier(real_space_data1)\n",
    "        \n",
    "        real_space_data2 = d.to_real(fourier_space_data)\n",
    "        \n",
    "        # If the DST coefficients are correct, we should get back (within numerical\n",
    "        # precision) the same array we started with.\n",
    "        np.testing.assert_array_almost_equal(real_space_data1,real_space_data2)\n"
   ]
  },
  {
   "cell_type": "code",
   "execution_count": 23,
   "metadata": {
    "ExecuteTime": {
     "end_time": "2017-08-01T15:03:48.042826Z",
     "start_time": "2017-08-01T15:03:48.018523Z"
    }
   },
   "outputs": [
    {
     "name": "stderr",
     "output_type": "stream",
     "text": [
      "test_MatrixArray_loop (__main__.Domain_TestCase)\n",
      "Can we transform an entire MatrixArray? ... ok\n",
      "test_array_loop (__main__.Domain_TestCase)\n",
      "Can we go to Fourier space and back again? ... ok\n",
      "\n",
      "----------------------------------------------------------------------\n",
      "Ran 2 tests in 0.013s\n",
      "\n",
      "OK\n"
     ]
    },
    {
     "data": {
      "text/plain": [
       "<unittest.runner.TextTestResult run=2 errors=0 failures=0>"
      ]
     },
     "execution_count": 23,
     "metadata": {},
     "output_type": "execute_result"
    }
   ],
   "source": [
    "import unittest\n",
    "suite = unittest.TestLoader().loadTestsFromTestCase(Domain_TestCase)\n",
    "unittest.TextTestRunner(verbosity=2).run(suite)"
   ]
  },
  {
   "cell_type": "code",
   "execution_count": null,
   "metadata": {
    "collapsed": true
   },
   "outputs": [],
   "source": []
  },
  {
   "cell_type": "code",
   "execution_count": null,
   "metadata": {
    "collapsed": true
   },
   "outputs": [],
   "source": []
  },
  {
   "cell_type": "code",
   "execution_count": null,
   "metadata": {
    "collapsed": true
   },
   "outputs": [],
   "source": []
  }
 ],
 "metadata": {
  "kernelspec": {
   "display_name": "Python 3",
   "language": "python",
   "name": "python3"
  },
  "language_info": {
   "codemirror_mode": {
    "name": "ipython",
    "version": 3
   },
   "file_extension": ".py",
   "mimetype": "text/x-python",
   "name": "python",
   "nbconvert_exporter": "python",
   "pygments_lexer": "ipython3",
   "version": "3.6.2"
  }
 },
 "nbformat": 4,
 "nbformat_minor": 2
}
