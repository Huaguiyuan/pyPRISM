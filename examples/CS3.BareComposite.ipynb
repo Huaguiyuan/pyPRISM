{
 "cells": [
  {
   "cell_type": "markdown",
   "metadata": {},
   "source": [
    "# Bare Particle Composite\n",
    "\n",
    "description\n",
    "\n",
    "### Concepts Used\n",
    "- blergh\n",
    "\n",
    "### Tools Used\n",
    "- blergh"
   ]
  },
  {
   "cell_type": "markdown",
   "metadata": {},
   "source": [
    "References\n",
    "------------\n",
    "1. Hooper, J.B.; Schweizer, K.S.; Contact Aggregation, Bridging, and Steric Stabilization in Dense Polymer Particle Mixtures, Macromolecules 2005, 38, 8858-8869"
   ]
  },
  {
   "cell_type": "markdown",
   "metadata": {},
   "source": [
    "Global Imports and Setup\n",
    "---------------------------"
   ]
  },
  {
   "cell_type": "code",
   "execution_count": null,
   "metadata": {
    "ExecuteTime": {
     "end_time": "2017-09-02T13:37:19.325403Z",
     "start_time": "2017-09-02T13:37:17.978337Z"
    }
   },
   "outputs": [],
   "source": [
    "import holoviews as hv\n",
    "hv.extension('bokeh')\n",
    "\n",
    "import numpy as np\n",
    "\n",
    "def interpolate_guess(domain_from,domain_to,rank,guess):\n",
    "    '''Helper for upscaling the intial guesses'''\n",
    "    guess = guess.reshape((domain_from.length,rank,rank))\n",
    "    new_guess = np.zeros((domain_to.length,rank,rank))\n",
    "    for i in range(rank):\n",
    "        for j in range(rank):\n",
    "            new_guess[:,i,j] = np.interp(domain_to.r,domain_from.r,guess[:,i,j])\n",
    "    return new_guess.reshape((-1,))"
   ]
  },
  {
   "cell_type": "code",
   "execution_count": null,
   "metadata": {
    "ExecuteTime": {
     "end_time": "2017-09-02T13:37:19.455201Z",
     "start_time": "2017-09-02T13:37:19.327636Z"
    },
    "collapsed": true
   },
   "outputs": [],
   "source": [
    "%opts Curve Scatter [width=500,height=400] Layout [shared_axes=False] Scatter (size=10,alpha=0.5)\n",
    "%opts Curve Scatter [fontsize={'xlabel':14,'xlabel':14,'ylabel':14,'ticks':12}]\n",
    "%opts Overlay [legend_position='bottom_left']\n",
    "%opts Layout [shared_axes=False]\n",
    "\n",
    "\n",
    "colors = {}\n",
    "colors[1.0] = 'blue'\n",
    "colors[0.5] = 'red'\n",
    "colors[0.25] = 'green'\n",
    "\n",
    "ls = {}\n",
    "ls[1.0] = 'solid'\n",
    "ls[0.5] = 'dashed'\n",
    "ls[0.25] = 'dotted'\n",
    "\n",
    "markers = {}\n",
    "markers[1.0] = 'o'\n",
    "markers[0.5] = '^'\n",
    "markers[0.25] = 'd'"
   ]
  },
  {
   "cell_type": "markdown",
   "metadata": {},
   "source": [
    "## Demo"
   ]
  },
  {
   "cell_type": "markdown",
   "metadata": {},
   "source": [
    "First we load the reference data"
   ]
  },
  {
   "cell_type": "code",
   "execution_count": null,
   "metadata": {
    "ExecuteTime": {
     "end_time": "2017-09-02T13:37:19.464409Z",
     "start_time": "2017-09-02T13:37:19.457395Z"
    },
    "collapsed": true
   },
   "outputs": [],
   "source": [
    "gr_compare = []\n",
    "for density in [1.0,0.5,0.25]:\n",
    "    fname = './data/BareComposite-Gr-alpha{}.csv'.format(density)\n",
    "    x,y = np.loadtxt(fname,delimiter=',').T\n",
    "    gr_compare.append([density,x,y])"
   ]
  },
  {
   "cell_type": "markdown",
   "metadata": {},
   "source": [
    "Next we need to solve the PRISM equations, but we can't solve for the particle size we want (D=16d) directly. You can try it, but typyPRISM won't be able to converge the equations. Instead, we sequentially solve the PRISM equations starting for a small diameter particle and increasing. Each successive loop (or particle diameter) uses the solution from the last loop as a starting guess, greatly increasing the ability of typyPRISM to converge. "
   ]
  },
  {
   "cell_type": "code",
   "execution_count": null,
   "metadata": {
    "ExecuteTime": {
     "end_time": "2017-09-02T13:37:27.647282Z",
     "start_time": "2017-09-02T13:37:19.466137Z"
    }
   },
   "outputs": [],
   "source": [
    "import typyPRISM\n",
    "from typyPRISM.calculate.prism.pair_correlation import pair_correlation\n",
    "import numpy as np\n",
    "\n",
    "d = 1.0\n",
    "phi = 0.001\n",
    "eta = 0.4\n",
    "\n",
    "sys = typyPRISM.System(['particle','polymer'],kT=1.0)\n",
    "sys.domain = typyPRISM.Domain(dr=0.1,length=1024)\n",
    "\n",
    "guess = np.zeros(sys.rank*sys.rank*sys.domain.length)\n",
    "for D in np.arange(1.0,16.5,0.5):\n",
    "    print('==> Solving for D=',D)\n",
    "    \n",
    "    vd = 4.0/3.0 * np.pi * (d/2.0)**(3)\n",
    "    vD = 4.0/3.0 * np.pi * (D/2.0)**(3)\n",
    "    sys.density['polymer'] = (1-phi)*eta/vd\n",
    "    sys.density['particle'] = phi*eta/vD\n",
    "    print('--> rho=',sys.density['polymer'],sys.density['particle'])\n",
    "\n",
    "    sys.omega['polymer','polymer'] = typyPRISM.omega.FreelyJointedChain(N=100,l=4.0*d/3.0)\n",
    "    sys.omega['polymer','particle'] = typyPRISM.omega.NoIntra()\n",
    "    sys.omega['particle','particle'] = typyPRISM.omega.SingleSite()\n",
    "    \n",
    "    \n",
    "    sys.potential['polymer','polymer'] = typyPRISM.potential.HardSphere(sigma=d)\n",
    "    sys.potential['polymer','particle'] = typyPRISM.potential.Exponential(sigma=(D+d)/2.0,alpha=0.5,epsilon=1.0)\n",
    "    sys.potential['particle','particle'] = typyPRISM.potential.HardSphere(sigma=D)\n",
    "    \n",
    "    sys.closure['polymer','polymer'] = typyPRISM.closure.PercusYevick()\n",
    "    sys.closure['polymer','particle'] = typyPRISM.closure.PercusYevick()\n",
    "    sys.closure['particle','particle'] = typyPRISM.closure.HyperNettedChain()\n",
    "\n",
    "    PRISM = sys.createPRISM()\n",
    "\n",
    "    result = PRISM.solve(guess)\n",
    "\n",
    "    guess = np.copy(PRISM.x)\n",
    "\n",
    "last_guess=guess\n"
   ]
  },
  {
   "cell_type": "markdown",
   "metadata": {},
   "source": [
    "Now that we have the D=16d solution as a guess, we can use it to solve the PRISM equations for three interaction widths. "
   ]
  },
  {
   "cell_type": "code",
   "execution_count": null,
   "metadata": {
    "ExecuteTime": {
     "end_time": "2017-09-02T13:37:46.883771Z",
     "start_time": "2017-09-02T13:37:27.649619Z"
    }
   },
   "outputs": [],
   "source": [
    "import typyPRISM\n",
    "from typyPRISM.calculate.prism.pair_correlation import pair_correlation\n",
    "from typyPRISM.calculate.prism.pmf import pmf\n",
    "import numpy as np\n",
    "\n",
    "sys = typyPRISM.System(['particle','polymer'],kT=1.0)\n",
    "sys.domain = typyPRISM.Domain(dr=0.075,length=2048)\n",
    "\n",
    "vd = 4.0/3.0 * np.pi * (d/2.0)**(3)\n",
    "vD = 4.0/3.0 * np.pi * (D/2.0)**(3)\n",
    "sys.density['polymer'] = (1-phi)*eta/vd\n",
    "sys.density['particle'] = phi*eta/vD\n",
    "print('--> rho=',sys.density['polymer'],sys.density['particle'])\n",
    "\n",
    "sys.omega['polymer','polymer'] = typyPRISM.omega.FreelyJointedChain(N=100,l=4.0*d/3.0)\n",
    "sys.omega['polymer','particle'] = typyPRISM.omega.NoIntra()\n",
    "sys.omega['particle','particle'] = typyPRISM.omega.SingleSite()\n",
    "\n",
    "sys.closure['polymer','polymer'] = typyPRISM.closure.PercusYevick()\n",
    "sys.closure['polymer','particle'] = typyPRISM.closure.PercusYevick()\n",
    "sys.closure['particle','particle'] = typyPRISM.closure.HyperNettedChain()\n",
    "    \n",
    "gr_results = []\n",
    "guess = interpolate_guess(typyPRISM.Domain(dr=0.1,length=1024),sys.domain,sys.rank,last_guess)\n",
    "for alpha in [0.25,0.5,1.0]:\n",
    "    print('==> Solving for alpha=',alpha)\n",
    "    sys.potential['polymer','polymer'] = typyPRISM.potential.HardSphere(sigma=d)\n",
    "    sys.potential['polymer','particle'] = typyPRISM.potential.Exponential(sigma=(D+d)/2.0,alpha=alpha,epsilon=1.0)\n",
    "    sys.potential['particle','particle'] = typyPRISM.potential.HardSphere(sigma=D)\n",
    "    \n",
    "    PRISM = sys.createPRISM()\n",
    "    result = PRISM.solve(guess)\n",
    "    \n",
    "    x = sys.domain.r\n",
    "    y = pair_correlation(PRISM)['particle','particle']\n",
    "    gr_results.append([alpha,x,y])\n"
   ]
  },
  {
   "cell_type": "markdown",
   "metadata": {},
   "source": [
    "Here we plot Figure 1 from Reference 1"
   ]
  },
  {
   "cell_type": "code",
   "execution_count": null,
   "metadata": {
    "ExecuteTime": {
     "end_time": "2017-09-02T13:37:47.217400Z",
     "start_time": "2017-09-02T13:37:46.885893Z"
    }
   },
   "outputs": [],
   "source": [
    "%%opts Overlay [legend_position='top_right']\n",
    "from math import sqrt\n",
    "\n",
    "extents = (16,0.0,24,4.0)\n",
    "\n",
    "gr_plots = []\n",
    "for alpha,x,y in gr_results:\n",
    "    label = 'alpha={} (typyPRISM)'.format(alpha)\n",
    "    style = {'line_dash':ls[alpha],'color':colors[alpha]}\n",
    "    c1 = hv.Curve((x,y),label=label,extents=extents)(style=style)\n",
    "    gr_plots.append(c1)\n",
    "    \n",
    "for alpha,x,y in gr_compare:\n",
    "    label = 'alpha={} (Ref 1)'.format(alpha)\n",
    "    style = {'marker':markers[alpha],'color':colors[alpha]}\n",
    "    c1 = hv.Scatter((x,y),label=label,extents=extents)(style=style)\n",
    "    gr_plots.append(c1)\n",
    "    \n",
    "    \n",
    "hv.Overlay(gr_plots).redim.label(x='r',y='g(r)')"
   ]
  },
  {
   "cell_type": "code",
   "execution_count": null,
   "metadata": {
    "collapsed": true
   },
   "outputs": [],
   "source": []
  },
  {
   "cell_type": "code",
   "execution_count": null,
   "metadata": {
    "ExecuteTime": {
     "end_time": "2017-09-02T13:38:04.455572Z",
     "start_time": "2017-09-02T13:38:04.436295Z"
    },
    "collapsed": true
   },
   "outputs": [],
   "source": [
    "# fig3c = {}\n",
    "# for (alpha1,x1,y1),(alpha2,x2,y2) in zip(gr_results,gr_compare):\n",
    "# \n",
    "#     fig3c[alpha1,'typyPRISM'] = {'x':x1,'y':y1}\n",
    "#     fig3c[alpha2,'ref'] = {'x':x2,'y':y2}\n",
    "# \n",
    "# import pickle\n",
    "# with open('fig3c.pkl','wb') as f:\n",
    "#     pickle.dump(fig3c,f)"
   ]
  },
  {
   "cell_type": "code",
   "execution_count": null,
   "metadata": {
    "collapsed": true
   },
   "outputs": [],
   "source": []
  }
 ],
 "metadata": {
  "kernelspec": {
   "display_name": "Python 3",
   "language": "python",
   "name": "python3"
  },
  "language_info": {
   "codemirror_mode": {
    "name": "ipython",
    "version": 3
   },
   "file_extension": ".py",
   "mimetype": "text/x-python",
   "name": "python",
   "nbconvert_exporter": "python",
   "pygments_lexer": "ipython3",
   "version": "3.6.2"
  }
 },
 "nbformat": 4,
 "nbformat_minor": 2
}
