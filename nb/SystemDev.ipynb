{
 "cells": [
  {
   "cell_type": "markdown",
   "metadata": {},
   "source": [
    "# SYSTEM"
   ]
  },
  {
   "cell_type": "code",
   "execution_count": 1,
   "metadata": {
    "ExecuteTime": {
     "end_time": "2017-08-03T14:39:58.378186Z",
     "start_time": "2017-08-03T14:39:57.890514Z"
    },
    "collapsed": true
   },
   "outputs": [],
   "source": [
    "%load_ext memory_profiler\n",
    "%load_ext snakeviz\n",
    "%load_ext cython\n",
    "%load_ext autoreload\n",
    "%autoreload 2\n",
    "\n",
    "\n",
    "from IPython.core import debugger\n",
    "ist = debugger.set_trace"
   ]
  },
  {
   "cell_type": "code",
   "execution_count": 2,
   "metadata": {
    "ExecuteTime": {
     "end_time": "2017-08-03T14:39:58.635375Z",
     "start_time": "2017-08-03T14:39:58.611022Z"
    },
    "collapsed": true
   },
   "outputs": [],
   "source": [
    "from py.typyMagics import *\n",
    "ipy = get_ipython()\n",
    "ipy.register_magics(typyMagics)"
   ]
  },
  {
   "cell_type": "code",
   "execution_count": 3,
   "metadata": {
    "ExecuteTime": {
     "end_time": "2017-08-03T14:39:59.108370Z",
     "start_time": "2017-08-03T14:39:59.090602Z"
    },
    "collapsed": true
   },
   "outputs": [],
   "source": [
    "import sys\n",
    "sys.path.insert(0,'../')"
   ]
  },
  {
   "cell_type": "markdown",
   "metadata": {},
   "source": [
    "## DEFINE"
   ]
  },
  {
   "cell_type": "code",
   "execution_count": 4,
   "metadata": {
    "ExecuteTime": {
     "end_time": "2017-08-03T14:40:00.616358Z",
     "start_time": "2017-08-03T14:40:00.108083Z"
    }
   },
   "outputs": [
    {
     "name": "stdout",
     "output_type": "stream",
     "text": [
      "Overwriting ../typyPRISM/core/System.py\n"
     ]
    }
   ],
   "source": [
    "%%run_and_write ../typyPRISM/core/System.py\n",
    "import numpy as np\n",
    "from typyPRISM.core.PRISM import PRISM\n",
    "from typyPRISM.core.MatrixArray import MatrixArray\n",
    "from typyPRISM.core.PairTable import PairTable\n",
    "from typyPRISM.core.ValueTable import ValueTable\n",
    "from typyPRISM.core.Space import Space\n",
    "\n",
    "class System:\n",
    "    '''Primary class used to spawn PRISM calculations\n",
    "    \n",
    "    .. warning::\n",
    "    \n",
    "        The *intra*-molecular correlation functions (intraMolCorr attribute)\n",
    "        should be specified such that they are in Fourier space and such\n",
    "        that their k->0 values approach the total number of sites in a \n",
    "        given molecule for the self (i==j) pairs.\n",
    "    \n",
    "    Attributes\n",
    "    ----------\n",
    "    types: list\n",
    "        list of site types\n",
    "        \n",
    "    rank: int\n",
    "        number of site types\n",
    "    \n",
    "    density: typyPRISM.core.ValueTable\n",
    "        Table of site *number* density values\n",
    "        \n",
    "    potential: typyPRISM.core.PairTable\n",
    "        Table of pair potentials between all site pairs in real space\n",
    "        \n",
    "    closure: typyPRISM.core.PairTable\n",
    "        Table of closures between all site pairs\n",
    "        \n",
    "    intraMolCorr: typyPRISM.core.PairTable\n",
    "        Table of intramolecular correlation functions in k-space\n",
    "    \n",
    "    domain: typyPRISM.core.Domain\n",
    "        Domain object which specifies the Real and Fourier space \n",
    "        solution grid.\n",
    "    \n",
    "    \n",
    "    '''\n",
    "    def __init__(self,types):\n",
    "        self.types = types\n",
    "        self.rank  = len(types)\n",
    "        \n",
    "        self.domain    = None\n",
    "        self.density   = ValueTable(types,'density')\n",
    "        self.potential = PairTable(types,'potential')\n",
    "        self.closure   = PairTable(types,'closure')\n",
    "        self.intraMolCorr = PairTable(types,'intraMolCorr')\n",
    "    \n",
    "    def check(self):\n",
    "        '''Make sure all values in the system are specified'''\n",
    "        for table in [self.density,self.potential,self.closure,self.intraMolCorr]:\n",
    "            table.check()\n",
    "        \n",
    "        if self.domain is None:\n",
    "            raise ValueError(('System has no domain! '\n",
    "                              'User must instatiate and assign a domain to the system!'))\n",
    "    def createDensityMatrices(self):\n",
    "        '''See method name\n",
    "        \n",
    "        .. math::\n",
    "        \n",
    "            \\rho^{pair}_{i,j} = \\rho_i * \\rho_j\n",
    "            \n",
    "        \n",
    "            \\rho^{site}_{i,j} = \\rho_i + \\rho_j, if i != j\n",
    "            \n",
    "            \\rho^{site}_{i,j} = \\rho_i         , if i = j\n",
    "        '''\n",
    "        siteDensityMatrix = np.zeros((self.rank,self.rank))\n",
    "        pairDensityMatrix = np.zeros((self.rank,self.rank))\n",
    "        for i,t1,rho1 in self.density:\n",
    "            for j,t2,rho2 in self.density:\n",
    "                if i>j:\n",
    "                    continue\n",
    "                    \n",
    "                if i==j:\n",
    "                    siteDensityMatrix[i,j] = rho1\n",
    "                    pairDensityMatrix[i,j] = rho1 * rho2\n",
    "                else:\n",
    "                    siteDensityMatrix[i,j] = rho1 + rho2\n",
    "                    siteDensityMatrix[j,i] = rho1 + rho2\n",
    "                    \n",
    "                    pairDensityMatrix[i,j] = rho1 * rho2\n",
    "                    pairDensityMatrix[j,i] = rho1 * rho2\n",
    "                    \n",
    "        return siteDensityMatrix,pairDensityMatrix\n",
    "            \n",
    "    def createPRISM(self):\n",
    "        '''Construct a fully specified PRISM object that can be solved'''\n",
    "        \n",
    "        self.check() #sanity check\n",
    "\n",
    "        #create density\n",
    "        siteDensityMatrix,pairDensityMatrix = self.createDensityMatrices()\n",
    "        \n",
    "        \n",
    "        # The intraMolCorr objects must be converted to arrays of the actual correlation\n",
    "        # function values. \n",
    "        self.intraMolCorr.apply(lambda x: x.calculate(self.domain.k))\n",
    "        \n",
    "        # Next, the intraMolCorr table is converted to a MatrixArray so that we can easily\n",
    "        # do operations during the PRISM solution\n",
    "        intraMolCorr = self.intraMolCorr.exportToMatrixArray(space=Space.Fourier)\n",
    "        \n",
    "        # Finally, the correlation functions are scaled by the density matrix\n",
    "        intraMolCorr *= siteDensityMatrix \n",
    "        \n",
    "        # Need to set the intramolecular potential for each closure object\n",
    "        r = self.domain.r\n",
    "        for (i,j),(t1,t2),U in self.potential.iterpairs():\n",
    "            self.closure[t1,t2].potential = U.calculate(r)\n",
    "        \n",
    "        args = []\n",
    "        args.append(self.rank)\n",
    "        args.append(self.domain)\n",
    "        args.append(self.closure)\n",
    "        args.append(intraMolCorr)\n",
    "        args.append(pairDensityMatrix)\n",
    "        args.append(siteDensityMatrix)\n",
    "        return PRISM(*args)\n",
    "        "
   ]
  },
  {
   "cell_type": "code",
   "execution_count": 13,
   "metadata": {
    "ExecuteTime": {
     "end_time": "2017-08-03T14:41:44.201395Z",
     "start_time": "2017-08-03T14:41:43.893744Z"
    }
   },
   "outputs": [
    {
     "name": "stdout",
     "output_type": "stream",
     "text": [
      "Overwriting ../typyPRISM/test/System_TestCase.py\n"
     ]
    }
   ],
   "source": [
    "%%run_and_write ../typyPRISM/test/System_TestCase.py\n",
    "import unittest\n",
    "import numpy as np\n",
    "import typyPRISM\n",
    "# from typyPRISM import System\n",
    "# from typyPRISM import Domain\n",
    "# from typyPRISM import Space\n",
    "# from typyPRISM import System\n",
    "# from typyPRISM import potential\n",
    "# from typyPRISM import intraMolCorr\n",
    "# from typyPRISM import closure\n",
    "\n",
    "class System_TestCase(unittest.TestCase):\n",
    "    def test_create(self):\n",
    "        '''Can we create a system?'''\n",
    "        types = ['A','B','C']\n",
    "        sys = typyPRISM.System(types)\n",
    "    def test_check(self):\n",
    "        '''Can we validate a system object?'''\n",
    "        types = ['A','B','C']\n",
    "        sys = typyPRISM.System(types)\n",
    "        self.assertRaises(ValueError,sys.check)\n",
    "        \n",
    "        # These values make no sense but their sufficient\n",
    "        # for this 'check'\n",
    "        sys.domain = 'dummy'\n",
    "        sys.density.setUnset(1.0)\n",
    "        sys.potential.setUnset(1.0)\n",
    "        sys.closure.setUnset(1.0)\n",
    "        sys.intraMolCorr.setUnset(1.0)\n",
    "        \n",
    "        #test should fail if this raises\n",
    "        try:\n",
    "            sys.check()\n",
    "        except ValueError:\n",
    "            self.fail('Check failed when it should have passed...')\n",
    "    def test_createPRISM(self):\n",
    "        '''Can we construct a simple but fully specified PRISM problem?'''\n",
    "        \n",
    "        sys = typyPRISM.System(['A','B'])\n",
    "        \n",
    "        sys.domain = typyPRISM.Domain(dr=0.1,length=1024)\n",
    "        \n",
    "        sys.density['A'] = 0.45\n",
    "        sys.density['B'] = 0.35\n",
    "        \n",
    "        sys.closure.setUnset(typyPRISM.closure.PercusYevick())\n",
    "        \n",
    "        sys.potential.setUnset(typyPRISM.potential.HardSphere(sigma=1.0))\n",
    "        \n",
    "        sys.intraMolCorr['A','A'] = typyPRISM.intraMolCorr.SingleSite()\n",
    "        sys.intraMolCorr['A','B'] = typyPRISM.intraMolCorr.NoIntra()\n",
    "        sys.intraMolCorr['B','B'] = typyPRISM.intraMolCorr.Gaussian(sigma=1.0,length=100)\n",
    "        \n",
    "        PRISM = sys.createPRISM()\n",
    "        \n",
    "        self.assertIsInstance(PRISM,typyPRISM.core.PRISM.PRISM)\n",
    "        \n",
    "    def test_createDensityMatrices(self):\n",
    "        '''Can we construct the two necesssary density matrices?'''\n",
    "        sys = typyPRISM.System(['A','B'])\n",
    "        \n",
    "        sys.density['A'] = rhoA = 0.45\n",
    "        sys.density['B'] = rhoB = 0.35\n",
    "        \n",
    "        siteDensityMatrix1 = np.zeros((2,2))\n",
    "        siteDensityMatrix1[0,0] = rhoA\n",
    "        siteDensityMatrix1[0,1] = rhoA + rhoB\n",
    "        siteDensityMatrix1[1,0] = rhoA + rhoB\n",
    "        siteDensityMatrix1[1,1] = rhoB\n",
    "        \n",
    "        pairDensityMatrix1 = np.zeros((2,2))\n",
    "        pairDensityMatrix1[0,0] = rhoA * rhoA\n",
    "        pairDensityMatrix1[0,1] = rhoA * rhoB\n",
    "        pairDensityMatrix1[1,0] = rhoB * rhoA\n",
    "        pairDensityMatrix1[1,1] = rhoB * rhoB\n",
    "        \n",
    "        siteDensityMatrix2,pairDensityMatrix2 = sys.createDensityMatrices()\n",
    "        \n",
    "        np.testing.assert_array_almost_equal(siteDensityMatrix1,siteDensityMatrix2)\n",
    "        np.testing.assert_array_almost_equal(pairDensityMatrix1,pairDensityMatrix2)\n",
    "        \n",
    "        \n",
    "        \n",
    "         \n",
    "        \n"
   ]
  },
  {
   "cell_type": "code",
   "execution_count": 14,
   "metadata": {
    "ExecuteTime": {
     "end_time": "2017-08-03T14:41:44.396460Z",
     "start_time": "2017-08-03T14:41:44.357181Z"
    }
   },
   "outputs": [
    {
     "name": "stderr",
     "output_type": "stream",
     "text": [
      "test_check (__main__.System_TestCase)\n",
      "Can we validate a system object? ... ok\n",
      "test_create (__main__.System_TestCase)\n",
      "Can we create a system? ... ok\n",
      "test_createDensityMatrices (__main__.System_TestCase)\n",
      "Can we construct the two necesssary density matrices? ... ok\n",
      "test_createPRISM (__main__.System_TestCase)\n",
      "Can we construct a simple but fully specified PRISM problem? ... ok\n",
      "\n",
      "----------------------------------------------------------------------\n",
      "Ran 4 tests in 0.010s\n",
      "\n",
      "OK\n"
     ]
    },
    {
     "data": {
      "text/plain": [
       "<unittest.runner.TextTestResult run=4 errors=0 failures=0>"
      ]
     },
     "execution_count": 14,
     "metadata": {},
     "output_type": "execute_result"
    }
   ],
   "source": [
    "import unittest\n",
    "suite = []\n",
    "suite.append(unittest.TestLoader().loadTestsFromTestCase(System_TestCase))\n",
    "suite = unittest.TestSuite(suite)\n",
    "unittest.TextTestRunner(verbosity=2).run(suite)"
   ]
  },
  {
   "cell_type": "code",
   "execution_count": null,
   "metadata": {
    "collapsed": true
   },
   "outputs": [],
   "source": []
  }
 ],
 "metadata": {
  "kernelspec": {
   "display_name": "Python 3",
   "language": "python",
   "name": "python3"
  },
  "language_info": {
   "codemirror_mode": {
    "name": "ipython",
    "version": 3
   },
   "file_extension": ".py",
   "mimetype": "text/x-python",
   "name": "python",
   "nbconvert_exporter": "python",
   "pygments_lexer": "ipython3",
   "version": "3.6.2"
  }
 },
 "nbformat": 4,
 "nbformat_minor": 2
}
