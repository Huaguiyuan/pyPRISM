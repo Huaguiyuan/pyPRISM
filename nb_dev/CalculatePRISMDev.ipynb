{
 "cells": [
  {
   "cell_type": "markdown",
   "metadata": {},
   "source": [
    "# Calculate"
   ]
  },
  {
   "cell_type": "code",
   "execution_count": 1,
   "metadata": {
    "ExecuteTime": {
     "end_time": "2017-08-28T17:24:32.692874Z",
     "start_time": "2017-08-28T17:24:32.246445Z"
    },
    "collapsed": true
   },
   "outputs": [],
   "source": [
    "%load_ext memory_profiler\n",
    "%load_ext snakeviz\n",
    "%load_ext cython\n",
    "%load_ext autoreload\n",
    "%autoreload 2\n",
    "\n",
    "\n",
    "from IPython.core import debugger\n",
    "ist = debugger.set_trace"
   ]
  },
  {
   "cell_type": "code",
   "execution_count": 2,
   "metadata": {
    "ExecuteTime": {
     "end_time": "2017-08-28T17:24:32.711637Z",
     "start_time": "2017-08-28T17:24:32.694948Z"
    },
    "collapsed": true
   },
   "outputs": [],
   "source": [
    "from py.typyMagics import *\n",
    "ipy = get_ipython()\n",
    "ipy.register_magics(typyMagics)"
   ]
  },
  {
   "cell_type": "code",
   "execution_count": 3,
   "metadata": {
    "ExecuteTime": {
     "end_time": "2017-08-28T17:24:32.772171Z",
     "start_time": "2017-08-28T17:24:32.754531Z"
    },
    "collapsed": true
   },
   "outputs": [],
   "source": [
    "import sys\n",
    "sys.path.insert(0,'../')"
   ]
  },
  {
   "cell_type": "markdown",
   "metadata": {},
   "source": [
    "TODO\n",
    "B2\n",
    "solvation potential \n",
    "chi\n",
    "wrappers for omega, h, etc"
   ]
  },
  {
   "cell_type": "markdown",
   "metadata": {},
   "source": [
    "## CALCS"
   ]
  },
  {
   "cell_type": "code",
   "execution_count": 5,
   "metadata": {
    "ExecuteTime": {
     "end_time": "2017-08-26T17:04:28.266228Z",
     "start_time": "2017-08-26T17:04:27.854052Z"
    }
   },
   "outputs": [
    {
     "name": "stdout",
     "output_type": "stream",
     "text": [
      "Overwriting ../pyPRISM/calculate/prism/pair_correlation.py\n"
     ]
    }
   ],
   "source": [
    "%%run_and_write ../pyPRISM/calculate/prism/pair_correlation.py\n",
    "#!python\n",
    "from __future__ import division,print_function\n",
    "from pyPRISM.core.Space import Space\n",
    "\n",
    "def pair_correlation(PRISM):\n",
    "    '''Calculate the pair correlation function from a PRISM object\n",
    "    \n",
    "    After convergence, the stored total correlation function can \n",
    "    simply be shifted to obtain the pair-correlation function \n",
    "    i.e. the radial distribution function. \n",
    "    \n",
    "    .. math::\n",
    "        g(r) = h(r) + 1.0\n",
    "        \n",
    "    Parameters\n",
    "    ----------\n",
    "    PRISM: pyPRISM.core.PRISM.PRISM\n",
    "        A **solved** PRISM object.\n",
    "    \n",
    "    \n",
    "    Returns\n",
    "    -------\n",
    "    pairCorr: pyPRISM.core.MatrixArray.MatrixArray\n",
    "        The full MatrixArray of pair correlation functions.\n",
    "    \n",
    "    '''\n",
    "    \n",
    "    if PRISM.totalCorr.space == Space.Fourier:\n",
    "        PRISM.domain.MatrixArray_to_real(PRISM.totalCorr)\n",
    "    \n",
    "    PRISM.pairCorr = PRISM.totalCorr + 1.0\n",
    "    \n",
    "    return PRISM.pairCorr"
   ]
  },
  {
   "cell_type": "code",
   "execution_count": 31,
   "metadata": {
    "ExecuteTime": {
     "end_time": "2017-08-28T19:16:50.577249Z",
     "start_time": "2017-08-28T19:16:50.510495Z"
    }
   },
   "outputs": [
    {
     "name": "stdout",
     "output_type": "stream",
     "text": [
      "Overwriting ../pyPRISM/calculate/prism/structure_factor.py\n"
     ]
    }
   ],
   "source": [
    "%%run_and_write ../pyPRISM/calculate/prism/structure_factor.py\n",
    "#!python\n",
    "from __future__ import division,print_function\n",
    "from pyPRISM.core.Space import Space\n",
    "\n",
    "def structure_factor(PRISM):\n",
    "    '''Calculate the **dimensionless** structure factor from a PRISM object\n",
    "    \n",
    "    \n",
    "    \n",
    "    .. math::\n",
    "        S(k) = \\omega(k) + h(k)\n",
    "        \n",
    "    Parameters\n",
    "    ----------\n",
    "    PRISM: pyPRISM.core.PRISM.PRISM\n",
    "        A **solved** PRISM object.\n",
    "    \n",
    "    Returns\n",
    "    -------\n",
    "    structureFactor: pyPRISM.core.MatrixArray.MatrixArray\n",
    "        The full MatrixArray of structure factors\n",
    "    \n",
    "    '''\n",
    "    \n",
    "    if PRISM.totalCorr.space == Space.Real:\n",
    "        PRISM.domain.MatrixArray_to_fourier(PRISM.totalCorr)\n",
    "        \n",
    "    if PRISM.omega.space == Space.Real:\n",
    "        PRISM.domain.MatrixArray_to_fourier(PRISM.omega)\n",
    "    \n",
    "    structureFactor = (PRISM.totalCorr*PRISM.pairDensityMatrix + PRISM.omega)/PRISM.siteDensityMatrix\n",
    "    # structureFactor = PRISM.totalCorr + PRISM.omega\n",
    "    \n",
    "    return structureFactor"
   ]
  },
  {
   "cell_type": "code",
   "execution_count": 8,
   "metadata": {
    "ExecuteTime": {
     "end_time": "2017-08-26T17:05:42.122516Z",
     "start_time": "2017-08-26T17:05:42.042220Z"
    }
   },
   "outputs": [
    {
     "name": "stdout",
     "output_type": "stream",
     "text": [
      "Overwriting ../pyPRISM/calculate/prism/pmf.py\n"
     ]
    }
   ],
   "source": [
    "%%run_and_write ../pyPRISM/calculate/prism/pmf.py\n",
    "#!python\n",
    "from __future__ import division,print_function\n",
    "from pyPRISM.core.MatrixArray import MatrixArray\n",
    "from pyPRISM.core.Space import Space\n",
    "from pyPRISM.calculate.prism.pair_correlation import pair_correlation\n",
    "import numpy as np\n",
    "\n",
    "def pmf(PRISM):\n",
    "    '''Calculate the potentials of mean force from a PRISM object\n",
    "    \n",
    "    .. math::\n",
    "        W(r) = -k_{B} T log(h(r)+1.0)\n",
    "        \n",
    "    Parameters\n",
    "    ----------\n",
    "    PRISM: pyPRISM.core.PRISM.PRISM\n",
    "        A **solved** PRISM object.\n",
    "    \n",
    "    Returns\n",
    "    -------\n",
    "    pmf: pyPRISM.core.MatrixArray.MatrixArray\n",
    "        The full MatrixArray of potentials of mean force\n",
    "    \n",
    "    '''\n",
    "    rdf = pair_correlation(PRISM)\n",
    "    \n",
    "    #let's ignore any warnings about negative values in the log function\n",
    "    with np.errstate(invalid='ignore'):\n",
    "        rdf = -1.0 * PRISM.kT * np.log(rdf.data)\n",
    "    \n",
    "    #length and rank will be inferred from data\n",
    "    pmf = MatrixArray(data=rdf,space=Space.Real,length=None,rank=None)\n",
    "    \n",
    "    return pmf"
   ]
  },
  {
   "cell_type": "code",
   "execution_count": 4,
   "metadata": {
    "ExecuteTime": {
     "end_time": "2017-08-18T12:11:36.732560Z",
     "start_time": "2017-08-18T12:11:36.415346Z"
    }
   },
   "outputs": [
    {
     "name": "stdout",
     "output_type": "stream",
     "text": [
      "Overwriting ../pyPRISM/calculate/prism/chi.py\n"
     ]
    }
   ],
   "source": [
    "%%run_and_write ../pyPRISM/calculate/prism/chi.py\n",
    "#!python\n",
    "from __future__ import division,print_function\n",
    "from pyPRISM.core.MatrixArray import MatrixArray\n",
    "from pyPRISM.core.Space import Space\n",
    "import numpy as np\n",
    "\n",
    "#XXX Perhaps this should return a table with sentinel None's along the diagonal?\n",
    "def chi(PRISM):\n",
    "    '''Calculate the wavenumber-dependent effective interaction parameter (chi)\n",
    "    \n",
    "    .. math::\n",
    "        \n",
    "        \\chi(k)  = 0.5 * \\rho * (\\hat{C}_{AA}(k) + \\hat{C}_{BB}(k) - 2* + \\hat{C}_{AB}(k))\n",
    "        \n",
    "    Parameters\n",
    "    ----------\n",
    "    PRISM: pyPRISM.core.PRISM.PRISM\n",
    "        A **solved** PRISM object.\n",
    "    \n",
    "    Returns\n",
    "    -------\n",
    "    chi: dict\n",
    "        Dictionary of all wavenumber dependent chi pairs indexed by tuple pairs\n",
    "    \n",
    "    '''\n",
    "    \n",
    "    assert PRISM.rank>1,'the chi calculation is only valid for multicomponent systems'\n",
    "    \n",
    "    if PRISM.directCorr.space == Space.Real:\n",
    "        PRISM.domain.MatrixArray_to_real(PRISM.direcCorr)\n",
    "        \n",
    "    totalDensity = 0.\n",
    "    for i,t1 in enumerate(PRISM.types):\n",
    "        totalDensity += PRISM.siteDensityMatrix[i,i]\n",
    "    \n",
    "    chi = {}\n",
    "    for i,t1 in enumerate(PRISM.types):\n",
    "        for j,t2 in enumerate(PRISM.types):\n",
    "            if i<j:\n",
    "                C_AA = PRISM.directCorr[i,i]\n",
    "                C_AB = PRISM.directCorr[i,j]\n",
    "                C_BB = PRISM.directCorr[j,j]\n",
    "                \n",
    "                chi[t1,t2] = chi[t2,t1] = 0.5 * totalDensity * (C_AA + C_BB - 2*C_AB)\n",
    "                \n",
    "    \n",
    "    \n",
    "    return chi"
   ]
  },
  {
   "cell_type": "markdown",
   "metadata": {},
   "source": [
    "## TESTING"
   ]
  },
  {
   "cell_type": "code",
   "execution_count": 10,
   "metadata": {
    "ExecuteTime": {
     "end_time": "2017-08-16T13:40:23.872349Z",
     "start_time": "2017-08-16T13:40:23.719732Z"
    }
   },
   "outputs": [
    {
     "name": "stdout",
     "output_type": "stream",
     "text": [
      "Overwriting ../pyPRISM/test/CalcPRISM_TestCase.py\n"
     ]
    }
   ],
   "source": [
    "%%run_and_write ../pyPRISM/test/CalcPRISM_TestCase.py\n",
    "#!python\n",
    "from __future__ import division,print_function\n",
    "import pyPRISM\n",
    "import numpy as np\n",
    "import unittest\n",
    "\n",
    "class CalcPRISM_TestCase(unittest.TestCase):\n",
    "    def setup(self):\n",
    "        '''Construct a simple but fully specified PRISM problem'''\n",
    "        \n",
    "        sys = pyPRISM.System(['A','B'])\n",
    "        \n",
    "        sys.domain = pyPRISM.Domain(dr=0.1,length=512)\n",
    "        \n",
    "        sys.density['A'] = 0.5\n",
    "        sys.density['B'] = 0.5\n",
    "        \n",
    "        sys.closure.setUnset(pyPRISM.closure.PercusYevick())\n",
    "        \n",
    "        sys.potential.setUnset(pyPRISM.potential.HardSphere(sigma=1.0))\n",
    "        \n",
    "        sys.intraMolCorr['A','A'] = pyPRISM.intraMolCorr.SingleSite()\n",
    "        sys.intraMolCorr['A','B'] = pyPRISM.intraMolCorr.NoIntra()\n",
    "        sys.intraMolCorr['B','B'] = pyPRISM.intraMolCorr.Gaussian(sigma=1.0,length=10)\n",
    "        \n",
    "        PRISM = sys.createPRISM()\n",
    "        \n",
    "        return PRISM\n",
    "\n",
    "    def test_pair_correlation(self):\n",
    "        '''Can we calculate pair_correlations?'''\n",
    "        PRISM = self.setup()\n",
    "        PRISM.solve(disp=False)\n",
    "        result = pyPRISM.calculate.prism.pair_correlation(PRISM)\n",
    "        \n",
    "    def test_structure_factor(self):\n",
    "        '''Can we calculate structure factors?'''\n",
    "        PRISM = self.setup()\n",
    "        PRISM.solve(disp=False)\n",
    "        result = pyPRISM.calculate.prism.structure_factor(PRISM)\n",
    "        \n",
    "    def test_pmf(self):\n",
    "        '''Can we calculate pmf's?'''\n",
    "        PRISM = self.setup()\n",
    "        PRISM.solve(disp=False)\n",
    "        result = pyPRISM.calculate.prism.pmf(PRISM)\n",
    "        \n",
    "        \n"
   ]
  },
  {
   "cell_type": "markdown",
   "metadata": {},
   "source": [
    "## RUN ALL"
   ]
  },
  {
   "cell_type": "code",
   "execution_count": 11,
   "metadata": {
    "ExecuteTime": {
     "end_time": "2017-08-16T13:40:24.520231Z",
     "start_time": "2017-08-16T13:40:24.163880Z"
    }
   },
   "outputs": [
    {
     "name": "stderr",
     "output_type": "stream",
     "text": [
      "test_pair_correlation (__main__.CalcPRISM_TestCase)\n",
      "Can we calculate pair_correlations? ... ok\n",
      "test_pmf (__main__.CalcPRISM_TestCase)\n",
      "Can we calculate pmf's? ... ok\n",
      "test_structure_factor (__main__.CalcPRISM_TestCase)\n",
      "Can we calculate structure factors? ... ok\n",
      "\n",
      "----------------------------------------------------------------------\n",
      "Ran 3 tests in 0.326s\n",
      "\n",
      "OK\n"
     ]
    },
    {
     "data": {
      "text/plain": [
       "<unittest.runner.TextTestResult run=3 errors=0 failures=0>"
      ]
     },
     "execution_count": 11,
     "metadata": {},
     "output_type": "execute_result"
    }
   ],
   "source": [
    "import unittest\n",
    "suite = []\n",
    "suite.append(unittest.TestLoader().loadTestsFromTestCase(CalcPRISM_TestCase))\n",
    "suite = unittest.TestSuite(suite)\n",
    "unittest.TextTestRunner(verbosity=2).run(suite)"
   ]
  },
  {
   "cell_type": "code",
   "execution_count": null,
   "metadata": {
    "collapsed": true
   },
   "outputs": [],
   "source": []
  }
 ],
 "metadata": {
  "kernelspec": {
   "display_name": "Python 3",
   "language": "python",
   "name": "python3"
  },
  "language_info": {
   "codemirror_mode": {
    "name": "ipython",
    "version": 3
   },
   "file_extension": ".py",
   "mimetype": "text/x-python",
   "name": "python",
   "nbconvert_exporter": "python",
   "pygments_lexer": "ipython3",
   "version": "3.6.2"
  }
 },
 "nbformat": 4,
 "nbformat_minor": 2
}
