{
 "cells": [
  {
   "cell_type": "markdown",
   "metadata": {},
   "source": [
    "Exploration of Intramolecular Correlation Functions\n",
    "===========\n",
    "\n",
    "insert description\n",
    "\n",
    "### Concepts Used\n",
    "- blergh\n",
    "\n",
    "### Tools Used\n",
    "- blergh"
   ]
  },
  {
   "cell_type": "markdown",
   "metadata": {},
   "source": [
    "References\n",
    "-----------\n",
    "1. Kevin G. Honnell, John G. Curro, Kenneth S. Schweizer\n",
    "   Local structure of semiflexible polymer melts\n",
    "   Macromolecules, 1990, 23 (14), pp 3496–3505\n",
    " \n",
    "  "
   ]
  },
  {
   "cell_type": "markdown",
   "metadata": {},
   "source": [
    "Global Imports and Setup\n",
    "----------------------------"
   ]
  },
  {
   "cell_type": "code",
   "execution_count": null,
   "metadata": {
    "ExecuteTime": {
     "end_time": "2017-09-05T19:49:47.207594Z",
     "start_time": "2017-09-05T19:49:45.829203Z"
    },
    "scrolled": false
   },
   "outputs": [],
   "source": [
    "import numpy as np\n",
    "import holoviews as hv\n",
    "hv.extension('bokeh')\n",
    "\n",
    "%load_ext autoreload\n",
    "%autoreload 2"
   ]
  },
  {
   "cell_type": "code",
   "execution_count": null,
   "metadata": {
    "ExecuteTime": {
     "end_time": "2017-09-05T21:27:33.874895Z",
     "start_time": "2017-09-05T21:27:33.617383Z"
    },
    "collapsed": true,
    "scrolled": false
   },
   "outputs": [],
   "source": [
    "%opts Curve Scatter [width=500,height=400] Layout [shared_axes=False] Scatter (size=10,alpha=0.5)\n",
    "%opts Curve Scatter [fontsize={'xlabel':14,'xlabel':14,'ylabel':14,'ticks':12}]\n",
    "%opts Overlay [legend_position='top_left']\n",
    "%opts Layout [shared_axes=False]\n",
    "\n",
    "\n",
    "colors = {}\n",
    "colors[0] = 'blue'\n",
    "colors[1] = 'red'\n",
    "colors[2] = 'green'\n",
    "colors[3] = 'magenta'\n",
    "colors[4] = 'orange'\n",
    "colors[5] = 'purple'\n",
    "\n",
    "ls = {}\n",
    "ls[0] = 'solid'\n",
    "ls[1] = 'dashed'\n",
    "ls[2] = 'dotted'\n",
    "ls[3] = 'dashdot'\n",
    "\n",
    "markers = {}\n",
    "markers[0] = 'o'\n",
    "markers[1] = '^'\n",
    "markers[2] = 'd'\n",
    "markers[3] = 's'"
   ]
  },
  {
   "cell_type": "code",
   "execution_count": null,
   "metadata": {
    "ExecuteTime": {
     "end_time": "2017-09-05T21:27:34.051799Z",
     "start_time": "2017-09-05T21:27:33.988097Z"
    }
   },
   "outputs": [],
   "source": [
    "omega_compare_N50 = []\n",
    "for name in ['DiscreteKoyama','MD','NFJC']:\n",
    "    print(name)\n",
    "    fname = './data/Omega-{}-N50.csv'.format(name)\n",
    "    x,y = np.loadtxt(fname,delimiter=',').T\n",
    "    omega_compare_N50.append([name,x,y])\n",
    "\n",
    "omega_compare_N200 = []\n",
    "for name in ['DiscreteKoyama','MD','NFJC']:\n",
    "    print(name)\n",
    "    fname = './data/Omega-{}-N200.csv'.format(name)\n",
    "    x,y = np.loadtxt(fname,delimiter=',').T\n",
    "    omega_compare_N200.append([name,x,y])\n",
    "    \n"
   ]
  },
  {
   "cell_type": "markdown",
   "metadata": {
    "collapsed": true
   },
   "source": [
    "# N=50 "
   ]
  },
  {
   "cell_type": "code",
   "execution_count": null,
   "metadata": {
    "ExecuteTime": {
     "end_time": "2017-09-05T21:30:16.680535Z",
     "start_time": "2017-09-05T21:30:16.000432Z"
    },
    "scrolled": false
   },
   "outputs": [],
   "source": [
    "import typyPRISM\n",
    "        \n",
    "extents = (0,0,4,35)\n",
    "N = 50\n",
    "sigma = 1.0\n",
    "siglj  = sigma/(1.0145)\n",
    "l = 0.94**(0.5) * siglj\n",
    "eps = 0.15\n",
    "d = typyPRISM.Domain(dr = 0.1,length=1024) \n",
    "\n",
    "curves = []\n",
    "\n",
    "K = typyPRISM.omega.DiscreteKoyama(sigma=sigma,l=l,length=N,epsilon=eps)\n",
    "O = K.calculate(d.k)\n",
    "x = siglj * d.k\n",
    "y = siglj * siglj * d.k * d.k * O\n",
    "label = 'DiscreteKoyama (typyPRISM)'\n",
    "style = {'color':colors[0],'line_dash':ls[0] }\n",
    "curves.append(hv.Curve((x,y),extents=extents,label=label)(style=style))\n",
    "print(K.lp,K.lp/l)\n",
    "\n",
    "K = typyPRISM.omega.Gaussian(sigma=sigma,length=N)\n",
    "O = K.calculate(d.k)\n",
    "x = siglj * d.k\n",
    "y = siglj * siglj * d.k * d.k * O\n",
    "label = 'Gaussian (typyPRISM)'\n",
    "style = {'color':colors[3],'line_dash':ls[1] }\n",
    "curves.append(hv.Curve((x,y),extents=extents,label=label)(style=style))\n",
    "\n",
    "K = typyPRISM.omega.FreelyJointedChain(length=N,l=l)\n",
    "O = K.calculate(d.k)\n",
    "x = siglj * d.k\n",
    "y = siglj * siglj * d.k * d.k * O\n",
    "label = 'FJC (typyPRISM)'\n",
    "style = {'color':colors[4],'line_dash':ls[2] }\n",
    "curves.append(hv.Curve((x,y),extents=extents,label=label)(style=style))\n",
    "\n",
    "K = typyPRISM.omega.GaussianRing(length=N,sigma=sigma)\n",
    "O = K.calculate(d.k)\n",
    "x = siglj * d.k\n",
    "y = siglj * siglj * d.k * d.k * O\n",
    "label = 'Gaussian Ring (typyPRISM)'\n",
    "style = {'color':colors[5],'line_dash':ls[3] }\n",
    "curves.append(hv.Curve((x,y),extents=extents,label=label)(style=style))\n",
    "\n",
    "for i,(name,x,y) in enumerate(omega_compare_N50,start=0):\n",
    "    label = name + ' (Ref 1)'\n",
    "    style = {'color':colors[i],'marker':markers[i]}\n",
    "    curves.append(hv.Scatter((x,y),label=label,extents=extents)(style=style))\n",
    "\n",
    "hv.Overlay(curves).redim.label(x='σlj*k',y='σlj² * k² * O')"
   ]
  },
  {
   "cell_type": "markdown",
   "metadata": {},
   "source": [
    "# N=200"
   ]
  },
  {
   "cell_type": "code",
   "execution_count": null,
   "metadata": {
    "ExecuteTime": {
     "end_time": "2017-09-05T21:31:53.417713Z",
     "start_time": "2017-09-05T21:31:51.408840Z"
    },
    "scrolled": false
   },
   "outputs": [],
   "source": [
    "import typyPRISM\n",
    "        \n",
    "extents = (0,0,4,35)\n",
    "N = 200\n",
    "sigma = 1.0\n",
    "siglj  = sigma/(1.0148)\n",
    "l = 0.94**(0.5) * siglj\n",
    "eps = 0.1\n",
    "\n",
    "curves = []\n",
    "\n",
    "K = typyPRISM.omega.DiscreteKoyama(sigma=sigma,l=l,length=N,epsilon=eps)\n",
    "O = K.calculate(d.k)\n",
    "x = siglj * d.k\n",
    "y = siglj * siglj * d.k * d.k * O\n",
    "label = 'DiscreteKoyama (typyPRISM)'\n",
    "style = {'color':colors[0],'line_dash':ls[0] }\n",
    "curves.append(hv.Curve((x,y),extents=extents,label=label)(style=style))\n",
    "print(K.lp,K.lp/l)\n",
    "\n",
    "K = typyPRISM.omega.Gaussian(sigma=sigma,length=N)\n",
    "O = K.calculate(d.k)\n",
    "x = siglj * d.k\n",
    "y = siglj * siglj * d.k * d.k * O\n",
    "label = 'Gaussian (typyPRISM)'\n",
    "style = {'color':colors[3],'line_dash':ls[1] }\n",
    "curves.append(hv.Curve((x,y),extents=extents,label=label)(style=style))\n",
    "\n",
    "K = typyPRISM.omega.FreelyJointedChain(length=N,l=l)\n",
    "O = K.calculate(d.k)\n",
    "x = siglj * d.k\n",
    "y = siglj * siglj * d.k * d.k * O\n",
    "label = 'FJC (typyPRISM)'\n",
    "style = {'color':colors[4],'line_dash':ls[2] }\n",
    "curves.append(hv.Curve((x,y),extents=extents,label=label)(style=style))\n",
    "\n",
    "K = typyPRISM.omega.GaussianRing(length=N,sigma=sigma)\n",
    "O = K.calculate(d.k)\n",
    "x = siglj * d.k\n",
    "y = siglj * siglj * d.k * d.k * O\n",
    "label = 'Gaussian Ring (typyPRISM)'\n",
    "style = {'color':colors[5],'line_dash':ls[3] }\n",
    "curves.append(hv.Curve((x,y),extents=extents,label=label)(style=style))\n",
    "\n",
    "\n",
    "for i,(name,x,y) in enumerate(omega_compare_N200,start=0):\n",
    "    label = name + ' (Ref 1)'\n",
    "    style = {'color':colors[i],'marker':markers[i]}\n",
    "    curves.append(hv.Scatter((x,y),label=label,extents=extents)(style=style))\n",
    "\n",
    "hv.Overlay(curves).redim.label(x='σlj*k',y='σlj² * k² * O')"
   ]
  },
  {
   "cell_type": "markdown",
   "metadata": {},
   "source": [
    "# N=200 (no bending energy)"
   ]
  },
  {
   "cell_type": "code",
   "execution_count": null,
   "metadata": {
    "ExecuteTime": {
     "end_time": "2017-09-05T21:31:53.417713Z",
     "start_time": "2017-09-05T21:31:51.408840Z"
    },
    "scrolled": false
   },
   "outputs": [],
   "source": [
    "import typyPRISM\n",
    "        \n",
    "extents = (0,0,4,35)\n",
    "N = 200\n",
    "sigma = 1.0\n",
    "siglj  = sigma/(1.0148)\n",
    "l = 0.94**(0.5) * siglj\n",
    "eps = 0.0001\n",
    "d = typyPRISM.Domain(dr = 0.1,length=1024) \n",
    "\n",
    "curves = []\n",
    "\n",
    "K = typyPRISM.omega.DiscreteKoyama(sigma=sigma,l=l,length=N,epsilon=eps)\n",
    "O = K.calculate(d.k)\n",
    "x = siglj * d.k\n",
    "y = siglj * siglj * d.k * d.k * O\n",
    "label = 'DiscreteKoyama (typyPRISM)'\n",
    "style = {'color':colors[0],'line_dash':ls[0] }\n",
    "curves.append(hv.Curve((x,y),extents=extents,label=label)(style=style))\n",
    "print(K.lp,K.lp/l)\n",
    "\n",
    "K = typyPRISM.omega.Gaussian(sigma=sigma,length=N)\n",
    "O = K.calculate(d.k)\n",
    "x = siglj * d.k\n",
    "y = siglj * siglj * d.k * d.k * O\n",
    "label = 'Gaussian (typyPRISM)'\n",
    "style = {'color':colors[3],'line_dash':ls[1] }\n",
    "curves.append(hv.Curve((x,y),extents=extents,label=label)(style=style))\n",
    "\n",
    "K = typyPRISM.omega.FreelyJointedChain(length=N,l=l)\n",
    "O = K.calculate(d.k)\n",
    "x = siglj * d.k\n",
    "y = siglj * siglj * d.k * d.k * O\n",
    "label = 'FJC (typyPRISM)'\n",
    "style = {'color':colors[4],'line_dash':ls[2] }\n",
    "curves.append(hv.Curve((x,y),extents=extents,label=label)(style=style))\n",
    "\n",
    "K = typyPRISM.omega.GaussianRing(length=N,sigma=sigma)\n",
    "O = K.calculate(d.k)\n",
    "x = siglj * d.k\n",
    "y = siglj * siglj * d.k * d.k * O\n",
    "label = 'Gaussian Ring (typyPRISM)'\n",
    "style = {'color':colors[5],'line_dash':ls[3] }\n",
    "curves.append(hv.Curve((x,y),extents=extents,label=label)(style=style))\n",
    "\n",
    "for i,(name,x,y) in enumerate(omega_compare_N200,start=0):\n",
    "    label = name + ' (Ref 1)'\n",
    "    style = {'color':colors[i],'marker':markers[i]}\n",
    "    curves.append(hv.Scatter((x,y),label=label,extents=extents)(style=style))\n",
    "\n",
    "hv.Overlay(curves).redim.label(x='σlj*k',y='σlj² * k² * O')"
   ]
  },
  {
   "cell_type": "code",
   "execution_count": null,
   "metadata": {
    "ExecuteTime": {
     "end_time": "2017-09-05T21:30:45.929455Z",
     "start_time": "2017-09-05T21:30:45.884291Z"
    },
    "scrolled": false
   },
   "outputs": [],
   "source": [
    "'\\u03C3lj\\u00B2 * k\\u00B2 * O'"
   ]
  },
  {
   "cell_type": "code",
   "execution_count": null,
   "metadata": {
    "collapsed": true
   },
   "outputs": [],
   "source": []
  },
  {
   "cell_type": "code",
   "execution_count": null,
   "metadata": {
    "collapsed": true
   },
   "outputs": [],
   "source": []
  }
 ],
 "metadata": {
  "kernelspec": {
   "display_name": "Python 3",
   "language": "python",
   "name": "python3"
  },
  "language_info": {
   "codemirror_mode": {
    "name": "ipython",
    "version": 3
   },
   "file_extension": ".py",
   "mimetype": "text/x-python",
   "name": "python",
   "nbconvert_exporter": "python",
   "pygments_lexer": "ipython3",
   "version": "3.6.2"
  }
 },
 "nbformat": 4,
 "nbformat_minor": 2
}
