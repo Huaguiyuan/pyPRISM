{
 "cells": [
  {
   "cell_type": "markdown",
   "metadata": {},
   "source": [
    "Polymer Blend\n",
    "===========\n",
    "\n",
    "insert description\n",
    "\n",
    "### Concepts Used\n",
    "- blergh\n",
    "\n",
    "### Tools Used\n",
    "- blergh"
   ]
  },
  {
   "cell_type": "markdown",
   "metadata": {},
   "source": [
    "References\n",
    "-----------\n",
    "1. Yethiraj, A.; Schweizer, K.S.; Integral equation theory of polymer blends: Numerical Investigation of molecular closure approximations, J. Chem. Phys., 1993, 98 (11) \n",
    " \n",
    "  "
   ]
  },
  {
   "cell_type": "markdown",
   "metadata": {},
   "source": [
    "Global Imports and Setup\n",
    "----------------------------"
   ]
  },
  {
   "cell_type": "code",
   "execution_count": null,
   "metadata": {
    "ExecuteTime": {
     "end_time": "2017-10-06T19:37:14.786286Z",
     "start_time": "2017-10-06T19:37:12.717144Z"
    }
   },
   "outputs": [],
   "source": [
    "import numpy as np\n",
    "import holoviews as hv\n",
    "hv.extension('bokeh','matplotlib')\n",
    "\n",
    "%load_ext autoreload\n",
    "%autoreload 2"
   ]
  },
  {
   "cell_type": "code",
   "execution_count": null,
   "metadata": {
    "ExecuteTime": {
     "end_time": "2017-10-05T20:33:02.623912Z",
     "start_time": "2017-10-05T20:33:02.136069Z"
    }
   },
   "outputs": [],
   "source": [
    "%%opts Overlay [width=600,height=400]\n",
    "import typyPRISM\n",
    "domain = typyPRISM.Domain(length=1024,dr=0.01)\n",
    "curves = []\n",
    "for i,epsilon in enumerate(np.arange(0.05,0.19,0.025)):\n",
    "    epsilon*=-1\n",
    "    U = typyPRISM.potential.HardCoreLennardJones(epsilon=epsilon,sigma=sigma).calculate(domain.r)\n",
    "    curves.append(hv.Scatter((domain.r,U),label=str(epsilon),extents=(1,-0.1,2,0.3)))\n",
    "hv.Overlay(curves)"
   ]
  },
  {
   "cell_type": "code",
   "execution_count": null,
   "metadata": {
    "ExecuteTime": {
     "end_time": "2017-10-06T19:43:44.430433Z",
     "start_time": "2017-10-06T19:43:41.792305Z"
    },
    "scrolled": true
   },
   "outputs": [],
   "source": [
    "import typyPRISM\n",
    "import numpy as np\n",
    "delta =  0.05#0.076260500979288562\n",
    "factor = 1.0/(1.0 - delta)\n",
    "\n",
    "N = 8\n",
    "sigma = l = 1.0\n",
    "phi     = 0.5\n",
    "eta     = 0.3\n",
    "v1      = 4.0/3.0 * np.pi * (sigma/2.0)**(3.0)\n",
    "rhoA    = phi * eta/v1*factor\n",
    "rhoB    = (1-phi) * eta/v1*factor\n",
    "kT = 1.0\n",
    "print(rhoA,rhoB)\n",
    "\n",
    "sys = typyPRISM.System(['A','B'],kT=kT)\n",
    "sys.domain = typyPRISM.Domain(dr=0.025,length=2048)\n",
    "\n",
    "sys.density['A'] = rhoA\n",
    "sys.density['B'] = rhoB\n",
    "\n",
    "sys.diameter[sys.types] = 1.0\n",
    "\n",
    "sys.potential[sys.types,sys.types] = typyPRISM.potential.HardSphere(sigma=sigma)\n",
    "sys.closure[sys.types,sys.types] = typyPRISM.closure.PercusYevick(True)\n",
    "sys.omega[sys.types,sys.types] = typyPRISM.omega.DiscreteKoyama(lp=4.0/3.0,length=N,sigma=sigma,l=l)\n",
    "sys.omega['A','B'] = typyPRISM.omega.InterMolecular()\n",
    "\n",
    "lam_list = []\n",
    "guess = np.zeros(sys.domain.length*sys.rank*sys.rank)\n",
    "for i,epsilon in enumerate(np.arange(0.05,0.19,0.01)):\n",
    "    epsilon *= -1.0\n",
    "    print('T=',kT/abs(epsilon))\n",
    "    print('1/T=',abs(epsilon)/kT)\n",
    "\n",
    "    sys.potential['A','B'] = typyPRISM.potential.HardCoreLennardJones(epsilon=epsilon,sigma=sigma)\n",
    "\n",
    "    PRISM = sys.createPRISM()\n",
    "    PRISM.solve(guess,method='krylov')\n",
    "\n",
    "    lam = typyPRISM.calculate.spinodal_condition(PRISM)\n",
    "    lam_list.append([abs(epsilon),lam['A','B']])\n",
    "    \n",
    "    guess = np.copy(PRISM.x)\n",
    "    \n",
    "    print(np.array(lam_list))\n",
    "\n",
    "np.array(lam_list)"
   ]
  },
  {
   "cell_type": "code",
   "execution_count": null,
   "metadata": {
    "ExecuteTime": {
     "end_time": "2017-10-06T19:43:48.902185Z",
     "start_time": "2017-10-06T19:43:48.737035Z"
    }
   },
   "outputs": [],
   "source": [
    "xy1 = np.array(lam_list)\n",
    "# xy2 = np.array(lam_list2)\n",
    "hv.Curve(xy1,extents=(0,0,1.2,30),label='MSA') #* hv.Curve(xy2,extents=(0,0,1.2,30),label='PY')"
   ]
  },
  {
   "cell_type": "code",
   "execution_count": null,
   "metadata": {
    "ExecuteTime": {
     "end_time": "2017-10-05T20:34:51.811311Z",
     "start_time": "2017-10-05T20:34:51.699914Z"
    }
   },
   "outputs": [],
   "source": [
    "xy1 = np.array(lam_list)\n",
    "# xy2 = np.array(lam_list2)\n",
    "hv.Curve(xy1,extents=(0,0,1.2,30),label='MSA') #* hv.Curve(xy2,extents=(0,0,1.2,30),label='PY')"
   ]
  },
  {
   "cell_type": "code",
   "execution_count": null,
   "metadata": {
    "ExecuteTime": {
     "end_time": "2017-09-28T16:59:52.085335Z",
     "start_time": "2017-09-28T16:57:38.735822Z"
    }
   },
   "outputs": [],
   "source": [
    "import typyPRISM\n",
    "import scipy\n",
    "import numpy as np\n",
    "\n",
    "def density_correction(sigma,N,domain,omega_real):\n",
    "    r = domain.r\n",
    "    \n",
    "    integrand  =(np.pi/6.0)*(sigma**(3.0)) \n",
    "    integrand *=(1 - 3*r/(2*sigma) + 0.5*(r/sigma)**(3.0))\n",
    "    integrand *= omega_real\n",
    "    integrand *= 4*np.pi*r*r\n",
    "    \n",
    "    mask = r<=sigma\n",
    "    # integrand[r>sigma] = 0.0 # we only integrate inside the hard core\n",
    "    delta  = scipy.integrate.simps(integrand[mask],x=r[mask])\n",
    "    delta *= 1.0/(N*np.pi*sigma*sigma*sigma/6.0)\n",
    "    \n",
    "    factor = 1/(1-delta)\n",
    "    return delta,factor\n",
    "\n",
    "# domain = typyPRISM.Domain(dr=0.001,length=1001)\n",
    "domain = typyPRISM.Domain(dr=0.001,length=1024)\n",
    "\n",
    "N = 2000\n",
    "\n",
    "l = sigma = 1.0\n",
    "O = typyPRISM.omega.DiscreteKoyama(lp=4.0/3.0,length=N,sigma=sigma,l=l)\n",
    "omega_fourier = 2*O.calculate_outer(domain.k) \n",
    "omega_real = domain.to_real(omega_fourier)\n",
    "\n",
    "print(O.lp,np.arccos(O.cos0),np.pi/3)\n",
    "\n",
    "density_correction(sigma,N,domain,omega_real)"
   ]
  },
  {
   "cell_type": "code",
   "execution_count": null,
   "metadata": {
    "ExecuteTime": {
     "end_time": "2017-09-28T16:54:47.327266Z",
     "start_time": "2017-09-28T16:54:47.291611Z"
    }
   },
   "outputs": [],
   "source": [
    "0.005*1024"
   ]
  },
  {
   "cell_type": "code",
   "execution_count": null,
   "metadata": {},
   "outputs": [],
   "source": []
  }
 ],
 "metadata": {
  "kernelspec": {
   "display_name": "Python 3",
   "language": "python",
   "name": "python3"
  },
  "language_info": {
   "codemirror_mode": {
    "name": "ipython",
    "version": 3
   },
   "file_extension": ".py",
   "mimetype": "text/x-python",
   "name": "python",
   "nbconvert_exporter": "python",
   "pygments_lexer": "ipython3",
   "version": "3.5.4"
  }
 },
 "nbformat": 4,
 "nbformat_minor": 2
}
