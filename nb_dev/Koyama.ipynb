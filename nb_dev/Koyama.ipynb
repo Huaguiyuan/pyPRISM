{
 "cells": [
  {
   "cell_type": "markdown",
   "metadata": {},
   "source": [
    "Ring Polymer Melt\n",
    "===========\n",
    "\n",
    "insert description\n",
    "\n",
    "### Concepts Used\n",
    "- blergh\n",
    "\n",
    "### Tools Used\n",
    "- blergh"
   ]
  },
  {
   "cell_type": "markdown",
   "metadata": {},
   "source": [
    "References\n",
    "-----------\n",
    " \n",
    "  "
   ]
  },
  {
   "cell_type": "markdown",
   "metadata": {},
   "source": [
    "Global Imports and Setup\n",
    "----------------------------"
   ]
  },
  {
   "cell_type": "code",
   "execution_count": null,
   "metadata": {
    "ExecuteTime": {
     "end_time": "2017-09-03T18:29:51.030268Z",
     "start_time": "2017-09-03T18:29:50.879656Z"
    },
    "scrolled": false
   },
   "outputs": [],
   "source": [
    "import numpy as np\n",
    "import holoviews as hv\n",
    "hv.extension('bokeh')\n",
    "\n",
    "%load_ext autoreload\n",
    "%autoreload 2"
   ]
  },
  {
   "cell_type": "code",
   "execution_count": null,
   "metadata": {
    "ExecuteTime": {
     "end_time": "2017-09-03T18:29:51.963190Z",
     "start_time": "2017-09-03T18:29:51.734681Z"
    },
    "collapsed": true,
    "scrolled": false
   },
   "outputs": [],
   "source": [
    "%opts Curve Scatter [width=500,height=400] Layout [shared_axes=False] Scatter (size=10,alpha=0.5)\n",
    "%opts Curve Scatter [fontsize={'xlabel':14,'xlabel':14,'ylabel':14,'ticks':12}]\n",
    "%opts Overlay [legend_position='bottom_left']\n",
    "%opts Layout [shared_axes=False]\n",
    "\n",
    "\n",
    "colors = {}\n",
    "colors[2000] = 'blue'\n",
    "colors[500] = 'red'\n",
    "colors[100] = 'green'\n",
    "\n",
    "ls = {}\n",
    "ls[2000] = 'solid'\n",
    "ls[500] = 'dashed'\n",
    "ls[100] = 'dotted'\n",
    "\n",
    "markers = {}\n",
    "markers[2000] = 'o'\n",
    "markers[500] = '^'\n",
    "markers[100] = 'd'"
   ]
  },
  {
   "cell_type": "markdown",
   "metadata": {},
   "source": [
    "Demo\n",
    "-----"
   ]
  },
  {
   "cell_type": "code",
   "execution_count": null,
   "metadata": {
    "ExecuteTime": {
     "end_time": "2017-08-31T19:24:17.236602Z",
     "start_time": "2017-08-31T19:24:16.693312Z"
    },
    "collapsed": true,
    "scrolled": false
   },
   "outputs": [],
   "source": [
    "%%opts Overlay [legend_position='bottom_right']\n",
    "from math import sqrt\n",
    "\n",
    "extents = (0,0,13,1.0)\n",
    "\n",
    "gr_plots = []\n",
    "for name,N,x,y in gr_results:\n",
    "    label = 'N={} (typyPRISM)'.format(N)\n",
    "    style = {'line_dash':ls[N],'color':colors[N]}\n",
    "    c1 = hv.Curve((x,y),label=label,extents=extents)(style=style)\n",
    "    gr_plots.append(c1)\n",
    "    \n",
    "for N,x,y in gr_compare:\n",
    "    label = 'N={} (Ref 1)'.format(N)\n",
    "    style = {'marker':markers[N],'color':colors[N]}\n",
    "    c1 = hv.Scatter((x,y),label=label,extents=extents)(style=style)\n",
    "    gr_plots.append(c1)\n",
    "    \n",
    "    \n",
    "hv.Overlay(gr_plots).redim.label(x='r',y='g(r)')"
   ]
  },
  {
   "cell_type": "markdown",
   "metadata": {
    "collapsed": true
   },
   "source": [
    "# KOYAMA "
   ]
  },
  {
   "cell_type": "code",
   "execution_count": null,
   "metadata": {
    "ExecuteTime": {
     "end_time": "2017-09-05T00:29:59.813465Z",
     "start_time": "2017-09-05T00:29:59.179069Z"
    },
    "scrolled": false
   },
   "outputs": [],
   "source": [
    "# %load ../typyPRISM/omega/Koyama.py\n",
    "#!python\n",
    "from __future__ import division,print_function\n",
    "from typyPRISM.omega.Omega import Omega\n",
    "import numpy as np\n",
    "from math import exp,sin,cos,sqrt\n",
    "\n",
    "class Koyama(Omega):\n",
    "    '''Semi-flexible Koyama-based intra-molecular correlation function\n",
    "\n",
    "    .. warning::\n",
    "        This function is very sensitive to the bending energy parameter\n",
    "        and will crash if the value is too low (must be>0) or too high.\n",
    "        The exact upper value also changes with changing chain length.\n",
    "        \n",
    "    \n",
    "    .. note::\n",
    "        Kevin G. Honnell, John G. Curro, Kenneth S. Schweizer\n",
    "        Local structure of semiflexible polymer melts\n",
    "        Macromolecules, 1990, 23 (14), pp 3496–3505\n",
    "    \n",
    "    Attributes\n",
    "    ----------\n",
    "    sigma: float\n",
    "        contact distance between these sites (i.e. site diameter)\n",
    "\n",
    "    l: float\n",
    "        bond length\n",
    "        \n",
    "    length: float\n",
    "        number of monomers/sites in the chain\n",
    "\n",
    "    epsilon: float\n",
    "        bending energy parameter. Must be >0.\n",
    "        \n",
    "    lp: float\n",
    "        persistence length\n",
    "    '''\n",
    "    def __init__(self,epsilon,sigma,l,length):\n",
    "        self.epsilon = epsilon\n",
    "        self.sigma   = sigma\n",
    "        self.length  = length\n",
    "        self.l       = l\n",
    "        self.cos0    = 1 - sigma*sigma/(2.0 * l * l)\n",
    "        self.value   = None\n",
    "        \n",
    "        self.lp = l/(1+self.cos_avg(epsilon))\n",
    "    def cos_avg(self,epsilon):\n",
    "        '''First moment of bond angle distribution'''\n",
    "        e = epsilon\n",
    "        cos0 = self.cos0\n",
    "        return 1/e  - ( exp(e) + cos0*exp(-e*cos0) )/( exp(e) - exp(-e*cos0) )\n",
    "    \n",
    "    def cos_sq_avg(self,epsilon):\n",
    "        '''Second moment of bond angle distribution'''\n",
    "        e = epsilon\n",
    "        cos0 = self.cos0\n",
    "        cos1 = self.cos_avg(epsilon)\n",
    "        return (2/e)*cos1 + ( exp(e) - cos0*cos0*exp(-e*cos0) )/( exp(e) - exp(-e*cos0) )\n",
    "    \n",
    "    def koyama_kernel(self,k,cos1,cos2,n):\n",
    "        '''\n",
    "        Apologies for the mess below, but this is essentially how the math is \n",
    "        presented in the paper. Please see equation 18 of the above reference \n",
    "        and if there is a better, cleaner way to do this, make it so\n",
    "        '''\n",
    "        l = self.l\n",
    "        q = -cos1\n",
    "        p = (3*cos2 - 1)/2\n",
    "        \n",
    "        D  = n * n * ((1 + q)/(1 - q))**(2.0) \n",
    "        D -= n*(1 + (2*q/(1-q)**(3.0)) * (6 + 5*q + 3*q*q) - 4*p/(1-p)*((1 + q)/(1 - q))**(2.0))\n",
    "        D += 2*q/(1-q)**(4.0) * (4 + 11*q + 12*q*q)\n",
    "        D -= 4*p/(1-p) * (1 + 8*q/(1-q)**(3.0) + p/(1-p)*((1 + q)/(1 - q))**(2.0))\n",
    "        D -= q**(n) * 8*q/(1-q)**(3.0) * (n*(1 + 3*q))\n",
    "        D -= q**(n) * 8*q/(1-q)**(3.0) * ((1 + 2*q + 3*q*q)/(1-q))\n",
    "        D -= q**(n) * 8*q/(1-q)**(3.0) * (-2*p/(q-p)**(2.0) *(n*(1-q)*(q-p)+2*q*q-q*p-p))\n",
    "        D -= 6*q**(2*n+2)/(1-q)**(4.0)\n",
    "        D += p**(n) * (4/(1-p) * (1 + 8*q/(1-q)**(3.0) - ((1+q)/(1-q))**2.0 * (1 - p/(1-p)) ))\n",
    "        D -= p**(n) * (16*q*q/(1-q)**(3.0) * (1/(q-p)**(2.0))*(q+q*q-2*p))\n",
    "        D *= 2/3\n",
    "        \n",
    "        r2 = n*l*l*((1-cos1)/(1+cos1) + 2*cos1/n * (1-(-cos1)**(n))/(1 + cos1)**(2.0))\n",
    "        r4 = r2*r2 + l*l*l*l*D\n",
    "        \n",
    "        try:\n",
    "            C = sqrt(0.5 * (5 - 3*r4/(r2*r2)))\n",
    "            B = sqrt(C*r2)\n",
    "            A = sqrt(r2*(1-C)/6)\n",
    "        except ValueError as e:\n",
    "            raise ValueError('Bad chain parameters. (Try reducing epsilon)')\n",
    "            \n",
    "        return np.sin(B*k)/(B*k) * np.exp(-A*A*k*k)\n",
    "\n",
    "    \n",
    "    def __repr__(self):\n",
    "        return '<Omega: Koyama>'\n",
    "    \n",
    "    def calculate(self,k):\n",
    "        self.value = np.zeros_like(k)\n",
    "        \n",
    "        cos1 = self.cos_avg(self.epsilon)\n",
    "        cos2 = self.cos_sq_avg(self.epsilon)\n",
    "        for i in range(1,self.length-1):\n",
    "            for j in range(i+1,self.length):\n",
    "                n = abs(i - j)\n",
    "                self.value += self.koyama_kernel(k=k,cos1=cos1,cos2=cos2,n=n)\n",
    "        self.value *= 2/self.length\n",
    "        self.value += 1.0\n",
    "        \n",
    "        return self.value\n",
    "        \n",
    "        \n",
    "\n",
    "sigma = 1.0\n",
    "lb = 1.0\n",
    "N = 200\n",
    "eps = 0.15\n",
    "\n",
    "K = Koyama(sigma=sigma,l=lb,length=N,epsilon=eps)\n",
    "d = Domain(dr = 0.1,length=1024) \n",
    "\n",
    "K.cos_avg(eps)\n",
    "K.lp\n",
    "\n",
    "lp = 1.38\n",
    "cos1 = 1 - l/lp\n",
    "\n",
    "\n",
    "# O = K.calculate(d.k)\n",
    "# siglj  = 1/(1.0148)\n",
    "# x = siglj * d.k\n",
    "# y = siglj * siglj * d.k * d.k * O\n",
    "# hv.Curve((x,y),extents=(0,0,4,10)).redim.label(x='k',y='k*k*O')"
   ]
  },
  {
   "cell_type": "code",
   "execution_count": null,
   "metadata": {
    "collapsed": true,
    "scrolled": false
   },
   "outputs": [],
   "source": []
  },
  {
   "cell_type": "code",
   "execution_count": null,
   "metadata": {
    "ExecuteTime": {
     "end_time": "2017-09-04T21:28:30.646563Z",
     "start_time": "2017-09-04T21:28:28.163012Z"
    },
    "scrolled": false
   },
   "outputs": [],
   "source": [
    "from math import sqrt,sin,exp\n",
    "\n",
    "\n",
    "\n",
    "\n",
    "f1 = lambda e: 1/e         - ( np.exp(e) + cos0*np.exp(-e*cos0) )/( np.exp(e) - np.exp(-e*cos0) )\n",
    "f2 = lambda e: (2/e)*f1(e) + ( np.exp(e) - cos0*cos0*np.exp(-e*cos0) )/( np.exp(e) - np.exp(-e*cos0) )\n",
    "def koyama_omega(k,i,j,e,lb=1.0,sigma=1.0):\n",
    "    cos0 = 1 - sigma*sigma/(2.0 * lb * lb)\n",
    "    cos  = f1(e)\n",
    "    cos2 = f2(e)\n",
    "    lp   = lb/(1+cos)\n",
    "    q    = -cos\n",
    "    p    = (3*cos2 - 1)/2\n",
    "    n    = abs(i - j)\n",
    "    \n",
    "    # Apologies for the mess below. Please see equation 18 of the above reference and if \n",
    "    # there is a better, cleaner way to do this, make it so\n",
    "    D  = n * n * ((1 + q)/(1 - q))**(2.0) \n",
    "    D -= n*(1 + (2*q/(1-q)**(3.0)) * (6 + 5*q + 3*q*q) - 4*p/(1-p)*((1 + q)/(1 - q))**(2.0))\n",
    "    D += 2*q/(1-q)**(4.0) * (4 + 11*q + 12*q*q)\n",
    "    D -= 4*p/(1-p) * (1 + 8*q/(1-q)**(3.0) + p/(1-p)*((1 + q)/(1 - q))**(2.0))\n",
    "    D -= q**(n) * 8*q/(1-q)**(3.0) * (n*(1 + 3*q))\n",
    "    D -= q**(n) * 8*q/(1-q)**(3.0) * ((1 + 2*q + 3*q*q)/(1-q))\n",
    "    D -= q**(n) * 8*q/(1-q)**(3.0) * (-2*p/(q-p)**(2.0) *(n*(1-q)*(q-p)+2*q*q-q*p-p))\n",
    "    D -= 6*q**(2*n+2)/(1-q)**(4.0)\n",
    "    D += p**(n) * (4/(1-p) * (1 + 8*q/(1-q)**(3.0) - ((1+q)/(1-q))**2.0 * (1 - p/(1-p)) ))\n",
    "    D -= p**(n) * (16*q*q/(1-q)**(3.0) * (1/(q-p)**(2.0))*(q+q*q-2*p))\n",
    "    D *= 2/3\n",
    "    \n",
    "    r2 = n*lb*lb*((1-cos)/(1+cos) + 2*cos/n * (1-(-cos)**(n))/(1 + cos)**(2.0))\n",
    "    r4 = r2*r2 + lb*lb*lb*lb*D\n",
    "    \n",
    "    try:\n",
    "        C = sqrt(0.5 * (5 - 3*r4/(r2*r2)))\n",
    "        B = sqrt(C*r2)\n",
    "        A = sqrt(r2*(1-C)/6)\n",
    "    except ValueError as e:\n",
    "        raise ValueError('Bad chain parameters. (Try reducing epsilon)')\n",
    "        \n",
    "    return np.sin(B*k)/(B*k) * np.exp(-A*A*k*k)\n",
    "\n",
    "\n",
    "from typyPRISM import Domain\n",
    "\n",
    "sigma = 1.0\n",
    "lb = 1.0\n",
    "N = 200\n",
    "eps = 0.3\n",
    "eps = 0.15\n",
    "\n",
    "lp = lb/(1+f1(eps))\n",
    "print(lp/lb)\n",
    "\n",
    "d = Domain(dr = 0.1,length=1024)\n",
    "omega = np.zeros_like(d.k)\n",
    "\n",
    "for i in range(1,N-1):\n",
    "    for j in range(i+1,N):\n",
    "        omega += koyama_omega(k=d.k,i=i,j=j,e=eps,lb=lb,sigma=sigma)\n",
    "omega *= 2/N        \n",
    "omega += 1.0\n",
    "        \n",
    "        \n",
    "siglj  = 1/(1.0148)\n",
    "x = siglj * d.k\n",
    "y = siglj * siglj * d.k * d.k * omega\n",
    "hv.Curve((x,y),extents=(0,0,4,10)).redim.label(x='k',y=(k*k*O))\n",
    "        "
   ]
  },
  {
   "cell_type": "code",
   "execution_count": null,
   "metadata": {
    "collapsed": true,
    "scrolled": false
   },
   "outputs": [],
   "source": []
  }
 ],
 "metadata": {
  "kernelspec": {
   "display_name": "Python 3",
   "language": "python",
   "name": "python3"
  },
  "language_info": {
   "codemirror_mode": {
    "name": "ipython",
    "version": 3
   },
   "file_extension": ".py",
   "mimetype": "text/x-python",
   "name": "python",
   "nbconvert_exporter": "python",
   "pygments_lexer": "ipython3",
   "version": "3.6.2"
  }
 },
 "nbformat": 4,
 "nbformat_minor": 2
}
