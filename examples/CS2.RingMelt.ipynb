{
 "cells": [
  {
   "cell_type": "markdown",
   "metadata": {},
   "source": [
    "Ring Polymer Melt\n",
    "===========\n",
    "\n",
    "insert description\n",
    "\n",
    "### Concepts Used\n",
    "- blergh\n",
    "\n",
    "### Tools Used\n",
    "- blergh"
   ]
  },
  {
   "cell_type": "markdown",
   "metadata": {},
   "source": [
    "References\n",
    "-----------\n",
    "1. Curro, J.G.; Schweizer K.S.; Theory of Polymer Melts: An Integral Equation Approach\n",
    "   Macromolecules, 1987, 20, 1928-1934, doi: 10.1021/ma00174a040\n",
    " \n",
    "  "
   ]
  },
  {
   "cell_type": "markdown",
   "metadata": {},
   "source": [
    "Global Imports and Setup\n",
    "----------------------------"
   ]
  },
  {
   "cell_type": "code",
   "execution_count": null,
   "metadata": {
    "ExecuteTime": {
     "end_time": "2017-09-10T19:27:45.827311Z",
     "start_time": "2017-09-10T19:27:44.090922Z"
    }
   },
   "outputs": [],
   "source": [
    "import numpy as np\n",
    "import holoviews as hv\n",
    "hv.extension('bokeh')\n",
    "\n",
    "%load_ext autoreload\n",
    "%autoreload 2"
   ]
  },
  {
   "cell_type": "code",
   "execution_count": null,
   "metadata": {
    "ExecuteTime": {
     "end_time": "2017-09-10T19:27:46.031378Z",
     "start_time": "2017-09-10T19:27:45.831016Z"
    },
    "collapsed": true
   },
   "outputs": [],
   "source": [
    "%opts Curve Scatter [width=500,height=400] Layout [shared_axes=False] Scatter (size=10,alpha=0.5)\n",
    "%opts Curve Scatter [fontsize={'xlabel':14,'xlabel':14,'ylabel':14,'ticks':12}]\n",
    "%opts Overlay [legend_position='bottom_left']\n",
    "%opts Layout [shared_axes=False]\n",
    "\n",
    "\n",
    "colors = {}\n",
    "colors[2000] = 'blue'\n",
    "colors[500] = 'red'\n",
    "colors[100] = 'green'\n",
    "\n",
    "ls = {}\n",
    "ls[2000] = 'solid'\n",
    "ls[500] = 'dashed'\n",
    "ls[100] = 'dotted'\n",
    "\n",
    "markers = {}\n",
    "markers[2000] = 'o'\n",
    "markers[500] = '^'\n",
    "markers[100] = 'd'"
   ]
  },
  {
   "cell_type": "markdown",
   "metadata": {},
   "source": [
    "Demo\n",
    "-----"
   ]
  },
  {
   "cell_type": "markdown",
   "metadata": {},
   "source": [
    "First we'll load in the data extracted from the literature that we'll be comparing against. "
   ]
  },
  {
   "cell_type": "code",
   "execution_count": null,
   "metadata": {
    "ExecuteTime": {
     "end_time": "2017-09-10T19:27:46.087252Z",
     "start_time": "2017-09-10T19:27:46.035958Z"
    },
    "collapsed": true
   },
   "outputs": [],
   "source": [
    "gr_compare = []\n",
    "for density in [2000,500,100]:\n",
    "    fname = './data/RingMelt-Gr-N{}.csv'.format(density)\n",
    "    x,y = np.loadtxt(fname,delimiter=',').T\n",
    "    gr_compare.append([density,x,y])\n"
   ]
  },
  {
   "cell_type": "markdown",
   "metadata": {},
   "source": [
    "Now we do the PRISM calculation..."
   ]
  },
  {
   "cell_type": "code",
   "execution_count": null,
   "metadata": {
    "ExecuteTime": {
     "end_time": "2017-09-10T19:29:03.071808Z",
     "start_time": "2017-09-10T19:29:01.439673Z"
    }
   },
   "outputs": [],
   "source": [
    "import typyPRISM\n",
    "from typyPRISM.calculate.prism.pair_correlation import pair_correlation\n",
    "\n",
    "sys = typyPRISM.System(['polymer'],kT=1.0)\n",
    "sys.domain = typyPRISM.Domain(dr=0.05,length=4096)\n",
    "sys.diameter['polymer'] = 1.0\n",
    "sys.density['polymer'] = 0.9\n",
    "sys.closure['polymer','polymer'] = typyPRISM.closure.PercusYevick()\n",
    "sys.potential['polymer','polymer'] = typyPRISM.potential.HardSphere(sigma=1.0)\n",
    "\n",
    "gr_results = []\n",
    "guess = np.zeros_like(sys.domain.r)\n",
    "for length in [2000,500,100]:\n",
    "    print('==> Solving for gaussian ring of length {}'.format(length))\n",
    "    sys.omega['polymer','polymer'] = typyPRISM.omega.GaussianRing(sigma=1.0,length=length)\n",
    "    PRISM = sys.createPRISM()\n",
    "    result = PRISM.solve(guess)\n",
    "    guess = np.copy(PRISM.x)\n",
    "    \n",
    "    x = sys.domain.r\n",
    "    y = pair_correlation(PRISM)['polymer','polymer']\n",
    "    gr_results.append(['ring',length,x,y])\n",
    "    \n",
    "    "
   ]
  },
  {
   "cell_type": "markdown",
   "metadata": {},
   "source": [
    "Here we reproduce Figure 1 of Reference 1."
   ]
  },
  {
   "cell_type": "code",
   "execution_count": null,
   "metadata": {
    "ExecuteTime": {
     "end_time": "2017-09-10T19:29:06.044869Z",
     "start_time": "2017-09-10T19:29:05.580869Z"
    }
   },
   "outputs": [],
   "source": [
    "%%opts Overlay [legend_position='bottom_right']\n",
    "from math import sqrt\n",
    "\n",
    "extents = (0,0,13,1.0)\n",
    "\n",
    "gr_plots = []\n",
    "for name,N,x,y in gr_results:\n",
    "    label = 'N={} (typyPRISM)'.format(N)\n",
    "    style = {'line_dash':ls[N],'color':colors[N]}\n",
    "    c1 = hv.Curve((x,y),label=label,extents=extents)(style=style)\n",
    "    gr_plots.append(c1)\n",
    "    \n",
    "for N,x,y in gr_compare:\n",
    "    label = 'N={} (Ref 1)'.format(N)\n",
    "    style = {'marker':markers[N],'color':colors[N]}\n",
    "    c1 = hv.Scatter((x,y),label=label,extents=extents)(style=style)\n",
    "    gr_plots.append(c1)\n",
    "    \n",
    "    \n",
    "hv.Overlay(gr_plots).redim.label(x='r',y='g(r)')"
   ]
  },
  {
   "cell_type": "code",
   "execution_count": null,
   "metadata": {
    "collapsed": true
   },
   "outputs": [],
   "source": []
  },
  {
   "cell_type": "code",
   "execution_count": null,
   "metadata": {
    "collapsed": true
   },
   "outputs": [],
   "source": []
  }
 ],
 "metadata": {
  "kernelspec": {
   "display_name": "Python 3",
   "language": "python",
   "name": "python3"
  },
  "language_info": {
   "codemirror_mode": {
    "name": "ipython",
    "version": 3
   },
   "file_extension": ".py",
   "mimetype": "text/x-python",
   "name": "python",
   "nbconvert_exporter": "python",
   "pygments_lexer": "ipython3",
   "version": "3.6.2"
  }
 },
 "nbformat": 4,
 "nbformat_minor": 2
}
