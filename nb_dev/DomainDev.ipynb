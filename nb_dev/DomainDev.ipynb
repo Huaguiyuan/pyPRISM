{
 "cells": [
  {
   "cell_type": "markdown",
   "metadata": {},
   "source": [
    "# DOMAIN"
   ]
  },
  {
   "cell_type": "code",
   "execution_count": 2,
   "metadata": {
    "ExecuteTime": {
     "end_time": "2017-08-27T14:42:00.496940Z",
     "start_time": "2017-08-27T14:41:59.977739Z"
    },
    "collapsed": true
   },
   "outputs": [],
   "source": [
    "%load_ext memory_profiler\n",
    "%load_ext snakeviz\n",
    "%load_ext cython\n",
    "\n",
    "from IPython.core import debugger\n",
    "ist = debugger.set_trace"
   ]
  },
  {
   "cell_type": "code",
   "execution_count": 3,
   "metadata": {
    "ExecuteTime": {
     "end_time": "2017-08-27T14:42:00.508374Z",
     "start_time": "2017-08-27T14:42:00.499494Z"
    },
    "collapsed": true
   },
   "outputs": [],
   "source": [
    "from py.typyMagics import *\n",
    "ipy = get_ipython()\n",
    "ipy.register_magics(typyMagics)"
   ]
  },
  {
   "cell_type": "code",
   "execution_count": 4,
   "metadata": {
    "ExecuteTime": {
     "end_time": "2017-08-27T14:42:00.518946Z",
     "start_time": "2017-08-27T14:42:00.511762Z"
    },
    "collapsed": true
   },
   "outputs": [],
   "source": [
    "import sys\n",
    "sys.path.insert(0,'../')"
   ]
  },
  {
   "cell_type": "markdown",
   "metadata": {},
   "source": [
    "## DEFINE"
   ]
  },
  {
   "cell_type": "code",
   "execution_count": 5,
   "metadata": {
    "ExecuteTime": {
     "end_time": "2017-08-27T14:42:00.928010Z",
     "start_time": "2017-08-27T14:42:00.915749Z"
    }
   },
   "outputs": [
    {
     "name": "stdout",
     "output_type": "stream",
     "text": [
      "Overwriting ../typyPRISM/core/Space.py\n"
     ]
    }
   ],
   "source": [
    "%%run_and_write ../typyPRISM/core/Space.py\n",
    "#!python\n",
    "from enum import Enum\n",
    "\n",
    "class Space(Enum):\n",
    "    Real    = 1\n",
    "    Fourier = 2\n"
   ]
  },
  {
   "cell_type": "code",
   "execution_count": 20,
   "metadata": {
    "ExecuteTime": {
     "end_time": "2017-08-27T15:02:58.128529Z",
     "start_time": "2017-08-27T15:02:57.744344Z"
    }
   },
   "outputs": [
    {
     "name": "stdout",
     "output_type": "stream",
     "text": [
      "Overwriting ../typyPRISM/core/Domain.py\n"
     ]
    }
   ],
   "source": [
    "%%run_and_write ../typyPRISM/core/Domain.py\n",
    "#!python\n",
    "from __future__ import division,print_function\n",
    "from typyPRISM.core.Space import Space\n",
    "import numpy as np\n",
    "from scipy.fftpack import dst\n",
    "\n",
    "class Domain:\n",
    "    '''Define and transform between Real and Fourier space\n",
    "    \n",
    "    Domain describes the discretization of Real and Fourier space\n",
    "    and also sets up the functions and coefficients for transforming\n",
    "    data between them.\n",
    "    \n",
    "    Attributes\n",
    "    ----------\n",
    "    length: int\n",
    "        Number of gridpoints in Real and Fourier space grid\n",
    "        \n",
    "    dr,dk: float\n",
    "        Grid spacing in Real and Fourier space\n",
    "    \n",
    "    r,k: float ndarray\n",
    "        Numpy arrays of grid locations in Real and Fourier space\n",
    "    \n",
    "    DST_II_coeffs,DST_III_coeffs: float\n",
    "        Coefficients needed for Discrete Sine Transforms. Note that these\n",
    "        values are specific to each implementation of the DST and were \n",
    "        derived for (Scipy's interface to) FFTPACK. \n",
    "    '''\n",
    "    def __init__(self,length,dr=None,dk=None):\n",
    "        self._length = length\n",
    "        \n",
    "        if (dr is None) and (dk is None):\n",
    "            raise ValueError('Real or Fourier grid spacing must be specified')\n",
    "            \n",
    "        elif (dr is not None) and (dk is not None):\n",
    "            raise ValueError('Cannot specify **both** Real and Fourier grid spacings independently.')\n",
    "            \n",
    "        elif dr is not None:\n",
    "            self.dr = dr #dk is set in property setter\n",
    "            \n",
    "        elif dk is not None:\n",
    "            self.dk = dk #dr is set in property setter\n",
    "            \n",
    "            \n",
    "        self.build_grid() #build grid should have been called already but we'll be safe\n",
    "    \n",
    "    def build_grid(self):\n",
    "        '''Construct the Real and Fourier Space grids and transform coefficients'''\n",
    "        self.r = np.arange(self._dr,self._dr*(self._length+1),self._dr)\n",
    "        self.k = np.arange(self.dk,self.dk*(self._length+1),self.dk)\n",
    "        self.DST_II_coeffs = 2.0*np.pi *self.r*self._dr \n",
    "        self.DST_III_coeffs = self.k * self.dk/(4.0*np.pi*np.pi)\n",
    "    \n",
    "    @property\n",
    "    def dr(self):\n",
    "        return self._dr\n",
    "    @dr.setter\n",
    "    def dr(self,value):\n",
    "        self._dr = value\n",
    "        self._dk = np.pi/(self._dr*self._length)\n",
    "        self.build_grid()#need to re-build grid since spacing has changed\n",
    "    \n",
    "    @property\n",
    "    def dk(self):\n",
    "        return self._dk\n",
    "    @dk.setter\n",
    "    def dk(self,value):\n",
    "        self._dk = value\n",
    "        self._dr = np.pi/(self._dk*self._length)\n",
    "        self.build_grid()#need to re-build grid since spacing has changed\n",
    "        \n",
    "    @property\n",
    "    def length(self):\n",
    "        return self._length\n",
    "    @length.setter\n",
    "    def length(self,value):\n",
    "        self._length = value\n",
    "        self.build_grid()#need to re-build grid since length has changed\n",
    "        \n",
    "    def __repr__(self):\n",
    "        return '<Domain length:{} dr/rmax:{:4.3f}/{:3.1f} dk/kmax:{:4.3f}/{:3.1f}>'.format(self.length,self.dr,self.r[-1],self.dk,self.k[-1])\n",
    "    \n",
    "    def to_fourier(self,array):\n",
    "        ''' Discrete Sine Transform of a numpy array \n",
    "        \n",
    "        Peforms a Real-to-Real Discrete Sine Transform  of type II \n",
    "        on a numpy array of non-complex values. For radial data that is \n",
    "        symmetric in \\phi and \\theta, this is **a** correct transform\n",
    "        to go from Real-space to Fourier-space. \n",
    "        \n",
    "        Parameters\n",
    "        ----------\n",
    "        array: float ndarray\n",
    "            Real-space data to be transformed\n",
    "            \n",
    "        Returns\n",
    "        -------\n",
    "        array: float ndarray\n",
    "            data transformed to fourier space\n",
    "        \n",
    "        '''\n",
    "        return dst(self.DST_II_coeffs*array,type=2)/self.k\n",
    "    \n",
    "    def to_real(self,array):\n",
    "        ''' Discrete Sine Transform of a numpy array \n",
    "        \n",
    "        Peforms a Real-to-Real Discrete Sine Transform  of type III \n",
    "        on a numpy array of non-complex values. For radial data that is \n",
    "        symmetric in \\phi and \\theta, this is **a** correct transform\n",
    "        to go from Fourier-space to Real space.\n",
    "        \n",
    "        Parameters\n",
    "        ----------\n",
    "        array: float ndarray\n",
    "            Fourier-space data to be transformed\n",
    "            \n",
    "        Returns\n",
    "        -------\n",
    "        array: float ndarray\n",
    "            data transformed to Real space\n",
    "        \n",
    "        '''\n",
    "        return dst(self.DST_III_coeffs*array,type=3)/self.r\n",
    "    \n",
    "    def MatrixArray_to_fourier(self,marray):\n",
    "        ''' Transform all columns of a MatrixArray to Fourier space in-place'''\n",
    "        if marray.space == Space.Fourier:\n",
    "            raise ValueError('MatrixArray is marked as already in Fourier space')\n",
    "            \n",
    "        for (i,j),(t1,t2),column in marray.itercolumn():\n",
    "            marray[i,j] = self.to_fourier(column)\n",
    "        \n",
    "        marray.space = Space.Fourier\n",
    "            \n",
    "    def MatrixArray_to_real(self,marray):\n",
    "        ''' Transform all columns of a MatrixArray to Real space in-place '''\n",
    "        if marray.space == Space.Real:\n",
    "            raise ValueError('MatrixArray is marked as already in Real space')\n",
    "            \n",
    "        for (i,j),(t1,t2),column in marray.itercolumn():\n",
    "            marray[i,j] = self.to_real(column)\n",
    "            \n",
    "        marray.space = Space.Real\n",
    "            "
   ]
  },
  {
   "cell_type": "code",
   "execution_count": 21,
   "metadata": {
    "ExecuteTime": {
     "end_time": "2017-08-27T15:02:58.847068Z",
     "start_time": "2017-08-27T15:02:58.610091Z"
    }
   },
   "outputs": [
    {
     "name": "stdout",
     "output_type": "stream",
     "text": [
      "Overwriting ../typyPRISM/test/Domain_TestCase.py\n"
     ]
    }
   ],
   "source": [
    "%%run_and_write ../typyPRISM/test/Domain_TestCase.py\n",
    "#!python\n",
    "from __future__ import division,print_function\n",
    "from typyPRISM.core.MatrixArray import MatrixArray\n",
    "from typyPRISM.core.Domain import Domain\n",
    "import unittest\n",
    "import numpy as np\n",
    "\n",
    "class Domain_TestCase(unittest.TestCase):\n",
    "    def test_MatrixArray_loop(self):\n",
    "        '''Can we transform an entire MatrixArray?'''\n",
    "        length = 1024\n",
    "        rank = 3\n",
    "        dr = 0.1\n",
    "        d = Domain(length=length,dr=dr)\n",
    "        \n",
    "        array1 = np.sin(np.arange(0,10*np.pi,0.01))[:length]\n",
    "        array2 = 5*np.sin(np.arange(0,10*np.pi,0.01))[:length]\n",
    "        array3 = np.cos(np.arange(0,10*np.pi,0.01))[:length]\n",
    "        array4 = np.cos(np.arange(0,10*np.pi,0.01))[:length] + np.sin(np.arange(0,10*np.pi,0.01))[:length]\n",
    "        \n",
    "        MA = MatrixArray(length=length,rank=rank)\n",
    "        MA[0,0] = array1\n",
    "        MA[1,1] = array2\n",
    "        MA[1,2] = array3\n",
    "        MA[2,2] = array4\n",
    "        \n",
    "        d.MatrixArray_to_fourier(MA)\n",
    "        np.testing.assert_array_almost_equal(MA[0,0],d.to_fourier(array1))\n",
    "        np.testing.assert_array_almost_equal(MA[1,1],d.to_fourier(array2))\n",
    "        np.testing.assert_array_almost_equal(MA[1,2],d.to_fourier(array3))\n",
    "        np.testing.assert_array_almost_equal(MA[2,1],d.to_fourier(array3))\n",
    "        np.testing.assert_array_almost_equal(MA[2,2],d.to_fourier(array4))\n",
    "        \n",
    "        # This should recover the original values of the MatrixArray\n",
    "        d.MatrixArray_to_real(MA)\n",
    "        np.testing.assert_array_almost_equal(MA[0,0],array1)\n",
    "        np.testing.assert_array_almost_equal(MA[1,1],array2)\n",
    "        np.testing.assert_array_almost_equal(MA[1,2],array3)\n",
    "        np.testing.assert_array_almost_equal(MA[2,1],array3)\n",
    "        np.testing.assert_array_almost_equal(MA[2,2],array4)\n",
    "        \n",
    "    def test_array_loop(self):\n",
    "        '''Can we go to Fourier space and back again?'''\n",
    "        d = Domain(length=1024,dr=0.1)\n",
    "        \n",
    "        real_space_data1 = np.sin(np.arange(0,10*np.pi,0.01))[:1024]\n",
    "        \n",
    "        fourier_space_data = d.to_fourier(real_space_data1)\n",
    "        \n",
    "        real_space_data2 = d.to_real(fourier_space_data)\n",
    "        \n",
    "        # If the DST coefficients are correct, we should get back (within numerical\n",
    "        # precision) the same array we started with.\n",
    "        np.testing.assert_array_almost_equal(real_space_data1,real_space_data2)\n"
   ]
  },
  {
   "cell_type": "code",
   "execution_count": 22,
   "metadata": {
    "ExecuteTime": {
     "end_time": "2017-08-27T15:02:59.204353Z",
     "start_time": "2017-08-27T15:02:59.179867Z"
    }
   },
   "outputs": [
    {
     "name": "stderr",
     "output_type": "stream",
     "text": [
      "test_MatrixArray_loop (__main__.Domain_TestCase)\n",
      "Can we transform an entire MatrixArray? ... ok\n",
      "test_array_loop (__main__.Domain_TestCase)\n",
      "Can we go to Fourier space and back again? ... ok\n",
      "\n",
      "----------------------------------------------------------------------\n",
      "Ran 2 tests in 0.014s\n",
      "\n",
      "OK\n"
     ]
    },
    {
     "data": {
      "text/plain": [
       "<unittest.runner.TextTestResult run=2 errors=0 failures=0>"
      ]
     },
     "execution_count": 22,
     "metadata": {},
     "output_type": "execute_result"
    }
   ],
   "source": [
    "import unittest\n",
    "suite = unittest.TestLoader().loadTestsFromTestCase(Domain_TestCase)\n",
    "unittest.TextTestRunner(verbosity=2).run(suite)"
   ]
  },
  {
   "cell_type": "code",
   "execution_count": null,
   "metadata": {
    "collapsed": true
   },
   "outputs": [],
   "source": []
  },
  {
   "cell_type": "code",
   "execution_count": null,
   "metadata": {
    "collapsed": true
   },
   "outputs": [],
   "source": []
  },
  {
   "cell_type": "code",
   "execution_count": null,
   "metadata": {
    "collapsed": true
   },
   "outputs": [],
   "source": []
  }
 ],
 "metadata": {
  "kernelspec": {
   "display_name": "Python 3",
   "language": "python",
   "name": "python3"
  },
  "language_info": {
   "codemirror_mode": {
    "name": "ipython",
    "version": 3
   },
   "file_extension": ".py",
   "mimetype": "text/x-python",
   "name": "python",
   "nbconvert_exporter": "python",
   "pygments_lexer": "ipython3",
   "version": "3.6.2"
  }
 },
 "nbformat": 4,
 "nbformat_minor": 2
}
