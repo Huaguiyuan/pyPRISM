{
 "cells": [
  {
   "cell_type": "code",
   "execution_count": 1,
   "metadata": {
    "ExecuteTime": {
     "end_time": "2017-07-23T01:04:20.950267Z",
     "start_time": "2017-07-23T01:04:20.937719Z"
    }
   },
   "outputs": [],
   "source": [
    "from py.typyMagics import typyMagics\n",
    "ip = get_ipython()\n",
    "ip.register_magics(typyMagics)"
   ]
  },
  {
   "cell_type": "code",
   "execution_count": 3,
   "metadata": {
    "ExecuteTime": {
     "end_time": "2017-07-23T01:04:34.005704Z",
     "start_time": "2017-07-23T01:04:33.997333Z"
    }
   },
   "outputs": [
    {
     "name": "stdout",
     "output_type": "stream",
     "text": [
      "Overwriting py/test.py\n"
     ]
    }
   ],
   "source": [
    "%%run_and_write py/test.py\n",
    "def test(blargh):\n",
    "    pass"
   ]
  },
  {
   "cell_type": "code",
   "execution_count": 10,
   "metadata": {
    "ExecuteTime": {
     "end_time": "2017-07-23T01:03:21.001454Z",
     "start_time": "2017-07-23T01:03:20.978075Z"
    }
   },
   "outputs": [
    {
     "data": {
      "text/plain": [
       "<function __main__.testt>"
      ]
     },
     "execution_count": 10,
     "metadata": {},
     "output_type": "execute_result"
    }
   ],
   "source": []
  },
  {
   "cell_type": "code",
   "execution_count": null,
   "metadata": {
    "collapsed": true
   },
   "outputs": [],
   "source": []
  }
 ],
 "metadata": {
  "kernelspec": {
   "display_name": "Python 3",
   "language": "python",
   "name": "python3"
  },
  "language_info": {
   "codemirror_mode": {
    "name": "ipython",
    "version": 3
   },
   "file_extension": ".py",
   "mimetype": "text/x-python",
   "name": "python",
   "nbconvert_exporter": "python",
   "pygments_lexer": "ipython3",
   "version": "3.6.1"
  }
 },
 "nbformat": 4,
 "nbformat_minor": 2
}
