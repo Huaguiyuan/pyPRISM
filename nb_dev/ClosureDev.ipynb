{
 "cells": [
  {
   "cell_type": "markdown",
   "metadata": {},
   "source": [
    "# Closure"
   ]
  },
  {
   "cell_type": "code",
   "execution_count": 1,
   "metadata": {
    "ExecuteTime": {
     "end_time": "2017-08-24T20:06:17.850747Z",
     "start_time": "2017-08-24T20:06:17.398678Z"
    }
   },
   "outputs": [],
   "source": [
    "%load_ext memory_profiler\n",
    "%load_ext snakeviz\n",
    "%load_ext cython\n",
    "%load_ext autoreload\n",
    "%autoreload 2\n",
    "\n",
    "\n",
    "from IPython.core import debugger\n",
    "ist = debugger.set_trace"
   ]
  },
  {
   "cell_type": "code",
   "execution_count": 2,
   "metadata": {
    "ExecuteTime": {
     "end_time": "2017-08-24T20:06:18.208948Z",
     "start_time": "2017-08-24T20:06:18.189767Z"
    },
    "collapsed": true
   },
   "outputs": [],
   "source": [
    "from py.typyMagics import *\n",
    "ipy = get_ipython()\n",
    "ipy.register_magics(typyMagics)"
   ]
  },
  {
   "cell_type": "code",
   "execution_count": 3,
   "metadata": {
    "ExecuteTime": {
     "end_time": "2017-08-24T20:06:18.589847Z",
     "start_time": "2017-08-24T20:06:18.571192Z"
    },
    "collapsed": true
   },
   "outputs": [],
   "source": [
    "import sys\n",
    "sys.path.insert(0,'../')"
   ]
  },
  {
   "cell_type": "markdown",
   "metadata": {},
   "source": [
    "## Base Closure"
   ]
  },
  {
   "cell_type": "code",
   "execution_count": 14,
   "metadata": {
    "ExecuteTime": {
     "end_time": "2017-08-25T14:42:47.520267Z",
     "start_time": "2017-08-25T14:42:47.463207Z"
    }
   },
   "outputs": [
    {
     "name": "stdout",
     "output_type": "stream",
     "text": [
      "Overwriting ../typyPRISM/closure/Closure.py\n"
     ]
    }
   ],
   "source": [
    "%%run_and_write ../typyPRISM/closure/Closure.py\n",
    "#!python\n",
    "from __future__ import division,print_function\n",
    "import numpy as np\n",
    "class Closure:\n",
    "    '''Baseclass for all closures \n",
    "    \n",
    "    .. warning::\n",
    "    \n",
    "        Currently, this class doesn't do anything besides group all of the\n",
    "        closures under a single inheritance heirarchy. This will likely\n",
    "        change as needs arise.\n",
    "    '''\n",
    "        "
   ]
  },
  {
   "cell_type": "code",
   "execution_count": 15,
   "metadata": {
    "ExecuteTime": {
     "end_time": "2017-08-25T14:42:48.013361Z",
     "start_time": "2017-08-25T14:42:47.959498Z"
    }
   },
   "outputs": [
    {
     "name": "stdout",
     "output_type": "stream",
     "text": [
      "Overwriting ../typyPRISM/closure/AtomicClosure.py\n"
     ]
    }
   ],
   "source": [
    "%%run_and_write ../typyPRISM/closure/AtomicClosure.py\n",
    "#!python\n",
    "from __future__ import division,print_function\n",
    "import numpy as np\n",
    "class AtomicClosure:\n",
    "    '''Baseclass for all atomic closures\n",
    "    \n",
    "    .. warning::\n",
    "    \n",
    "        Currently, this class doesn't do anything besides group all of the\n",
    "        *atomic* closures under a single inheritance heirarchy. This will \n",
    "        likely change as needs arise.\n",
    "    '''\n",
    "        "
   ]
  },
  {
   "cell_type": "code",
   "execution_count": 16,
   "metadata": {
    "ExecuteTime": {
     "end_time": "2017-08-25T14:42:48.544924Z",
     "start_time": "2017-08-25T14:42:48.468572Z"
    }
   },
   "outputs": [
    {
     "name": "stdout",
     "output_type": "stream",
     "text": [
      "Overwriting ../typyPRISM/closure/MolecularClosure.py\n"
     ]
    }
   ],
   "source": [
    "%%run_and_write ../typyPRISM/closure/MolecularClosure.py\n",
    "#!python\n",
    "from __future__ import division,print_function\n",
    "import numpy as np\n",
    "class MolecularClosure:\n",
    "    '''Baseclass for all *molecular* closures\n",
    "    \n",
    "    .. warning::\n",
    "    \n",
    "        Currently, this class doesn't do anything besides group all of the\n",
    "        *molecular* closures under a single inheritance heirarchy. This will \n",
    "        likely change as needs arise.\n",
    "    '''\n",
    "        "
   ]
  },
  {
   "cell_type": "markdown",
   "metadata": {},
   "source": [
    "## PercusYevick"
   ]
  },
  {
   "cell_type": "code",
   "execution_count": 17,
   "metadata": {
    "ExecuteTime": {
     "end_time": "2017-08-25T14:42:49.706936Z",
     "start_time": "2017-08-25T14:42:49.585853Z"
    }
   },
   "outputs": [
    {
     "name": "stdout",
     "output_type": "stream",
     "text": [
      "Overwriting ../typyPRISM/closure/PercusYevick.py\n"
     ]
    }
   ],
   "source": [
    "%%run_and_write ../typyPRISM/closure/PercusYevick.py\n",
    "#!python\n",
    "from __future__ import division,print_function\n",
    "from typyPRISM.closure.AtomicClosure import AtomicClosure\n",
    "import numpy as np\n",
    "class PercusYevick(AtomicClosure):\n",
    "    '''Percus Yevick closure written in terms of a change of variables\n",
    "    \n",
    "    .. note::\n",
    "    \n",
    "        The change of variables is necessary in order to use potentials with\n",
    "        hard cores. Written in the standard form, this closure diverges with\n",
    "        divergent potentials, which makes it impossible to numerically solve. \n",
    "    \n",
    "    .. math::\n",
    "        \n",
    "        c_{i,j}(r) = (exp(-U_{i,j}(r)) - 1.0) * (1.0 + \\gamma_{i,j}(r))\n",
    "        \n",
    "        \\gamma_{i,j}(r) =  h_{i,j}(r) - c_{i,j}(r)\n",
    "    \n",
    "    '''\n",
    "    def __init__(self):\n",
    "        self.potential = None\n",
    "        self.value = None\n",
    "        \n",
    "    def __repr__(self):\n",
    "        return '<AtomicClosure: PercusYevick>'\n",
    "    \n",
    "    def calculate(self,gamma):\n",
    "        \n",
    "        assert self.potential is not None,'Potential for this closure is not set!'\n",
    "        \n",
    "        assert len(gamma) == len(self.potential),'Domain mismatch!'\n",
    "        \n",
    "        self.value = (np.exp(-self.potential)-1.0)*(1.0+gamma)\n",
    "        \n",
    "        return self.value\n",
    "        \n",
    "        "
   ]
  },
  {
   "cell_type": "code",
   "execution_count": 18,
   "metadata": {
    "ExecuteTime": {
     "end_time": "2017-08-25T14:42:50.056222Z",
     "start_time": "2017-08-25T14:42:49.972265Z"
    }
   },
   "outputs": [
    {
     "name": "stdout",
     "output_type": "stream",
     "text": [
      "Overwriting ../typyPRISM/test/PercusYevick_TestCase.py\n"
     ]
    }
   ],
   "source": [
    "%%run_and_write ../typyPRISM/test/PercusYevick_TestCase.py\n",
    "#!python\n",
    "from __future__ import division,print_function\n",
    "from typyPRISM.closure import PercusYevick\n",
    "import unittest\n",
    "import numpy as np\n",
    "\n",
    "class PercusYevick_TestCase(unittest.TestCase):\n",
    "    def test_create(self):\n",
    "        '''Can we create a PercusYevick closure ?'''\n",
    "        r = np.arange(0.75,3.5,0.05)\n",
    "        U = np.zeros_like(r)\n",
    "        U[r<1.0] = 1e6\n",
    "        \n",
    "        gamma = np.zeros_like(r)\n",
    "        C1 = (np.exp(-U) - 1.0)*(1.0 + gamma)\n",
    "        \n",
    "        \n",
    "        PY = PercusYevick()\n",
    "        PY.potential = U\n",
    "        C2 = PY.calculate(gamma)\n",
    "        np.testing.assert_array_almost_equal(C1,C2)\n",
    "        \n",
    "        \n"
   ]
  },
  {
   "cell_type": "markdown",
   "metadata": {},
   "source": [
    "## HypernettedChain"
   ]
  },
  {
   "cell_type": "code",
   "execution_count": 19,
   "metadata": {
    "ExecuteTime": {
     "end_time": "2017-08-25T14:42:50.426237Z",
     "start_time": "2017-08-25T14:42:50.332029Z"
    }
   },
   "outputs": [
    {
     "name": "stdout",
     "output_type": "stream",
     "text": [
      "Overwriting ../typyPRISM/closure/HyperNettedChain.py\n"
     ]
    }
   ],
   "source": [
    "%%run_and_write ../typyPRISM/closure/HyperNettedChain.py\n",
    "#!python\n",
    "from __future__ import division,print_function\n",
    "from typyPRISM.closure.AtomicClosure import AtomicClosure\n",
    "import numpy as np\n",
    "class HyperNettedChain(AtomicClosure):\n",
    "    '''HyperNettedChain closure written in terms of a change of variables\n",
    "    \n",
    "    .. note::\n",
    "    \n",
    "        The change of variables is necessary in order to use potentials with\n",
    "        hard cores. Written in the standard form, this closure diverges with\n",
    "        divergent potentials, which makes it impossible to numerically solve. \n",
    "    \n",
    "    .. math::\n",
    "        \n",
    "        c_{i,j}(r) = exp(\\gamma_{i,j}(r)-U_{i,j}(r)) - 1.0 -  \\gamma_{i,j}(r)\n",
    "        \n",
    "        \\gamma_{i,j}(r) =  h_{i,j}(r) - c_{i,j}(r)\n",
    "    \n",
    "    '''\n",
    "    def __init__(self):\n",
    "        self.potential = None\n",
    "        self.value = None\n",
    "        \n",
    "    def __repr__(self):\n",
    "        return '<AtomicClosure: HyperNettedChain>'\n",
    "    \n",
    "    def calculate(self,gamma):\n",
    "        \n",
    "        assert self.potential is not None,'Potential for this closure is not set!'\n",
    "        \n",
    "        assert len(gamma) == len(self.potential),'Domain mismatch!'\n",
    "        \n",
    "        self.value = np.exp(gamma - self.potential) - 1.0 - gamma\n",
    "        \n",
    "        return self.value\n",
    "        \n",
    "        "
   ]
  },
  {
   "cell_type": "code",
   "execution_count": 20,
   "metadata": {
    "ExecuteTime": {
     "end_time": "2017-08-25T14:42:50.641499Z",
     "start_time": "2017-08-25T14:42:50.519974Z"
    }
   },
   "outputs": [
    {
     "name": "stdout",
     "output_type": "stream",
     "text": [
      "Overwriting ../typyPRISM/test/HyperNettedChain_TestCase.py\n"
     ]
    }
   ],
   "source": [
    "%%run_and_write ../typyPRISM/test/HyperNettedChain_TestCase.py\n",
    "#!python\n",
    "from __future__ import division,print_function\n",
    "from typyPRISM.closure import HyperNettedChain\n",
    "import unittest\n",
    "import numpy as np\n",
    "\n",
    "class HyperNettedChain_TestCase(unittest.TestCase):\n",
    "    def test_create(self):\n",
    "        '''Can we create a HyperHyperNettedChain closure ?'''\n",
    "        r = np.arange(0.75,3.5,0.05)\n",
    "        U = np.zeros_like(r)\n",
    "        U[r<1.0] = 1e6\n",
    "        \n",
    "        gamma = np.zeros_like(r)\n",
    "        C1 = np.exp(gamma-U) - 1.0 - gamma\n",
    "        \n",
    "        \n",
    "        HNC = HyperNettedChain()\n",
    "        HNC.potential = U\n",
    "        C2 = HNC.calculate(gamma)\n",
    "        np.testing.assert_array_almost_equal(C1,C2)\n",
    "        \n",
    "        \n"
   ]
  },
  {
   "cell_type": "markdown",
   "metadata": {},
   "source": [
    "## Molecular PercusYevick"
   ]
  },
  {
   "cell_type": "code",
   "execution_count": 46,
   "metadata": {
    "ExecuteTime": {
     "end_time": "2017-08-25T14:49:02.131687Z",
     "start_time": "2017-08-25T14:49:02.004948Z"
    }
   },
   "outputs": [
    {
     "name": "stdout",
     "output_type": "stream",
     "text": [
      "Overwriting ../typyPRISM/closure/MolecularPercusYevick.py\n"
     ]
    }
   ],
   "source": [
    "%%run_and_write ../typyPRISM/closure/MolecularPercusYevick.py\n",
    "#!python\n",
    "from __future__ import division,print_function\n",
    "from typyPRISM.closure.MolecularClosure import MolecularClosure\n",
    "from typyPRISM.closure.PercusYevick import PercusYevick\n",
    "from scipy.signal import fftconvolve\n",
    "import numpy as np\n",
    "class MolecularPercusYevick(MolecularClosure):\n",
    "    '''Molecular Percus Yevick closure written in terms of a change of variables\n",
    "    \n",
    "    .. note::\n",
    "    \n",
    "        The change of variables is necessary in order to use potentials with\n",
    "        hard cores. Written in the standard form, this closure diverges with\n",
    "        divergent potentials, which makes it impossible to numerically solve. \n",
    "    \n",
    "    .. math::\n",
    "        \n",
    "        c_{i,j}(r) = \\omega(r) \\star (exp(-U_{i,j}(r)) - 1.0) * (1.0 + \\gamma_{i,j}(r)) \\star \\omega(r) \\star\n",
    "        \n",
    "        \\gamma_{i,j}(r) =  h_{i,j}(r) - c_{i,j}(r)\n",
    "    \n",
    "    '''\n",
    "    def __init__(self):\n",
    "        self._potential = None\n",
    "        self.value = None\n",
    "        self.atomic_closure = PercusYevick()\n",
    "        \n",
    "    @property\n",
    "    def potential(self):\n",
    "        return self._potential\n",
    "    \n",
    "    @potential.setter\n",
    "    def potential(self,value):\n",
    "        self._potential = value\n",
    "        self.atomic_closure.potential = value\n",
    "        \n",
    "    def __repr__(self):\n",
    "        return '<MolecularClosure: PercusYevick>'\n",
    "    \n",
    "    def calculate(self,gamma,omega1,omega2):\n",
    "        \n",
    "        assert self.potential is not None,'Potential for this closure is not set!'\n",
    "        \n",
    "        assert len(gamma) == len(self.potential),'Domain mismatch!'\n",
    "        \n",
    "        atomic_value = self.atomic_closure.calculate(gamma)\n",
    "        \n",
    "        # self.value = fftconvolve(fftconvolve(omega1,atomic_value,mode='same'),omega2,mode='same')\n",
    "        self.value = np.convolve(np.convolve(omega1,atomic_value,mode='same'),omega2,mode='same')\n",
    "        \n",
    "        return self.value\n",
    "        \n",
    "        "
   ]
  },
  {
   "cell_type": "code",
   "execution_count": 47,
   "metadata": {
    "ExecuteTime": {
     "end_time": "2017-08-25T14:49:02.754372Z",
     "start_time": "2017-08-25T14:49:02.671268Z"
    }
   },
   "outputs": [
    {
     "name": "stdout",
     "output_type": "stream",
     "text": [
      "Overwriting ../typyPRISM/test/MolecularPercusYevick_TestCase.py\n"
     ]
    }
   ],
   "source": [
    "%%run_and_write ../typyPRISM/test/MolecularPercusYevick_TestCase.py\n",
    "#!python\n",
    "from __future__ import division,print_function\n",
    "from typyPRISM.closure import MolecularPercusYevick\n",
    "from scipy.signal import fftconvolve\n",
    "import unittest\n",
    "import numpy as np\n",
    "\n",
    "class MolecularPercusYevick_TestCase(unittest.TestCase):\n",
    "    def test_create(self):\n",
    "        '''Can we create a MolecularPercusYevick closure ?'''\n",
    "        r = np.arange(0.75,3.5,0.05)\n",
    "        U = np.zeros_like(r)\n",
    "        U[r<1.0] = 1e6\n",
    "        \n",
    "        omega = np.ones_like(r)\n",
    "        \n",
    "        gamma = np.zeros_like(r)\n",
    "        C1 = (np.exp(-U) - 1.0)*(1.0 + gamma)\n",
    "        \n",
    "        C1 = fftconvolve(fftconvolve(omega,C1,mode='same'),omega,mode='same')\n",
    "        \n",
    "        \n",
    "        PY = MolecularPercusYevick()\n",
    "        PY.potential = U\n",
    "        C2 = PY.calculate(gamma,omega,omega)\n",
    "        np.testing.assert_array_almost_equal(C1,C2)\n",
    "        \n",
    "        \n"
   ]
  },
  {
   "cell_type": "markdown",
   "metadata": {},
   "source": [
    "## RUN ALL"
   ]
  },
  {
   "cell_type": "code",
   "execution_count": 48,
   "metadata": {
    "ExecuteTime": {
     "end_time": "2017-08-25T14:49:03.708734Z",
     "start_time": "2017-08-25T14:49:03.663284Z"
    }
   },
   "outputs": [
    {
     "name": "stderr",
     "output_type": "stream",
     "text": [
      "test_create (__main__.MolecularPercusYevick_TestCase)\n",
      "Can we create a MolecularPercusYevick closure ? ... ok\n",
      "test_create (__main__.PercusYevick_TestCase)\n",
      "Can we create a PercusYevick closure ? ... ok\n",
      "test_create (__main__.HyperNettedChain_TestCase)\n",
      "Can we create a HyperHyperNettedChain closure ? ... ok\n",
      "\n",
      "----------------------------------------------------------------------\n",
      "Ran 3 tests in 0.008s\n",
      "\n",
      "OK\n"
     ]
    },
    {
     "data": {
      "text/plain": [
       "<unittest.runner.TextTestResult run=3 errors=0 failures=0>"
      ]
     },
     "execution_count": 48,
     "metadata": {},
     "output_type": "execute_result"
    }
   ],
   "source": [
    "import unittest\n",
    "suite = []\n",
    "suite.append(unittest.TestLoader().loadTestsFromTestCase(MolecularPercusYevick_TestCase))\n",
    "suite.append(unittest.TestLoader().loadTestsFromTestCase(PercusYevick_TestCase))\n",
    "suite.append(unittest.TestLoader().loadTestsFromTestCase(HyperNettedChain_TestCase))\n",
    "suite = unittest.TestSuite(suite)\n",
    "unittest.TextTestRunner(verbosity=2).run(suite)"
   ]
  },
  {
   "cell_type": "code",
   "execution_count": null,
   "metadata": {
    "collapsed": true
   },
   "outputs": [],
   "source": []
  },
  {
   "cell_type": "code",
   "execution_count": null,
   "metadata": {
    "collapsed": true
   },
   "outputs": [],
   "source": []
  },
  {
   "cell_type": "code",
   "execution_count": null,
   "metadata": {
    "collapsed": true
   },
   "outputs": [],
   "source": []
  }
 ],
 "metadata": {
  "kernelspec": {
   "display_name": "Python 3",
   "language": "python",
   "name": "python3"
  },
  "language_info": {
   "codemirror_mode": {
    "name": "ipython",
    "version": 3
   },
   "file_extension": ".py",
   "mimetype": "text/x-python",
   "name": "python",
   "nbconvert_exporter": "python",
   "pygments_lexer": "ipython3",
   "version": "3.6.2"
  }
 },
 "nbformat": 4,
 "nbformat_minor": 2
}
